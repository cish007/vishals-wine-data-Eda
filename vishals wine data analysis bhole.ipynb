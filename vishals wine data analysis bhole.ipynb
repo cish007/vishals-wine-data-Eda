{
 "cells": [
  {
   "cell_type": "code",
   "execution_count": 520,
   "id": "9c64f6ec",
   "metadata": {},
   "outputs": [],
   "source": [
    "import pandas as pd"
   ]
  },
  {
   "cell_type": "code",
   "execution_count": 521,
   "id": "e182fb42",
   "metadata": {},
   "outputs": [],
   "source": [
    "import numpy as np"
   ]
  },
  {
   "cell_type": "code",
   "execution_count": 522,
   "id": "4e645286",
   "metadata": {},
   "outputs": [],
   "source": [
    "\n",
    "import matplotlib.pyplot as plt"
   ]
  },
  {
   "cell_type": "code",
   "execution_count": 523,
   "id": "1eb21cc7",
   "metadata": {},
   "outputs": [],
   "source": [
    "import seaborn as sns"
   ]
  },
  {
   "cell_type": "code",
   "execution_count": 524,
   "id": "7784cfc5",
   "metadata": {},
   "outputs": [],
   "source": [
    "from sklearn.preprocessing import StandardScaler"
   ]
  },
  {
   "cell_type": "code",
   "execution_count": 525,
   "id": "563091e7",
   "metadata": {},
   "outputs": [],
   "source": [
    "wine_df=pd.read_csv('C:\\\\Users\\\\Vishal\\\\Downloads\\\\wine data.csv')"
   ]
  },
  {
   "cell_type": "code",
   "execution_count": 526,
   "id": "90e3777c",
   "metadata": {},
   "outputs": [
    {
     "data": {
      "text/html": [
       "<div>\n",
       "<style scoped>\n",
       "    .dataframe tbody tr th:only-of-type {\n",
       "        vertical-align: middle;\n",
       "    }\n",
       "\n",
       "    .dataframe tbody tr th {\n",
       "        vertical-align: top;\n",
       "    }\n",
       "\n",
       "    .dataframe thead th {\n",
       "        text-align: right;\n",
       "    }\n",
       "</style>\n",
       "<table border=\"1\" class=\"dataframe\">\n",
       "  <thead>\n",
       "    <tr style=\"text-align: right;\">\n",
       "      <th></th>\n",
       "      <th>type</th>\n",
       "      <th>fixed acidity</th>\n",
       "      <th>volatile acidity</th>\n",
       "      <th>citric acid</th>\n",
       "      <th>residual sugar</th>\n",
       "      <th>chlorides</th>\n",
       "      <th>free sulfur dioxide</th>\n",
       "      <th>total sulfur dioxide</th>\n",
       "      <th>density</th>\n",
       "      <th>pH</th>\n",
       "      <th>sulphates</th>\n",
       "      <th>alcohol</th>\n",
       "      <th>quality</th>\n",
       "    </tr>\n",
       "  </thead>\n",
       "  <tbody>\n",
       "    <tr>\n",
       "      <th>0</th>\n",
       "      <td>white</td>\n",
       "      <td>7.0</td>\n",
       "      <td>0.270</td>\n",
       "      <td>0.36</td>\n",
       "      <td>20.7</td>\n",
       "      <td>0.045</td>\n",
       "      <td>45.0</td>\n",
       "      <td>170.0</td>\n",
       "      <td>1.00100</td>\n",
       "      <td>3.00</td>\n",
       "      <td>0.45</td>\n",
       "      <td>8.8</td>\n",
       "      <td>6</td>\n",
       "    </tr>\n",
       "    <tr>\n",
       "      <th>1</th>\n",
       "      <td>white</td>\n",
       "      <td>6.3</td>\n",
       "      <td>0.300</td>\n",
       "      <td>0.34</td>\n",
       "      <td>1.6</td>\n",
       "      <td>0.049</td>\n",
       "      <td>14.0</td>\n",
       "      <td>132.0</td>\n",
       "      <td>0.99400</td>\n",
       "      <td>3.30</td>\n",
       "      <td>0.49</td>\n",
       "      <td>9.5</td>\n",
       "      <td>6</td>\n",
       "    </tr>\n",
       "    <tr>\n",
       "      <th>2</th>\n",
       "      <td>white</td>\n",
       "      <td>8.1</td>\n",
       "      <td>0.280</td>\n",
       "      <td>0.40</td>\n",
       "      <td>6.9</td>\n",
       "      <td>0.050</td>\n",
       "      <td>30.0</td>\n",
       "      <td>97.0</td>\n",
       "      <td>0.99510</td>\n",
       "      <td>3.26</td>\n",
       "      <td>0.44</td>\n",
       "      <td>10.1</td>\n",
       "      <td>6</td>\n",
       "    </tr>\n",
       "    <tr>\n",
       "      <th>3</th>\n",
       "      <td>white</td>\n",
       "      <td>7.2</td>\n",
       "      <td>0.230</td>\n",
       "      <td>0.32</td>\n",
       "      <td>8.5</td>\n",
       "      <td>0.058</td>\n",
       "      <td>47.0</td>\n",
       "      <td>186.0</td>\n",
       "      <td>0.99560</td>\n",
       "      <td>3.19</td>\n",
       "      <td>0.40</td>\n",
       "      <td>9.9</td>\n",
       "      <td>6</td>\n",
       "    </tr>\n",
       "    <tr>\n",
       "      <th>4</th>\n",
       "      <td>white</td>\n",
       "      <td>7.2</td>\n",
       "      <td>0.230</td>\n",
       "      <td>0.32</td>\n",
       "      <td>8.5</td>\n",
       "      <td>0.058</td>\n",
       "      <td>47.0</td>\n",
       "      <td>186.0</td>\n",
       "      <td>0.99560</td>\n",
       "      <td>3.19</td>\n",
       "      <td>0.40</td>\n",
       "      <td>9.9</td>\n",
       "      <td>6</td>\n",
       "    </tr>\n",
       "    <tr>\n",
       "      <th>...</th>\n",
       "      <td>...</td>\n",
       "      <td>...</td>\n",
       "      <td>...</td>\n",
       "      <td>...</td>\n",
       "      <td>...</td>\n",
       "      <td>...</td>\n",
       "      <td>...</td>\n",
       "      <td>...</td>\n",
       "      <td>...</td>\n",
       "      <td>...</td>\n",
       "      <td>...</td>\n",
       "      <td>...</td>\n",
       "      <td>...</td>\n",
       "    </tr>\n",
       "    <tr>\n",
       "      <th>6492</th>\n",
       "      <td>red</td>\n",
       "      <td>6.2</td>\n",
       "      <td>0.600</td>\n",
       "      <td>0.08</td>\n",
       "      <td>2.0</td>\n",
       "      <td>0.090</td>\n",
       "      <td>32.0</td>\n",
       "      <td>44.0</td>\n",
       "      <td>0.99490</td>\n",
       "      <td>3.45</td>\n",
       "      <td>0.58</td>\n",
       "      <td>10.5</td>\n",
       "      <td>5</td>\n",
       "    </tr>\n",
       "    <tr>\n",
       "      <th>6493</th>\n",
       "      <td>red</td>\n",
       "      <td>5.9</td>\n",
       "      <td>0.550</td>\n",
       "      <td>0.10</td>\n",
       "      <td>2.2</td>\n",
       "      <td>0.062</td>\n",
       "      <td>39.0</td>\n",
       "      <td>51.0</td>\n",
       "      <td>0.99512</td>\n",
       "      <td>3.52</td>\n",
       "      <td>NaN</td>\n",
       "      <td>11.2</td>\n",
       "      <td>6</td>\n",
       "    </tr>\n",
       "    <tr>\n",
       "      <th>6494</th>\n",
       "      <td>red</td>\n",
       "      <td>6.3</td>\n",
       "      <td>0.510</td>\n",
       "      <td>0.13</td>\n",
       "      <td>2.3</td>\n",
       "      <td>0.076</td>\n",
       "      <td>29.0</td>\n",
       "      <td>40.0</td>\n",
       "      <td>0.99574</td>\n",
       "      <td>3.42</td>\n",
       "      <td>0.75</td>\n",
       "      <td>11.0</td>\n",
       "      <td>6</td>\n",
       "    </tr>\n",
       "    <tr>\n",
       "      <th>6495</th>\n",
       "      <td>red</td>\n",
       "      <td>5.9</td>\n",
       "      <td>0.645</td>\n",
       "      <td>0.12</td>\n",
       "      <td>2.0</td>\n",
       "      <td>0.075</td>\n",
       "      <td>32.0</td>\n",
       "      <td>44.0</td>\n",
       "      <td>0.99547</td>\n",
       "      <td>3.57</td>\n",
       "      <td>0.71</td>\n",
       "      <td>10.2</td>\n",
       "      <td>5</td>\n",
       "    </tr>\n",
       "    <tr>\n",
       "      <th>6496</th>\n",
       "      <td>red</td>\n",
       "      <td>6.0</td>\n",
       "      <td>0.310</td>\n",
       "      <td>0.47</td>\n",
       "      <td>3.6</td>\n",
       "      <td>0.067</td>\n",
       "      <td>18.0</td>\n",
       "      <td>42.0</td>\n",
       "      <td>0.99549</td>\n",
       "      <td>3.39</td>\n",
       "      <td>0.66</td>\n",
       "      <td>11.0</td>\n",
       "      <td>6</td>\n",
       "    </tr>\n",
       "  </tbody>\n",
       "</table>\n",
       "<p>6497 rows × 13 columns</p>\n",
       "</div>"
      ],
      "text/plain": [
       "       type  fixed acidity  volatile acidity  citric acid  residual sugar  \\\n",
       "0     white            7.0             0.270         0.36            20.7   \n",
       "1     white            6.3             0.300         0.34             1.6   \n",
       "2     white            8.1             0.280         0.40             6.9   \n",
       "3     white            7.2             0.230         0.32             8.5   \n",
       "4     white            7.2             0.230         0.32             8.5   \n",
       "...     ...            ...               ...          ...             ...   \n",
       "6492    red            6.2             0.600         0.08             2.0   \n",
       "6493    red            5.9             0.550         0.10             2.2   \n",
       "6494    red            6.3             0.510         0.13             2.3   \n",
       "6495    red            5.9             0.645         0.12             2.0   \n",
       "6496    red            6.0             0.310         0.47             3.6   \n",
       "\n",
       "      chlorides  free sulfur dioxide  total sulfur dioxide  density    pH  \\\n",
       "0         0.045                 45.0                 170.0  1.00100  3.00   \n",
       "1         0.049                 14.0                 132.0  0.99400  3.30   \n",
       "2         0.050                 30.0                  97.0  0.99510  3.26   \n",
       "3         0.058                 47.0                 186.0  0.99560  3.19   \n",
       "4         0.058                 47.0                 186.0  0.99560  3.19   \n",
       "...         ...                  ...                   ...      ...   ...   \n",
       "6492      0.090                 32.0                  44.0  0.99490  3.45   \n",
       "6493      0.062                 39.0                  51.0  0.99512  3.52   \n",
       "6494      0.076                 29.0                  40.0  0.99574  3.42   \n",
       "6495      0.075                 32.0                  44.0  0.99547  3.57   \n",
       "6496      0.067                 18.0                  42.0  0.99549  3.39   \n",
       "\n",
       "      sulphates  alcohol  quality  \n",
       "0          0.45      8.8        6  \n",
       "1          0.49      9.5        6  \n",
       "2          0.44     10.1        6  \n",
       "3          0.40      9.9        6  \n",
       "4          0.40      9.9        6  \n",
       "...         ...      ...      ...  \n",
       "6492       0.58     10.5        5  \n",
       "6493        NaN     11.2        6  \n",
       "6494       0.75     11.0        6  \n",
       "6495       0.71     10.2        5  \n",
       "6496       0.66     11.0        6  \n",
       "\n",
       "[6497 rows x 13 columns]"
      ]
     },
     "execution_count": 526,
     "metadata": {},
     "output_type": "execute_result"
    }
   ],
   "source": [
    "wine_df"
   ]
  },
  {
   "cell_type": "code",
   "execution_count": 527,
   "id": "2d6108fd",
   "metadata": {},
   "outputs": [
    {
     "data": {
      "text/html": [
       "<div>\n",
       "<style scoped>\n",
       "    .dataframe tbody tr th:only-of-type {\n",
       "        vertical-align: middle;\n",
       "    }\n",
       "\n",
       "    .dataframe tbody tr th {\n",
       "        vertical-align: top;\n",
       "    }\n",
       "\n",
       "    .dataframe thead th {\n",
       "        text-align: right;\n",
       "    }\n",
       "</style>\n",
       "<table border=\"1\" class=\"dataframe\">\n",
       "  <thead>\n",
       "    <tr style=\"text-align: right;\">\n",
       "      <th></th>\n",
       "      <th>type</th>\n",
       "      <th>fixed acidity</th>\n",
       "      <th>volatile acidity</th>\n",
       "      <th>citric acid</th>\n",
       "      <th>residual sugar</th>\n",
       "      <th>chlorides</th>\n",
       "      <th>free sulfur dioxide</th>\n",
       "      <th>total sulfur dioxide</th>\n",
       "      <th>density</th>\n",
       "      <th>pH</th>\n",
       "      <th>sulphates</th>\n",
       "      <th>alcohol</th>\n",
       "      <th>quality</th>\n",
       "    </tr>\n",
       "  </thead>\n",
       "  <tbody>\n",
       "    <tr>\n",
       "      <th>0</th>\n",
       "      <td>white</td>\n",
       "      <td>7.0</td>\n",
       "      <td>0.27</td>\n",
       "      <td>0.36</td>\n",
       "      <td>20.7</td>\n",
       "      <td>0.045</td>\n",
       "      <td>45.0</td>\n",
       "      <td>170.0</td>\n",
       "      <td>1.0010</td>\n",
       "      <td>3.00</td>\n",
       "      <td>0.45</td>\n",
       "      <td>8.8</td>\n",
       "      <td>6</td>\n",
       "    </tr>\n",
       "    <tr>\n",
       "      <th>1</th>\n",
       "      <td>white</td>\n",
       "      <td>6.3</td>\n",
       "      <td>0.30</td>\n",
       "      <td>0.34</td>\n",
       "      <td>1.6</td>\n",
       "      <td>0.049</td>\n",
       "      <td>14.0</td>\n",
       "      <td>132.0</td>\n",
       "      <td>0.9940</td>\n",
       "      <td>3.30</td>\n",
       "      <td>0.49</td>\n",
       "      <td>9.5</td>\n",
       "      <td>6</td>\n",
       "    </tr>\n",
       "    <tr>\n",
       "      <th>2</th>\n",
       "      <td>white</td>\n",
       "      <td>8.1</td>\n",
       "      <td>0.28</td>\n",
       "      <td>0.40</td>\n",
       "      <td>6.9</td>\n",
       "      <td>0.050</td>\n",
       "      <td>30.0</td>\n",
       "      <td>97.0</td>\n",
       "      <td>0.9951</td>\n",
       "      <td>3.26</td>\n",
       "      <td>0.44</td>\n",
       "      <td>10.1</td>\n",
       "      <td>6</td>\n",
       "    </tr>\n",
       "    <tr>\n",
       "      <th>3</th>\n",
       "      <td>white</td>\n",
       "      <td>7.2</td>\n",
       "      <td>0.23</td>\n",
       "      <td>0.32</td>\n",
       "      <td>8.5</td>\n",
       "      <td>0.058</td>\n",
       "      <td>47.0</td>\n",
       "      <td>186.0</td>\n",
       "      <td>0.9956</td>\n",
       "      <td>3.19</td>\n",
       "      <td>0.40</td>\n",
       "      <td>9.9</td>\n",
       "      <td>6</td>\n",
       "    </tr>\n",
       "    <tr>\n",
       "      <th>4</th>\n",
       "      <td>white</td>\n",
       "      <td>7.2</td>\n",
       "      <td>0.23</td>\n",
       "      <td>0.32</td>\n",
       "      <td>8.5</td>\n",
       "      <td>0.058</td>\n",
       "      <td>47.0</td>\n",
       "      <td>186.0</td>\n",
       "      <td>0.9956</td>\n",
       "      <td>3.19</td>\n",
       "      <td>0.40</td>\n",
       "      <td>9.9</td>\n",
       "      <td>6</td>\n",
       "    </tr>\n",
       "  </tbody>\n",
       "</table>\n",
       "</div>"
      ],
      "text/plain": [
       "    type  fixed acidity  volatile acidity  citric acid  residual sugar  \\\n",
       "0  white            7.0              0.27         0.36            20.7   \n",
       "1  white            6.3              0.30         0.34             1.6   \n",
       "2  white            8.1              0.28         0.40             6.9   \n",
       "3  white            7.2              0.23         0.32             8.5   \n",
       "4  white            7.2              0.23         0.32             8.5   \n",
       "\n",
       "   chlorides  free sulfur dioxide  total sulfur dioxide  density    pH  \\\n",
       "0      0.045                 45.0                 170.0   1.0010  3.00   \n",
       "1      0.049                 14.0                 132.0   0.9940  3.30   \n",
       "2      0.050                 30.0                  97.0   0.9951  3.26   \n",
       "3      0.058                 47.0                 186.0   0.9956  3.19   \n",
       "4      0.058                 47.0                 186.0   0.9956  3.19   \n",
       "\n",
       "   sulphates  alcohol  quality  \n",
       "0       0.45      8.8        6  \n",
       "1       0.49      9.5        6  \n",
       "2       0.44     10.1        6  \n",
       "3       0.40      9.9        6  \n",
       "4       0.40      9.9        6  "
      ]
     },
     "execution_count": 527,
     "metadata": {},
     "output_type": "execute_result"
    }
   ],
   "source": [
    "wine_df.head()"
   ]
  },
  {
   "cell_type": "code",
   "execution_count": 528,
   "id": "c1a04736",
   "metadata": {},
   "outputs": [
    {
     "data": {
      "text/html": [
       "<div>\n",
       "<style scoped>\n",
       "    .dataframe tbody tr th:only-of-type {\n",
       "        vertical-align: middle;\n",
       "    }\n",
       "\n",
       "    .dataframe tbody tr th {\n",
       "        vertical-align: top;\n",
       "    }\n",
       "\n",
       "    .dataframe thead th {\n",
       "        text-align: right;\n",
       "    }\n",
       "</style>\n",
       "<table border=\"1\" class=\"dataframe\">\n",
       "  <thead>\n",
       "    <tr style=\"text-align: right;\">\n",
       "      <th></th>\n",
       "      <th>type</th>\n",
       "      <th>fixed acidity</th>\n",
       "      <th>volatile acidity</th>\n",
       "      <th>citric acid</th>\n",
       "      <th>residual sugar</th>\n",
       "      <th>chlorides</th>\n",
       "      <th>free sulfur dioxide</th>\n",
       "      <th>total sulfur dioxide</th>\n",
       "      <th>density</th>\n",
       "      <th>pH</th>\n",
       "      <th>sulphates</th>\n",
       "      <th>alcohol</th>\n",
       "      <th>quality</th>\n",
       "    </tr>\n",
       "  </thead>\n",
       "  <tbody>\n",
       "    <tr>\n",
       "      <th>6492</th>\n",
       "      <td>red</td>\n",
       "      <td>6.2</td>\n",
       "      <td>0.600</td>\n",
       "      <td>0.08</td>\n",
       "      <td>2.0</td>\n",
       "      <td>0.090</td>\n",
       "      <td>32.0</td>\n",
       "      <td>44.0</td>\n",
       "      <td>0.99490</td>\n",
       "      <td>3.45</td>\n",
       "      <td>0.58</td>\n",
       "      <td>10.5</td>\n",
       "      <td>5</td>\n",
       "    </tr>\n",
       "    <tr>\n",
       "      <th>6493</th>\n",
       "      <td>red</td>\n",
       "      <td>5.9</td>\n",
       "      <td>0.550</td>\n",
       "      <td>0.10</td>\n",
       "      <td>2.2</td>\n",
       "      <td>0.062</td>\n",
       "      <td>39.0</td>\n",
       "      <td>51.0</td>\n",
       "      <td>0.99512</td>\n",
       "      <td>3.52</td>\n",
       "      <td>NaN</td>\n",
       "      <td>11.2</td>\n",
       "      <td>6</td>\n",
       "    </tr>\n",
       "    <tr>\n",
       "      <th>6494</th>\n",
       "      <td>red</td>\n",
       "      <td>6.3</td>\n",
       "      <td>0.510</td>\n",
       "      <td>0.13</td>\n",
       "      <td>2.3</td>\n",
       "      <td>0.076</td>\n",
       "      <td>29.0</td>\n",
       "      <td>40.0</td>\n",
       "      <td>0.99574</td>\n",
       "      <td>3.42</td>\n",
       "      <td>0.75</td>\n",
       "      <td>11.0</td>\n",
       "      <td>6</td>\n",
       "    </tr>\n",
       "    <tr>\n",
       "      <th>6495</th>\n",
       "      <td>red</td>\n",
       "      <td>5.9</td>\n",
       "      <td>0.645</td>\n",
       "      <td>0.12</td>\n",
       "      <td>2.0</td>\n",
       "      <td>0.075</td>\n",
       "      <td>32.0</td>\n",
       "      <td>44.0</td>\n",
       "      <td>0.99547</td>\n",
       "      <td>3.57</td>\n",
       "      <td>0.71</td>\n",
       "      <td>10.2</td>\n",
       "      <td>5</td>\n",
       "    </tr>\n",
       "    <tr>\n",
       "      <th>6496</th>\n",
       "      <td>red</td>\n",
       "      <td>6.0</td>\n",
       "      <td>0.310</td>\n",
       "      <td>0.47</td>\n",
       "      <td>3.6</td>\n",
       "      <td>0.067</td>\n",
       "      <td>18.0</td>\n",
       "      <td>42.0</td>\n",
       "      <td>0.99549</td>\n",
       "      <td>3.39</td>\n",
       "      <td>0.66</td>\n",
       "      <td>11.0</td>\n",
       "      <td>6</td>\n",
       "    </tr>\n",
       "  </tbody>\n",
       "</table>\n",
       "</div>"
      ],
      "text/plain": [
       "     type  fixed acidity  volatile acidity  citric acid  residual sugar  \\\n",
       "6492  red            6.2             0.600         0.08             2.0   \n",
       "6493  red            5.9             0.550         0.10             2.2   \n",
       "6494  red            6.3             0.510         0.13             2.3   \n",
       "6495  red            5.9             0.645         0.12             2.0   \n",
       "6496  red            6.0             0.310         0.47             3.6   \n",
       "\n",
       "      chlorides  free sulfur dioxide  total sulfur dioxide  density    pH  \\\n",
       "6492      0.090                 32.0                  44.0  0.99490  3.45   \n",
       "6493      0.062                 39.0                  51.0  0.99512  3.52   \n",
       "6494      0.076                 29.0                  40.0  0.99574  3.42   \n",
       "6495      0.075                 32.0                  44.0  0.99547  3.57   \n",
       "6496      0.067                 18.0                  42.0  0.99549  3.39   \n",
       "\n",
       "      sulphates  alcohol  quality  \n",
       "6492       0.58     10.5        5  \n",
       "6493        NaN     11.2        6  \n",
       "6494       0.75     11.0        6  \n",
       "6495       0.71     10.2        5  \n",
       "6496       0.66     11.0        6  "
      ]
     },
     "execution_count": 528,
     "metadata": {},
     "output_type": "execute_result"
    }
   ],
   "source": [
    "wine_df.tail()\n"
   ]
  },
  {
   "cell_type": "code",
   "execution_count": 529,
   "id": "415cbcf7",
   "metadata": {},
   "outputs": [
    {
     "data": {
      "text/html": [
       "<div>\n",
       "<style scoped>\n",
       "    .dataframe tbody tr th:only-of-type {\n",
       "        vertical-align: middle;\n",
       "    }\n",
       "\n",
       "    .dataframe tbody tr th {\n",
       "        vertical-align: top;\n",
       "    }\n",
       "\n",
       "    .dataframe thead th {\n",
       "        text-align: right;\n",
       "    }\n",
       "</style>\n",
       "<table border=\"1\" class=\"dataframe\">\n",
       "  <thead>\n",
       "    <tr style=\"text-align: right;\">\n",
       "      <th></th>\n",
       "      <th>fixed acidity</th>\n",
       "      <th>volatile acidity</th>\n",
       "      <th>citric acid</th>\n",
       "      <th>residual sugar</th>\n",
       "      <th>chlorides</th>\n",
       "      <th>free sulfur dioxide</th>\n",
       "      <th>total sulfur dioxide</th>\n",
       "      <th>density</th>\n",
       "      <th>pH</th>\n",
       "      <th>sulphates</th>\n",
       "      <th>alcohol</th>\n",
       "      <th>quality</th>\n",
       "    </tr>\n",
       "  </thead>\n",
       "  <tbody>\n",
       "    <tr>\n",
       "      <th>count</th>\n",
       "      <td>6487.000000</td>\n",
       "      <td>6489.000000</td>\n",
       "      <td>6494.000000</td>\n",
       "      <td>6495.000000</td>\n",
       "      <td>6495.000000</td>\n",
       "      <td>6497.000000</td>\n",
       "      <td>6497.000000</td>\n",
       "      <td>6497.000000</td>\n",
       "      <td>6488.000000</td>\n",
       "      <td>6493.000000</td>\n",
       "      <td>6497.000000</td>\n",
       "      <td>6497.000000</td>\n",
       "    </tr>\n",
       "    <tr>\n",
       "      <th>mean</th>\n",
       "      <td>7.216579</td>\n",
       "      <td>0.339691</td>\n",
       "      <td>0.318722</td>\n",
       "      <td>5.444326</td>\n",
       "      <td>0.056042</td>\n",
       "      <td>30.525319</td>\n",
       "      <td>115.744574</td>\n",
       "      <td>0.994697</td>\n",
       "      <td>3.218395</td>\n",
       "      <td>0.531215</td>\n",
       "      <td>10.491801</td>\n",
       "      <td>5.818378</td>\n",
       "    </tr>\n",
       "    <tr>\n",
       "      <th>std</th>\n",
       "      <td>1.296750</td>\n",
       "      <td>0.164649</td>\n",
       "      <td>0.145265</td>\n",
       "      <td>4.758125</td>\n",
       "      <td>0.035036</td>\n",
       "      <td>17.749400</td>\n",
       "      <td>56.521855</td>\n",
       "      <td>0.002999</td>\n",
       "      <td>0.160748</td>\n",
       "      <td>0.148814</td>\n",
       "      <td>1.192712</td>\n",
       "      <td>0.873255</td>\n",
       "    </tr>\n",
       "    <tr>\n",
       "      <th>min</th>\n",
       "      <td>3.800000</td>\n",
       "      <td>0.080000</td>\n",
       "      <td>0.000000</td>\n",
       "      <td>0.600000</td>\n",
       "      <td>0.009000</td>\n",
       "      <td>1.000000</td>\n",
       "      <td>6.000000</td>\n",
       "      <td>0.987110</td>\n",
       "      <td>2.720000</td>\n",
       "      <td>0.220000</td>\n",
       "      <td>8.000000</td>\n",
       "      <td>3.000000</td>\n",
       "    </tr>\n",
       "    <tr>\n",
       "      <th>25%</th>\n",
       "      <td>6.400000</td>\n",
       "      <td>0.230000</td>\n",
       "      <td>0.250000</td>\n",
       "      <td>1.800000</td>\n",
       "      <td>0.038000</td>\n",
       "      <td>17.000000</td>\n",
       "      <td>77.000000</td>\n",
       "      <td>0.992340</td>\n",
       "      <td>3.110000</td>\n",
       "      <td>0.430000</td>\n",
       "      <td>9.500000</td>\n",
       "      <td>5.000000</td>\n",
       "    </tr>\n",
       "    <tr>\n",
       "      <th>50%</th>\n",
       "      <td>7.000000</td>\n",
       "      <td>0.290000</td>\n",
       "      <td>0.310000</td>\n",
       "      <td>3.000000</td>\n",
       "      <td>0.047000</td>\n",
       "      <td>29.000000</td>\n",
       "      <td>118.000000</td>\n",
       "      <td>0.994890</td>\n",
       "      <td>3.210000</td>\n",
       "      <td>0.510000</td>\n",
       "      <td>10.300000</td>\n",
       "      <td>6.000000</td>\n",
       "    </tr>\n",
       "    <tr>\n",
       "      <th>75%</th>\n",
       "      <td>7.700000</td>\n",
       "      <td>0.400000</td>\n",
       "      <td>0.390000</td>\n",
       "      <td>8.100000</td>\n",
       "      <td>0.065000</td>\n",
       "      <td>41.000000</td>\n",
       "      <td>156.000000</td>\n",
       "      <td>0.996990</td>\n",
       "      <td>3.320000</td>\n",
       "      <td>0.600000</td>\n",
       "      <td>11.300000</td>\n",
       "      <td>6.000000</td>\n",
       "    </tr>\n",
       "    <tr>\n",
       "      <th>max</th>\n",
       "      <td>15.900000</td>\n",
       "      <td>1.580000</td>\n",
       "      <td>1.660000</td>\n",
       "      <td>65.800000</td>\n",
       "      <td>0.611000</td>\n",
       "      <td>289.000000</td>\n",
       "      <td>440.000000</td>\n",
       "      <td>1.038980</td>\n",
       "      <td>4.010000</td>\n",
       "      <td>2.000000</td>\n",
       "      <td>14.900000</td>\n",
       "      <td>9.000000</td>\n",
       "    </tr>\n",
       "  </tbody>\n",
       "</table>\n",
       "</div>"
      ],
      "text/plain": [
       "       fixed acidity  volatile acidity  citric acid  residual sugar  \\\n",
       "count    6487.000000       6489.000000  6494.000000     6495.000000   \n",
       "mean        7.216579          0.339691     0.318722        5.444326   \n",
       "std         1.296750          0.164649     0.145265        4.758125   \n",
       "min         3.800000          0.080000     0.000000        0.600000   \n",
       "25%         6.400000          0.230000     0.250000        1.800000   \n",
       "50%         7.000000          0.290000     0.310000        3.000000   \n",
       "75%         7.700000          0.400000     0.390000        8.100000   \n",
       "max        15.900000          1.580000     1.660000       65.800000   \n",
       "\n",
       "         chlorides  free sulfur dioxide  total sulfur dioxide      density  \\\n",
       "count  6495.000000          6497.000000           6497.000000  6497.000000   \n",
       "mean      0.056042            30.525319            115.744574     0.994697   \n",
       "std       0.035036            17.749400             56.521855     0.002999   \n",
       "min       0.009000             1.000000              6.000000     0.987110   \n",
       "25%       0.038000            17.000000             77.000000     0.992340   \n",
       "50%       0.047000            29.000000            118.000000     0.994890   \n",
       "75%       0.065000            41.000000            156.000000     0.996990   \n",
       "max       0.611000           289.000000            440.000000     1.038980   \n",
       "\n",
       "                pH    sulphates      alcohol      quality  \n",
       "count  6488.000000  6493.000000  6497.000000  6497.000000  \n",
       "mean      3.218395     0.531215    10.491801     5.818378  \n",
       "std       0.160748     0.148814     1.192712     0.873255  \n",
       "min       2.720000     0.220000     8.000000     3.000000  \n",
       "25%       3.110000     0.430000     9.500000     5.000000  \n",
       "50%       3.210000     0.510000    10.300000     6.000000  \n",
       "75%       3.320000     0.600000    11.300000     6.000000  \n",
       "max       4.010000     2.000000    14.900000     9.000000  "
      ]
     },
     "execution_count": 529,
     "metadata": {},
     "output_type": "execute_result"
    }
   ],
   "source": [
    "wine_df.describe()"
   ]
  },
  {
   "cell_type": "code",
   "execution_count": 530,
   "id": "3c597c1c",
   "metadata": {},
   "outputs": [
    {
     "data": {
      "text/html": [
       "<div>\n",
       "<style scoped>\n",
       "    .dataframe tbody tr th:only-of-type {\n",
       "        vertical-align: middle;\n",
       "    }\n",
       "\n",
       "    .dataframe tbody tr th {\n",
       "        vertical-align: top;\n",
       "    }\n",
       "\n",
       "    .dataframe thead th {\n",
       "        text-align: right;\n",
       "    }\n",
       "</style>\n",
       "<table border=\"1\" class=\"dataframe\">\n",
       "  <thead>\n",
       "    <tr style=\"text-align: right;\">\n",
       "      <th></th>\n",
       "      <th>type</th>\n",
       "    </tr>\n",
       "  </thead>\n",
       "  <tbody>\n",
       "    <tr>\n",
       "      <th>count</th>\n",
       "      <td>6497</td>\n",
       "    </tr>\n",
       "    <tr>\n",
       "      <th>unique</th>\n",
       "      <td>2</td>\n",
       "    </tr>\n",
       "    <tr>\n",
       "      <th>top</th>\n",
       "      <td>white</td>\n",
       "    </tr>\n",
       "    <tr>\n",
       "      <th>freq</th>\n",
       "      <td>4898</td>\n",
       "    </tr>\n",
       "  </tbody>\n",
       "</table>\n",
       "</div>"
      ],
      "text/plain": [
       "         type\n",
       "count    6497\n",
       "unique      2\n",
       "top     white\n",
       "freq     4898"
      ]
     },
     "execution_count": 530,
     "metadata": {},
     "output_type": "execute_result"
    }
   ],
   "source": [
    "wine_df.describe(include='O')"
   ]
  },
  {
   "cell_type": "code",
   "execution_count": 531,
   "id": "5f4a0333",
   "metadata": {},
   "outputs": [
    {
     "data": {
      "text/html": [
       "<div>\n",
       "<style scoped>\n",
       "    .dataframe tbody tr th:only-of-type {\n",
       "        vertical-align: middle;\n",
       "    }\n",
       "\n",
       "    .dataframe tbody tr th {\n",
       "        vertical-align: top;\n",
       "    }\n",
       "\n",
       "    .dataframe thead th {\n",
       "        text-align: right;\n",
       "    }\n",
       "</style>\n",
       "<table border=\"1\" class=\"dataframe\">\n",
       "  <thead>\n",
       "    <tr style=\"text-align: right;\">\n",
       "      <th></th>\n",
       "      <th>type</th>\n",
       "      <th>fixed acidity</th>\n",
       "      <th>volatile acidity</th>\n",
       "      <th>citric acid</th>\n",
       "      <th>residual sugar</th>\n",
       "      <th>chlorides</th>\n",
       "      <th>free sulfur dioxide</th>\n",
       "      <th>total sulfur dioxide</th>\n",
       "      <th>density</th>\n",
       "      <th>pH</th>\n",
       "      <th>sulphates</th>\n",
       "      <th>alcohol</th>\n",
       "      <th>quality</th>\n",
       "    </tr>\n",
       "  </thead>\n",
       "  <tbody>\n",
       "    <tr>\n",
       "      <th>0</th>\n",
       "      <td>False</td>\n",
       "      <td>False</td>\n",
       "      <td>False</td>\n",
       "      <td>False</td>\n",
       "      <td>False</td>\n",
       "      <td>False</td>\n",
       "      <td>False</td>\n",
       "      <td>False</td>\n",
       "      <td>False</td>\n",
       "      <td>False</td>\n",
       "      <td>False</td>\n",
       "      <td>False</td>\n",
       "      <td>False</td>\n",
       "    </tr>\n",
       "    <tr>\n",
       "      <th>1</th>\n",
       "      <td>False</td>\n",
       "      <td>False</td>\n",
       "      <td>False</td>\n",
       "      <td>False</td>\n",
       "      <td>False</td>\n",
       "      <td>False</td>\n",
       "      <td>False</td>\n",
       "      <td>False</td>\n",
       "      <td>False</td>\n",
       "      <td>False</td>\n",
       "      <td>False</td>\n",
       "      <td>False</td>\n",
       "      <td>False</td>\n",
       "    </tr>\n",
       "    <tr>\n",
       "      <th>2</th>\n",
       "      <td>False</td>\n",
       "      <td>False</td>\n",
       "      <td>False</td>\n",
       "      <td>False</td>\n",
       "      <td>False</td>\n",
       "      <td>False</td>\n",
       "      <td>False</td>\n",
       "      <td>False</td>\n",
       "      <td>False</td>\n",
       "      <td>False</td>\n",
       "      <td>False</td>\n",
       "      <td>False</td>\n",
       "      <td>False</td>\n",
       "    </tr>\n",
       "    <tr>\n",
       "      <th>3</th>\n",
       "      <td>False</td>\n",
       "      <td>False</td>\n",
       "      <td>False</td>\n",
       "      <td>False</td>\n",
       "      <td>False</td>\n",
       "      <td>False</td>\n",
       "      <td>False</td>\n",
       "      <td>False</td>\n",
       "      <td>False</td>\n",
       "      <td>False</td>\n",
       "      <td>False</td>\n",
       "      <td>False</td>\n",
       "      <td>False</td>\n",
       "    </tr>\n",
       "    <tr>\n",
       "      <th>4</th>\n",
       "      <td>False</td>\n",
       "      <td>False</td>\n",
       "      <td>False</td>\n",
       "      <td>False</td>\n",
       "      <td>False</td>\n",
       "      <td>False</td>\n",
       "      <td>False</td>\n",
       "      <td>False</td>\n",
       "      <td>False</td>\n",
       "      <td>False</td>\n",
       "      <td>False</td>\n",
       "      <td>False</td>\n",
       "      <td>False</td>\n",
       "    </tr>\n",
       "    <tr>\n",
       "      <th>...</th>\n",
       "      <td>...</td>\n",
       "      <td>...</td>\n",
       "      <td>...</td>\n",
       "      <td>...</td>\n",
       "      <td>...</td>\n",
       "      <td>...</td>\n",
       "      <td>...</td>\n",
       "      <td>...</td>\n",
       "      <td>...</td>\n",
       "      <td>...</td>\n",
       "      <td>...</td>\n",
       "      <td>...</td>\n",
       "      <td>...</td>\n",
       "    </tr>\n",
       "    <tr>\n",
       "      <th>6492</th>\n",
       "      <td>False</td>\n",
       "      <td>False</td>\n",
       "      <td>False</td>\n",
       "      <td>False</td>\n",
       "      <td>False</td>\n",
       "      <td>False</td>\n",
       "      <td>False</td>\n",
       "      <td>False</td>\n",
       "      <td>False</td>\n",
       "      <td>False</td>\n",
       "      <td>False</td>\n",
       "      <td>False</td>\n",
       "      <td>False</td>\n",
       "    </tr>\n",
       "    <tr>\n",
       "      <th>6493</th>\n",
       "      <td>False</td>\n",
       "      <td>False</td>\n",
       "      <td>False</td>\n",
       "      <td>False</td>\n",
       "      <td>False</td>\n",
       "      <td>False</td>\n",
       "      <td>False</td>\n",
       "      <td>False</td>\n",
       "      <td>False</td>\n",
       "      <td>False</td>\n",
       "      <td>True</td>\n",
       "      <td>False</td>\n",
       "      <td>False</td>\n",
       "    </tr>\n",
       "    <tr>\n",
       "      <th>6494</th>\n",
       "      <td>False</td>\n",
       "      <td>False</td>\n",
       "      <td>False</td>\n",
       "      <td>False</td>\n",
       "      <td>False</td>\n",
       "      <td>False</td>\n",
       "      <td>False</td>\n",
       "      <td>False</td>\n",
       "      <td>False</td>\n",
       "      <td>False</td>\n",
       "      <td>False</td>\n",
       "      <td>False</td>\n",
       "      <td>False</td>\n",
       "    </tr>\n",
       "    <tr>\n",
       "      <th>6495</th>\n",
       "      <td>False</td>\n",
       "      <td>False</td>\n",
       "      <td>False</td>\n",
       "      <td>False</td>\n",
       "      <td>False</td>\n",
       "      <td>False</td>\n",
       "      <td>False</td>\n",
       "      <td>False</td>\n",
       "      <td>False</td>\n",
       "      <td>False</td>\n",
       "      <td>False</td>\n",
       "      <td>False</td>\n",
       "      <td>False</td>\n",
       "    </tr>\n",
       "    <tr>\n",
       "      <th>6496</th>\n",
       "      <td>False</td>\n",
       "      <td>False</td>\n",
       "      <td>False</td>\n",
       "      <td>False</td>\n",
       "      <td>False</td>\n",
       "      <td>False</td>\n",
       "      <td>False</td>\n",
       "      <td>False</td>\n",
       "      <td>False</td>\n",
       "      <td>False</td>\n",
       "      <td>False</td>\n",
       "      <td>False</td>\n",
       "      <td>False</td>\n",
       "    </tr>\n",
       "  </tbody>\n",
       "</table>\n",
       "<p>6497 rows × 13 columns</p>\n",
       "</div>"
      ],
      "text/plain": [
       "       type  fixed acidity  volatile acidity  citric acid  residual sugar  \\\n",
       "0     False          False             False        False           False   \n",
       "1     False          False             False        False           False   \n",
       "2     False          False             False        False           False   \n",
       "3     False          False             False        False           False   \n",
       "4     False          False             False        False           False   \n",
       "...     ...            ...               ...          ...             ...   \n",
       "6492  False          False             False        False           False   \n",
       "6493  False          False             False        False           False   \n",
       "6494  False          False             False        False           False   \n",
       "6495  False          False             False        False           False   \n",
       "6496  False          False             False        False           False   \n",
       "\n",
       "      chlorides  free sulfur dioxide  total sulfur dioxide  density     pH  \\\n",
       "0         False                False                 False    False  False   \n",
       "1         False                False                 False    False  False   \n",
       "2         False                False                 False    False  False   \n",
       "3         False                False                 False    False  False   \n",
       "4         False                False                 False    False  False   \n",
       "...         ...                  ...                   ...      ...    ...   \n",
       "6492      False                False                 False    False  False   \n",
       "6493      False                False                 False    False  False   \n",
       "6494      False                False                 False    False  False   \n",
       "6495      False                False                 False    False  False   \n",
       "6496      False                False                 False    False  False   \n",
       "\n",
       "      sulphates  alcohol  quality  \n",
       "0         False    False    False  \n",
       "1         False    False    False  \n",
       "2         False    False    False  \n",
       "3         False    False    False  \n",
       "4         False    False    False  \n",
       "...         ...      ...      ...  \n",
       "6492      False    False    False  \n",
       "6493       True    False    False  \n",
       "6494      False    False    False  \n",
       "6495      False    False    False  \n",
       "6496      False    False    False  \n",
       "\n",
       "[6497 rows x 13 columns]"
      ]
     },
     "execution_count": 531,
     "metadata": {},
     "output_type": "execute_result"
    }
   ],
   "source": [
    "wine_df.isnull()"
   ]
  },
  {
   "cell_type": "code",
   "execution_count": 532,
   "id": "1dec3c79",
   "metadata": {},
   "outputs": [
    {
     "data": {
      "text/plain": [
       "type                    6497\n",
       "fixed acidity           6487\n",
       "volatile acidity        6489\n",
       "citric acid             6494\n",
       "residual sugar          6495\n",
       "chlorides               6495\n",
       "free sulfur dioxide     6497\n",
       "total sulfur dioxide    6497\n",
       "density                 6497\n",
       "pH                      6488\n",
       "sulphates               6493\n",
       "alcohol                 6497\n",
       "quality                 6497\n",
       "dtype: int64"
      ]
     },
     "execution_count": 532,
     "metadata": {},
     "output_type": "execute_result"
    }
   ],
   "source": [
    "wine_df.notnull().sum()"
   ]
  },
  {
   "cell_type": "code",
   "execution_count": 533,
   "id": "7315f591",
   "metadata": {},
   "outputs": [
    {
     "name": "stdout",
     "output_type": "stream",
     "text": [
      "<class 'pandas.core.frame.DataFrame'>\n",
      "RangeIndex: 6497 entries, 0 to 6496\n",
      "Data columns (total 13 columns):\n",
      " #   Column                Non-Null Count  Dtype  \n",
      "---  ------                --------------  -----  \n",
      " 0   type                  6497 non-null   object \n",
      " 1   fixed acidity         6487 non-null   float64\n",
      " 2   volatile acidity      6489 non-null   float64\n",
      " 3   citric acid           6494 non-null   float64\n",
      " 4   residual sugar        6495 non-null   float64\n",
      " 5   chlorides             6495 non-null   float64\n",
      " 6   free sulfur dioxide   6497 non-null   float64\n",
      " 7   total sulfur dioxide  6497 non-null   float64\n",
      " 8   density               6497 non-null   float64\n",
      " 9   pH                    6488 non-null   float64\n",
      " 10  sulphates             6493 non-null   float64\n",
      " 11  alcohol               6497 non-null   float64\n",
      " 12  quality               6497 non-null   int64  \n",
      "dtypes: float64(11), int64(1), object(1)\n",
      "memory usage: 660.0+ KB\n"
     ]
    }
   ],
   "source": [
    "wine_df.info()"
   ]
  },
  {
   "cell_type": "code",
   "execution_count": 534,
   "id": "065ee2f1",
   "metadata": {},
   "outputs": [
    {
     "data": {
      "text/plain": [
       "Index(['type', 'fixed acidity', 'volatile acidity', 'citric acid',\n",
       "       'residual sugar', 'chlorides', 'free sulfur dioxide',\n",
       "       'total sulfur dioxide', 'density', 'pH', 'sulphates', 'alcohol',\n",
       "       'quality'],\n",
       "      dtype='object')"
      ]
     },
     "execution_count": 534,
     "metadata": {},
     "output_type": "execute_result"
    }
   ],
   "source": [
    "wine_df.columns"
   ]
  },
  {
   "cell_type": "code",
   "execution_count": 535,
   "id": "744e8c0a",
   "metadata": {},
   "outputs": [
    {
     "data": {
      "text/html": [
       "<div>\n",
       "<style scoped>\n",
       "    .dataframe tbody tr th:only-of-type {\n",
       "        vertical-align: middle;\n",
       "    }\n",
       "\n",
       "    .dataframe tbody tr th {\n",
       "        vertical-align: top;\n",
       "    }\n",
       "\n",
       "    .dataframe thead th {\n",
       "        text-align: right;\n",
       "    }\n",
       "</style>\n",
       "<table border=\"1\" class=\"dataframe\">\n",
       "  <thead>\n",
       "    <tr style=\"text-align: right;\">\n",
       "      <th></th>\n",
       "      <th>type</th>\n",
       "      <th>fixed acidity</th>\n",
       "      <th>volatile acidity</th>\n",
       "      <th>citric acid</th>\n",
       "      <th>residual sugar</th>\n",
       "      <th>chlorides</th>\n",
       "      <th>free sulfur dioxide</th>\n",
       "      <th>total sulfur dioxide</th>\n",
       "      <th>density</th>\n",
       "      <th>pH</th>\n",
       "      <th>sulphates</th>\n",
       "      <th>alcohol</th>\n",
       "      <th>quality</th>\n",
       "    </tr>\n",
       "  </thead>\n",
       "  <tbody>\n",
       "    <tr>\n",
       "      <th>0</th>\n",
       "      <td>white</td>\n",
       "      <td>7.0</td>\n",
       "      <td>0.270</td>\n",
       "      <td>0.36</td>\n",
       "      <td>20.7</td>\n",
       "      <td>0.045</td>\n",
       "      <td>45.0</td>\n",
       "      <td>170.0</td>\n",
       "      <td>1.00100</td>\n",
       "      <td>3.00</td>\n",
       "      <td>0.45</td>\n",
       "      <td>8.8</td>\n",
       "      <td>6</td>\n",
       "    </tr>\n",
       "    <tr>\n",
       "      <th>1</th>\n",
       "      <td>white</td>\n",
       "      <td>6.3</td>\n",
       "      <td>0.300</td>\n",
       "      <td>0.34</td>\n",
       "      <td>1.6</td>\n",
       "      <td>0.049</td>\n",
       "      <td>14.0</td>\n",
       "      <td>132.0</td>\n",
       "      <td>0.99400</td>\n",
       "      <td>3.30</td>\n",
       "      <td>0.49</td>\n",
       "      <td>9.5</td>\n",
       "      <td>6</td>\n",
       "    </tr>\n",
       "    <tr>\n",
       "      <th>2</th>\n",
       "      <td>white</td>\n",
       "      <td>8.1</td>\n",
       "      <td>0.280</td>\n",
       "      <td>0.40</td>\n",
       "      <td>6.9</td>\n",
       "      <td>0.050</td>\n",
       "      <td>30.0</td>\n",
       "      <td>97.0</td>\n",
       "      <td>0.99510</td>\n",
       "      <td>3.26</td>\n",
       "      <td>0.44</td>\n",
       "      <td>10.1</td>\n",
       "      <td>6</td>\n",
       "    </tr>\n",
       "    <tr>\n",
       "      <th>3</th>\n",
       "      <td>white</td>\n",
       "      <td>7.2</td>\n",
       "      <td>0.230</td>\n",
       "      <td>0.32</td>\n",
       "      <td>8.5</td>\n",
       "      <td>0.058</td>\n",
       "      <td>47.0</td>\n",
       "      <td>186.0</td>\n",
       "      <td>0.99560</td>\n",
       "      <td>3.19</td>\n",
       "      <td>0.40</td>\n",
       "      <td>9.9</td>\n",
       "      <td>6</td>\n",
       "    </tr>\n",
       "    <tr>\n",
       "      <th>4</th>\n",
       "      <td>white</td>\n",
       "      <td>7.2</td>\n",
       "      <td>0.230</td>\n",
       "      <td>0.32</td>\n",
       "      <td>8.5</td>\n",
       "      <td>0.058</td>\n",
       "      <td>47.0</td>\n",
       "      <td>186.0</td>\n",
       "      <td>0.99560</td>\n",
       "      <td>3.19</td>\n",
       "      <td>0.40</td>\n",
       "      <td>9.9</td>\n",
       "      <td>6</td>\n",
       "    </tr>\n",
       "    <tr>\n",
       "      <th>...</th>\n",
       "      <td>...</td>\n",
       "      <td>...</td>\n",
       "      <td>...</td>\n",
       "      <td>...</td>\n",
       "      <td>...</td>\n",
       "      <td>...</td>\n",
       "      <td>...</td>\n",
       "      <td>...</td>\n",
       "      <td>...</td>\n",
       "      <td>...</td>\n",
       "      <td>...</td>\n",
       "      <td>...</td>\n",
       "      <td>...</td>\n",
       "    </tr>\n",
       "    <tr>\n",
       "      <th>6492</th>\n",
       "      <td>red</td>\n",
       "      <td>6.2</td>\n",
       "      <td>0.600</td>\n",
       "      <td>0.08</td>\n",
       "      <td>2.0</td>\n",
       "      <td>0.090</td>\n",
       "      <td>32.0</td>\n",
       "      <td>44.0</td>\n",
       "      <td>0.99490</td>\n",
       "      <td>3.45</td>\n",
       "      <td>0.58</td>\n",
       "      <td>10.5</td>\n",
       "      <td>5</td>\n",
       "    </tr>\n",
       "    <tr>\n",
       "      <th>6493</th>\n",
       "      <td>red</td>\n",
       "      <td>5.9</td>\n",
       "      <td>0.550</td>\n",
       "      <td>0.10</td>\n",
       "      <td>2.2</td>\n",
       "      <td>0.062</td>\n",
       "      <td>39.0</td>\n",
       "      <td>51.0</td>\n",
       "      <td>0.99512</td>\n",
       "      <td>3.52</td>\n",
       "      <td>NaN</td>\n",
       "      <td>11.2</td>\n",
       "      <td>6</td>\n",
       "    </tr>\n",
       "    <tr>\n",
       "      <th>6494</th>\n",
       "      <td>red</td>\n",
       "      <td>6.3</td>\n",
       "      <td>0.510</td>\n",
       "      <td>0.13</td>\n",
       "      <td>2.3</td>\n",
       "      <td>0.076</td>\n",
       "      <td>29.0</td>\n",
       "      <td>40.0</td>\n",
       "      <td>0.99574</td>\n",
       "      <td>3.42</td>\n",
       "      <td>0.75</td>\n",
       "      <td>11.0</td>\n",
       "      <td>6</td>\n",
       "    </tr>\n",
       "    <tr>\n",
       "      <th>6495</th>\n",
       "      <td>red</td>\n",
       "      <td>5.9</td>\n",
       "      <td>0.645</td>\n",
       "      <td>0.12</td>\n",
       "      <td>2.0</td>\n",
       "      <td>0.075</td>\n",
       "      <td>32.0</td>\n",
       "      <td>44.0</td>\n",
       "      <td>0.99547</td>\n",
       "      <td>3.57</td>\n",
       "      <td>0.71</td>\n",
       "      <td>10.2</td>\n",
       "      <td>5</td>\n",
       "    </tr>\n",
       "    <tr>\n",
       "      <th>6496</th>\n",
       "      <td>red</td>\n",
       "      <td>6.0</td>\n",
       "      <td>0.310</td>\n",
       "      <td>0.47</td>\n",
       "      <td>3.6</td>\n",
       "      <td>0.067</td>\n",
       "      <td>18.0</td>\n",
       "      <td>42.0</td>\n",
       "      <td>0.99549</td>\n",
       "      <td>3.39</td>\n",
       "      <td>0.66</td>\n",
       "      <td>11.0</td>\n",
       "      <td>6</td>\n",
       "    </tr>\n",
       "  </tbody>\n",
       "</table>\n",
       "<p>6497 rows × 13 columns</p>\n",
       "</div>"
      ],
      "text/plain": [
       "       type  fixed acidity  volatile acidity  citric acid  residual sugar  \\\n",
       "0     white            7.0             0.270         0.36            20.7   \n",
       "1     white            6.3             0.300         0.34             1.6   \n",
       "2     white            8.1             0.280         0.40             6.9   \n",
       "3     white            7.2             0.230         0.32             8.5   \n",
       "4     white            7.2             0.230         0.32             8.5   \n",
       "...     ...            ...               ...          ...             ...   \n",
       "6492    red            6.2             0.600         0.08             2.0   \n",
       "6493    red            5.9             0.550         0.10             2.2   \n",
       "6494    red            6.3             0.510         0.13             2.3   \n",
       "6495    red            5.9             0.645         0.12             2.0   \n",
       "6496    red            6.0             0.310         0.47             3.6   \n",
       "\n",
       "      chlorides  free sulfur dioxide  total sulfur dioxide  density    pH  \\\n",
       "0         0.045                 45.0                 170.0  1.00100  3.00   \n",
       "1         0.049                 14.0                 132.0  0.99400  3.30   \n",
       "2         0.050                 30.0                  97.0  0.99510  3.26   \n",
       "3         0.058                 47.0                 186.0  0.99560  3.19   \n",
       "4         0.058                 47.0                 186.0  0.99560  3.19   \n",
       "...         ...                  ...                   ...      ...   ...   \n",
       "6492      0.090                 32.0                  44.0  0.99490  3.45   \n",
       "6493      0.062                 39.0                  51.0  0.99512  3.52   \n",
       "6494      0.076                 29.0                  40.0  0.99574  3.42   \n",
       "6495      0.075                 32.0                  44.0  0.99547  3.57   \n",
       "6496      0.067                 18.0                  42.0  0.99549  3.39   \n",
       "\n",
       "      sulphates  alcohol  quality  \n",
       "0          0.45      8.8        6  \n",
       "1          0.49      9.5        6  \n",
       "2          0.44     10.1        6  \n",
       "3          0.40      9.9        6  \n",
       "4          0.40      9.9        6  \n",
       "...         ...      ...      ...  \n",
       "6492       0.58     10.5        5  \n",
       "6493        NaN     11.2        6  \n",
       "6494       0.75     11.0        6  \n",
       "6495       0.71     10.2        5  \n",
       "6496       0.66     11.0        6  \n",
       "\n",
       "[6497 rows x 13 columns]"
      ]
     },
     "execution_count": 535,
     "metadata": {},
     "output_type": "execute_result"
    }
   ],
   "source": [
    "wine_df"
   ]
  },
  {
   "cell_type": "code",
   "execution_count": 536,
   "id": "5a87c7ef",
   "metadata": {},
   "outputs": [],
   "source": [
    "## thrtr are 2 categotical  and 11 numerical columns so \"type\" and \"quality\" are categorical colum and others are numerical column"
   ]
  },
  {
   "cell_type": "markdown",
   "id": "628d6184",
   "metadata": {},
   "source": [
    "# solving numerical columns "
   ]
  },
  {
   "cell_type": "markdown",
   "id": "0cfd834e",
   "metadata": {},
   "source": [
    "# fixed acidity"
   ]
  },
  {
   "cell_type": "code",
   "execution_count": 537,
   "id": "b37a830a",
   "metadata": {},
   "outputs": [
    {
     "data": {
      "text/plain": [
       "7.2165793124710955"
      ]
     },
     "execution_count": 537,
     "metadata": {},
     "output_type": "execute_result"
    }
   ],
   "source": [
    "wine_df[\"fixed acidity\"].mean()"
   ]
  },
  {
   "cell_type": "code",
   "execution_count": 538,
   "id": "59ec82de",
   "metadata": {},
   "outputs": [
    {
     "data": {
      "text/plain": [
       "7.0"
      ]
     },
     "execution_count": 538,
     "metadata": {},
     "output_type": "execute_result"
    }
   ],
   "source": [
    "wine_df[\"fixed acidity\"].median()"
   ]
  },
  {
   "cell_type": "code",
   "execution_count": 539,
   "id": "cdd38ecd",
   "metadata": {},
   "outputs": [
    {
     "data": {
      "text/plain": [
       "array([ 7.  ,  6.3 ,  8.1 ,  7.2 ,  6.2 ,  8.6 ,  7.9 ,  6.6 ,  8.3 ,\n",
       "         nan,  7.4 ,  6.5 ,  6.4 ,  6.8 ,  7.6 ,  6.9 ,  8.5 ,  5.8 ,\n",
       "        7.3 ,  6.7 ,  6.  ,  7.1 ,  6.1 ,  7.5 ,  9.8 ,  5.5 ,  5.9 ,\n",
       "        7.8 ,  5.7 ,  8.2 ,  5.6 ,  5.2 ,  8.4 , 10.2 ,  7.7 ,  5.3 ,\n",
       "        5.4 ,  9.1 ,  5.  ,  8.  , 10.  ,  5.1 ,  9.2 ,  9.  ,  8.8 ,\n",
       "        8.7 ,  4.8 , 10.3 ,  9.4 ,  9.6 ,  9.3 ,  8.9 ,  9.7 , 10.7 ,\n",
       "       14.2 ,  9.9 ,  9.5 , 11.8 ,  4.6 ,  6.15,  4.5 ,  7.15,  6.45,\n",
       "        4.2 ,  4.9 ,  4.7 ,  3.8 ,  4.4 ,  3.9 , 11.2 , 10.1 , 11.5 ,\n",
       "       12.8 , 11.  , 11.6 , 12.  , 15.  , 10.8 , 11.1 , 12.5 , 10.9 ,\n",
       "       11.4 , 10.4 , 13.3 , 10.6 , 13.4 , 11.9 , 12.4 , 12.2 , 13.8 ,\n",
       "       13.5 , 10.5 , 12.6 , 14.  , 13.7 , 12.7 , 12.3 , 15.6 , 11.3 ,\n",
       "       13.  , 12.9 , 14.3 , 15.5 , 11.7 , 13.2 , 15.9 , 12.1 ])"
      ]
     },
     "execution_count": 539,
     "metadata": {},
     "output_type": "execute_result"
    }
   ],
   "source": [
    "wine_df[\"fixed acidity\"].unique()"
   ]
  },
  {
   "cell_type": "code",
   "execution_count": 540,
   "id": "7649275e",
   "metadata": {},
   "outputs": [
    {
     "data": {
      "text/plain": [
       "106"
      ]
     },
     "execution_count": 540,
     "metadata": {},
     "output_type": "execute_result"
    }
   ],
   "source": [
    "wine_df[\"fixed acidity\"].nunique()"
   ]
  },
  {
   "cell_type": "code",
   "execution_count": 541,
   "id": "d860d5d0",
   "metadata": {},
   "outputs": [
    {
     "data": {
      "text/plain": [
       "1.2967498565264803"
      ]
     },
     "execution_count": 541,
     "metadata": {},
     "output_type": "execute_result"
    }
   ],
   "source": [
    "wine_df[\"fixed acidity\"].std()"
   ]
  },
  {
   "cell_type": "code",
   "execution_count": 542,
   "id": "72bbbfa0",
   "metadata": {},
   "outputs": [
    {
     "data": {
      "text/plain": [
       "15.9"
      ]
     },
     "execution_count": 542,
     "metadata": {},
     "output_type": "execute_result"
    }
   ],
   "source": [
    "wine_df[\"fixed acidity\"].max()"
   ]
  },
  {
   "cell_type": "code",
   "execution_count": 543,
   "id": "d99d1cbd",
   "metadata": {},
   "outputs": [
    {
     "data": {
      "text/plain": [
       "3.8"
      ]
     },
     "execution_count": 543,
     "metadata": {},
     "output_type": "execute_result"
    }
   ],
   "source": [
    "wine_df[\"fixed acidity\"].min()"
   ]
  },
  {
   "cell_type": "code",
   "execution_count": 544,
   "id": "5b054226",
   "metadata": {},
   "outputs": [
    {
     "data": {
      "text/plain": [
       "1.7228045308969795"
      ]
     },
     "execution_count": 544,
     "metadata": {},
     "output_type": "execute_result"
    }
   ],
   "source": [
    "wine_df[\"fixed acidity\"].skew()"
   ]
  },
  {
   "cell_type": "code",
   "execution_count": 545,
   "id": "cb428dd1",
   "metadata": {},
   "outputs": [
    {
     "data": {
      "text/plain": [
       "(6.0, 6.3, 6.4, 7.0, 7.7, 8.8)"
      ]
     },
     "execution_count": 545,
     "metadata": {},
     "output_type": "execute_result"
    }
   ],
   "source": [
    "wine_df[\"fixed acidity\"].quantile(0.10),wine_df[\"fixed acidity\"].quantile(0.20),wine_df[\"fixed acidity\"].quantile(0.25),wine_df[\"fixed acidity\"].quantile(0.50),wine_df[\"fixed acidity\"].quantile(0.75),wine_df[\"fixed acidity\"].quantile(0.90)"
   ]
  },
  {
   "cell_type": "code",
   "execution_count": 546,
   "id": "c57921be",
   "metadata": {},
   "outputs": [
    {
     "data": {
      "text/plain": [
       "Text(0.5, 1.06, 'histogram plot of fixed acidity')"
      ]
     },
     "execution_count": 546,
     "metadata": {},
     "output_type": "execute_result"
    },
    {
     "data": {
      "image/png": "[encoded data removed]",
      "text/plain": [
       "<Figure size 640x480 with 1 Axes>"
      ]
     },
     "metadata": {},
     "output_type": "display_data"
    }
   ],
   "source": [
    "sns.histplot(wine_df[\"fixed acidity\"],color=\"red\")\n",
    "plt.title(\"histogram plot of fixed acidity\",y=1.06)"
   ]
  },
  {
   "cell_type": "code",
   "execution_count": 547,
   "id": "27d96224",
   "metadata": {},
   "outputs": [
    {
     "name": "stderr",
     "output_type": "stream",
     "text": [
      "C:\\Users\\Vishal\\AppData\\Local\\Temp\\ipykernel_20460\\286149059.py:1: UserWarning: \n",
      "\n",
      "`distplot` is a deprecated function and will be removed in seaborn v0.14.0.\n",
      "\n",
      "Please adapt your code to use either `displot` (a figure-level function with\n",
      "similar flexibility) or `kdeplot` (an axes-level function for kernel density plots).\n",
      "\n",
      "For a guide to updating your code to use the new functions, please see\n",
      "https://gist.github.com/mwaskom/de44147ed2974457ad6372750bbe5751\n",
      "\n",
      "  sns.distplot(wine_df[\"fixed acidity\"],color=\"green\",hist=False)\n"
     ]
    },
    {
     "data": {
      "text/plain": [
       "Text(0.5, 1.06, 'distribution plot of fixed acidity')"
      ]
     },
     "execution_count": 547,
     "metadata": {},
     "output_type": "execute_result"
    },
    {
     "data": {
      "image/png": "[encoded data removed]",
      "text/plain": [
       "<Figure size 640x480 with 1 Axes>"
      ]
     },
     "metadata": {},
     "output_type": "display_data"
    }
   ],
   "source": [
    "sns.distplot(wine_df[\"fixed acidity\"],color=\"green\",hist=False)\n",
    "plt.title(\"distribution plot of fixed acidity\",y=1.06)"
   ]
  },
  {
   "cell_type": "code",
   "execution_count": 548,
   "id": "0b2f7e54",
   "metadata": {},
   "outputs": [
    {
     "data": {
      "text/plain": [
       "Text(0.5, 1.06, 'box plot of fixed acidity')"
      ]
     },
     "execution_count": 548,
     "metadata": {},
     "output_type": "execute_result"
    },
    {
     "data": {
      "image/png": "[encoded data removed]",
      "text/plain": [
       "<Figure size 640x480 with 1 Axes>"
      ]
     },
     "metadata": {},
     "output_type": "display_data"
    }
   ],
   "source": [
    "sns.boxplot(wine_df[\"fixed acidity\"])\n",
    "plt.title(\"box plot of fixed acidity\",y=1.06)"
   ]
  },
  {
   "cell_type": "code",
   "execution_count": 549,
   "id": "aee1cedc",
   "metadata": {},
   "outputs": [
    {
     "data": {
      "text/plain": [
       "Text(0.5, 1.06, 'violin plot of fixed acidity')"
      ]
     },
     "execution_count": 549,
     "metadata": {},
     "output_type": "execute_result"
    },
    {
     "data": {
      "image/png": "[encoded data removed]",
      "text/plain": [
       "<Figure size 640x480 with 1 Axes>"
      ]
     },
     "metadata": {},
     "output_type": "display_data"
    }
   ],
   "source": [
    "\n",
    "sns.violinplot(wine_df[\"fixed acidity\"],color=\"plum\")\n",
    "plt.title(\"violin plot of fixed acidity\",y=1.06)\n"
   ]
  },
  {
   "cell_type": "code",
   "execution_count": 550,
   "id": "553c7985",
   "metadata": {},
   "outputs": [
    {
     "data": {
      "text/plain": [
       "Text(0.5, 1.06, 'swarm plot of fixed acidity')"
      ]
     },
     "execution_count": 550,
     "metadata": {},
     "output_type": "execute_result"
    },
    {
     "name": "stderr",
     "output_type": "stream",
     "text": [
      "F:\\vishal\\conda\\lib\\site-packages\\seaborn\\categorical.py:3544: UserWarning: 63.5% of the points cannot be placed; you may want to decrease the size of the markers or use stripplot.\n",
      "  warnings.warn(msg, UserWarning)\n"
     ]
    },
    {
     "data": {
      "image/png": "[encoded data removed]",
      "text/plain": [
       "<Figure size 640x480 with 1 Axes>"
      ]
     },
     "metadata": {},
     "output_type": "display_data"
    }
   ],
   "source": [
    "\n",
    "sns.swarmplot(wine_df[\"fixed acidity\"],size=3)\n",
    "plt.title(\"swarm plot of fixed acidity\",y=1.06)\n"
   ]
  },
  {
   "cell_type": "code",
   "execution_count": 551,
   "id": "2c9b56ad",
   "metadata": {},
   "outputs": [
    {
     "data": {
      "text/plain": [
       "(6.0, 6.3, 6.4, 7.0, 7.7, 8.8)"
      ]
     },
     "execution_count": 551,
     "metadata": {},
     "output_type": "execute_result"
    }
   ],
   "source": [
    "wine_df[\"fixed acidity\"].quantile(0.10),wine_df[\"fixed acidity\"].quantile(0.20),wine_df[\"fixed acidity\"].quantile(0.25),wine_df[\"fixed acidity\"].quantile(0.50),wine_df[\"fixed acidity\"].quantile(0.75),wine_df[\"fixed acidity\"].quantile(0.90)"
   ]
  },
  {
   "cell_type": "code",
   "execution_count": 552,
   "id": "b85c092f",
   "metadata": {},
   "outputs": [],
   "source": [
    "#1) ## what is the fixed acidity in the wine accirding to tupe?"
   ]
  },
  {
   "cell_type": "code",
   "execution_count": 553,
   "id": "333265d0",
   "metadata": {},
   "outputs": [
    {
     "data": {
      "text/plain": [
       "fixed acidity\n",
       "3.8     1\n",
       "3.9     1\n",
       "4.2     2\n",
       "4.4     3\n",
       "4.5     1\n",
       "       ..\n",
       "14.3    1\n",
       "15.0    2\n",
       "15.5    2\n",
       "15.6    2\n",
       "15.9    1\n",
       "Name: type, Length: 106, dtype: int64"
      ]
     },
     "execution_count": 553,
     "metadata": {},
     "output_type": "execute_result"
    }
   ],
   "source": [
    "wine_df.groupby(\"fixed acidity\")[\"type\"].count()\n"
   ]
  },
  {
   "cell_type": "code",
   "execution_count": 554,
   "id": "d59ac2ca",
   "metadata": {},
   "outputs": [
    {
     "data": {
      "text/plain": [
       "<Axes: xlabel='fixed acidity', ylabel='type'>"
      ]
     },
     "execution_count": 554,
     "metadata": {},
     "output_type": "execute_result"
    },
    {
     "data": {
      "image/png": "[encoded data removed]",
      "text/plain": [
       "<Figure size 640x480 with 1 Axes>"
      ]
     },
     "metadata": {},
     "output_type": "display_data"
    }
   ],
   "source": [
    "sns.barplot(wine_df,x=\"fixed acidity\",y=\"type\",errorbar=None)"
   ]
  },
  {
   "cell_type": "code",
   "execution_count": 555,
   "id": "8e958531",
   "metadata": {},
   "outputs": [],
   "source": [
    "##conclusion-according to the bar plot fatty acid containn is more in red wine than white wine "
   ]
  },
  {
   "cell_type": "code",
   "execution_count": 556,
   "id": "8eb98543",
   "metadata": {},
   "outputs": [
    {
     "ename": "NameError",
     "evalue": "name 'conclusion' is not defined",
     "output_type": "error",
     "traceback": [
      "\u001b[1;31m---------------------------------------------------------------------------\u001b[0m",
      "\u001b[1;31mNameError\u001b[0m                                 Traceback (most recent call last)",
      "Cell \u001b[1;32mIn[556], line 1\u001b[0m\n\u001b[1;32m----> 1\u001b[0m \u001b[43mconclusion\u001b[49m\n",
      "\u001b[1;31mNameError\u001b[0m: name 'conclusion' is not defined"
     ]
    }
   ],
   "source": [
    "conclusion"
   ]
  },
  {
   "cell_type": "markdown",
   "id": "854e1d25",
   "metadata": {},
   "source": [
    "**fixed acidity** Column has a asymmetrical distribution with skew 1.722 which is not  between -0.5 and 0.5 . \n",
    "- Density curve for fixed acidity is centred around mean 7.216  with standard deviation of 1.296.\n",
    "- Range of Age value is from minimum 3.8 and maximum 15.9\n",
    "\n",
    "- 10%  of fixed acidity are 6.0\n",
    "- 20% of fixed acidity are 6.3\n",
    "- 25% of fixed acidity are 6.4\n",
    "- 50% of fixed acidity are.7.0\n",
    "- 75% of fixed acidity are 7.7\n",
    "-90%  of fixed acidity are 8.8\n",
    "- fixed acidity  has few extreme values toward 16 according to boxplot analysis\n",
    "fatty acids colum could be a good predictor for further analysis with diff colums ."
   ]
  },
  {
   "cell_type": "markdown",
   "id": "639a16cd",
   "metadata": {},
   "source": [
    "# 2) volatile acidity"
   ]
  },
  {
   "cell_type": "code",
   "execution_count": null,
   "id": "57c7e31d",
   "metadata": {},
   "outputs": [],
   "source": [
    "wine_df[\"volatile acidity\"].mean()"
   ]
  },
  {
   "cell_type": "code",
   "execution_count": null,
   "id": "86029dd5",
   "metadata": {},
   "outputs": [],
   "source": [
    "wine_df[\"volatile acidity\"].median()"
   ]
  },
  {
   "cell_type": "code",
   "execution_count": null,
   "id": "fd5bb221",
   "metadata": {},
   "outputs": [],
   "source": [
    "wine_df[\"volatile acidity\"].median()"
   ]
  },
  {
   "cell_type": "code",
   "execution_count": null,
   "id": "9e272cb1",
   "metadata": {},
   "outputs": [],
   "source": [
    "wine_df[\"volatile acidity\"].std()"
   ]
  },
  {
   "cell_type": "code",
   "execution_count": null,
   "id": "f1ba50b9",
   "metadata": {},
   "outputs": [],
   "source": [
    "wine_df[\"volatile acidity\"].var()"
   ]
  },
  {
   "cell_type": "code",
   "execution_count": null,
   "id": "0ce8b687",
   "metadata": {},
   "outputs": [],
   "source": [
    "wine_df[\"volatile acidity\"].min()"
   ]
  },
  {
   "cell_type": "code",
   "execution_count": null,
   "id": "bb3079a0",
   "metadata": {},
   "outputs": [],
   "source": [
    "wine_df[\"volatile acidity\"].max()"
   ]
  },
  {
   "cell_type": "code",
   "execution_count": null,
   "id": "bebd93cf",
   "metadata": {},
   "outputs": [],
   "source": [
    "wine_df[\"volatile acidity\"].skew()"
   ]
  },
  {
   "cell_type": "code",
   "execution_count": null,
   "id": "0ff57dc1",
   "metadata": {},
   "outputs": [],
   "source": [
    "wine_df[\"volatile acidity\"].unique()"
   ]
  },
  {
   "cell_type": "code",
   "execution_count": null,
   "id": "e259991f",
   "metadata": {},
   "outputs": [],
   "source": [
    "wine_df[\"volatile acidity\"].nunique()"
   ]
  },
  {
   "cell_type": "code",
   "execution_count": null,
   "id": "70308aa1",
   "metadata": {},
   "outputs": [],
   "source": [
    "wine_df[\"volatile acidity\"].quantile(0.10),wine_df[\"volatile acidity\"].quantile(0.20),wine_df[\"volatile acidity\"].quantile(0.25),wine_df[\"volatile acidity\"].quantile(0.50),wine_df[\"volatile acidity\"].quantile(0.75),wine_df[\"volatile acidity\"].quantile(0.90)"
   ]
  },
  {
   "cell_type": "code",
   "execution_count": null,
   "id": "870eb1ea",
   "metadata": {},
   "outputs": [],
   "source": [
    "sns.histplot(wine_df[\"volatile acidity\"],color=\"green\")\n",
    "plt.title(\"histogram plot of volatile acidity\",y=1.06)"
   ]
  },
  {
   "cell_type": "code",
   "execution_count": null,
   "id": "16074d35",
   "metadata": {},
   "outputs": [],
   "source": [
    "sns.distplot(wine_df[\"volatile acidity\"],hist=False)\n",
    "plt.title(\"distribution plot of volatile acidity\",y=1.06)"
   ]
  },
  {
   "cell_type": "code",
   "execution_count": null,
   "id": "294713eb",
   "metadata": {},
   "outputs": [],
   "source": [
    "sns.boxplot(wine_df[\"volatile acidity\"])\n",
    "plt.title(\"box plot of volatile acidity\",y=1.06)"
   ]
  },
  {
   "cell_type": "code",
   "execution_count": null,
   "id": "daf1e76c",
   "metadata": {},
   "outputs": [],
   "source": [
    "sns.violinplot(wine_df[\"volatile acidity\"],color=\"orange\",orient='h')\n",
    "sns.swarmplot(wine_df[\"volatile acidity\"],size=1,orient='h')\n",
    "plt.title(\"violin and swarm  plot of volatile acidity\",y=1.06)"
   ]
  },
  {
   "cell_type": "code",
   "execution_count": null,
   "id": "73242fad",
   "metadata": {},
   "outputs": [],
   "source": [
    "wine_df[\"volatile acidity\"].quantile(0.10),wine_df[\"volatile acidity\"].quantile(0.20),wine_df[\"volatile acidity\"].quantile(0.25),wine_df[\"volatile acidity\"].quantile(0.50),wine_df[\"volatile acidity\"].quantile(0.75),wine_df[\"volatile acidity\"].quantile(0.90)"
   ]
  },
  {
   "cell_type": "markdown",
   "id": "cd2b2467",
   "metadata": {},
   "source": [
    "**volatile acidity** Column has a asymmetrical distribution with skew 1.58 which is not  between -0.5 and 0.5 . \n",
    "- Density curve for volatile acidity is centred around mean 0.339  with standard deviation of 0.164.\n",
    "- Range of volatile acidity  is from minimum 3.8 and maximum 15.9\n",
    ".\n",
    "- 10%  of volatile acidity is 0.18\n",
    "- 20% of volatile acidity is 0.21\n",
    "- 25% of volatile acidity is 0.23\n",
    "- 50% of volatile acidity is 0.29\n",
    "- 75% of volatile acidity is 0.4\n",
    "-90%  of volatile acidity is 0.59\n",
    "- volatile acidity  has few extreme values toward 1.6 according to boxplot analysis\n",
    "volatile acidity colum could be a good predictor for further analysis with diff colums ."
   ]
  },
  {
   "cell_type": "markdown",
   "id": "4f96585a",
   "metadata": {},
   "source": [
    "# citric acid"
   ]
  },
  {
   "cell_type": "code",
   "execution_count": null,
   "id": "fe1814f5",
   "metadata": {},
   "outputs": [],
   "source": [
    "wine_df[\"citric acid\"].mean()"
   ]
  },
  {
   "cell_type": "code",
   "execution_count": null,
   "id": "721886ab",
   "metadata": {},
   "outputs": [],
   "source": [
    "wine_df[\"citric acid\"].median()"
   ]
  },
  {
   "cell_type": "code",
   "execution_count": null,
   "id": "c487a024",
   "metadata": {},
   "outputs": [],
   "source": [
    "wine_df[\"citric acid\"].std()"
   ]
  },
  {
   "cell_type": "code",
   "execution_count": null,
   "id": "158d39ca",
   "metadata": {},
   "outputs": [],
   "source": [
    "wine_df[\"citric acid\"].var()"
   ]
  },
  {
   "cell_type": "code",
   "execution_count": null,
   "id": "5662e96c",
   "metadata": {},
   "outputs": [],
   "source": [
    "wine_df[\"citric acid\"].min()"
   ]
  },
  {
   "cell_type": "code",
   "execution_count": null,
   "id": "bce70e0d",
   "metadata": {},
   "outputs": [],
   "source": [
    "wine_df[\"citric acid\"].max()"
   ]
  },
  {
   "cell_type": "code",
   "execution_count": null,
   "id": "c8c564d7",
   "metadata": {},
   "outputs": [],
   "source": [
    "wine_df[\"citric acid\"].unique()"
   ]
  },
  {
   "cell_type": "code",
   "execution_count": null,
   "id": "8ae1a3c6",
   "metadata": {},
   "outputs": [],
   "source": [
    "wine_df[\"citric acid\"].nunique()"
   ]
  },
  {
   "cell_type": "code",
   "execution_count": null,
   "id": "28288177",
   "metadata": {},
   "outputs": [],
   "source": [
    "wine_df[\"citric acid\"].skew()"
   ]
  },
  {
   "cell_type": "code",
   "execution_count": null,
   "id": "f9c1685c",
   "metadata": {},
   "outputs": [],
   "source": []
  },
  {
   "cell_type": "code",
   "execution_count": null,
   "id": "e91593c2",
   "metadata": {},
   "outputs": [],
   "source": [
    "sns.histplot(wine_df[\"citric acid\"])"
   ]
  },
  {
   "cell_type": "code",
   "execution_count": null,
   "id": "1fcb1739",
   "metadata": {},
   "outputs": [],
   "source": [
    "sns.distplot(wine_df[\"citric acid\"],hist=False)"
   ]
  },
  {
   "cell_type": "code",
   "execution_count": null,
   "id": "52b9152c",
   "metadata": {},
   "outputs": [],
   "source": [
    "wine_df[\"citric acid\"].quantile(0.10),wine_df[\"citric acid\"].quantile(0.20),wine_df[\"citric acid\"].quantile(0.25),wine_df[\"citric acid\"].quantile(0.50),wine_df[\"citric acid\"].quantile(0.75),wine_df[\"citric acid\"].quantile(0.90)"
   ]
  },
  {
   "cell_type": "code",
   "execution_count": null,
   "id": "3aeb4481",
   "metadata": {},
   "outputs": [],
   "source": [
    "sns.boxplot(wine_df[\"citric acid\"])"
   ]
  },
  {
   "cell_type": "code",
   "execution_count": null,
   "id": "488295c1",
   "metadata": {},
   "outputs": [],
   "source": [
    "plt.figure(figsize=(6,6))\n",
    "sns.violinplot(wine_df[\"citric acid\"],color=\"orange\",origin=\"h\")"
   ]
  },
  {
   "cell_type": "code",
   "execution_count": null,
   "id": "88b8fae6",
   "metadata": {},
   "outputs": [],
   "source": [
    "sns.swarmplot(wine_df[\"citric acid\"])"
   ]
  },
  {
   "cell_type": "code",
   "execution_count": null,
   "id": "3e3619f4",
   "metadata": {},
   "outputs": [],
   "source": [
    "wine_df[\"citric acid\"].quantile(0.10),wine_df[\"citric acid\"].quantile(0.20),wine_df[\"citric acid\"].quantile(0.25),wine_df[\"citric acid\"].quantile(0.50),wine_df[\"citric acid\"].quantile(0.75),wine_df[\"citric acid\"].quantile(0.90)"
   ]
  },
  {
   "cell_type": "markdown",
   "id": "17f5796f",
   "metadata": {},
   "source": [
    "**citric acid** Column has a symmetrical distribution with skew 0.47 which is   between -0.5 and 0.5 . \n",
    "- Density curve for volatile acidity is centred around mean 0.38172   with standard deviation of0.145 .\n",
    "- Range of citric is from minimum 0.0 and maximum 1.6\n",
    "\n",
    "- 10%  of acetic acid is 0.14\n",
    "- 20% of acetic acid is 0.12\n",
    "- 25% of actic acid is 0.25\n",
    "- 50% of actic acid is 0.31\n",
    "- 75% of acetic acid is 0.39\n",
    "-90%  of acetic acid is 0.49\n",
    "- acetic acid   has few extreme values toward 1.60 according to boxplot analysis\n",
    "volatile acidity colum could be a good predictor for further analysis with diff colums ."
   ]
  },
  {
   "cell_type": "code",
   "execution_count": null,
   "id": "19144149",
   "metadata": {},
   "outputs": [],
   "source": [
    "wine_df"
   ]
  },
  {
   "cell_type": "markdown",
   "id": "d58162ff",
   "metadata": {},
   "source": [
    "# residual sugar"
   ]
  },
  {
   "cell_type": "code",
   "execution_count": null,
   "id": "22738e0d",
   "metadata": {},
   "outputs": [],
   "source": [
    "wine_df[\"residual sugar\"].mean()"
   ]
  },
  {
   "cell_type": "code",
   "execution_count": null,
   "id": "6c60db7a",
   "metadata": {},
   "outputs": [],
   "source": [
    "wine_df[\"residual sugar\"].median()"
   ]
  },
  {
   "cell_type": "code",
   "execution_count": null,
   "id": "f093a80a",
   "metadata": {},
   "outputs": [],
   "source": [
    "wine_df[\"residual sugar\"].std()"
   ]
  },
  {
   "cell_type": "code",
   "execution_count": null,
   "id": "59c1217a",
   "metadata": {},
   "outputs": [],
   "source": [
    "wine_df[\"residual sugar\"].var()"
   ]
  },
  {
   "cell_type": "code",
   "execution_count": null,
   "id": "ab08ae50",
   "metadata": {},
   "outputs": [],
   "source": [
    "wine_df[\"residual sugar\"].max()"
   ]
  },
  {
   "cell_type": "code",
   "execution_count": null,
   "id": "8c1fab35",
   "metadata": {},
   "outputs": [],
   "source": [
    "wine_df[\"residual sugar\"].min()"
   ]
  },
  {
   "cell_type": "code",
   "execution_count": null,
   "id": "8b05a513",
   "metadata": {},
   "outputs": [],
   "source": [
    "wine_df[\"residual sugar\"].skew()"
   ]
  },
  {
   "cell_type": "code",
   "execution_count": null,
   "id": "dc7e31cc",
   "metadata": {},
   "outputs": [],
   "source": [
    "wine_df[\"residual sugar\"].unique()"
   ]
  },
  {
   "cell_type": "code",
   "execution_count": null,
   "id": "5d41b15d",
   "metadata": {},
   "outputs": [],
   "source": [
    "wine_df[\"residual sugar\"].nunique()"
   ]
  },
  {
   "cell_type": "code",
   "execution_count": null,
   "id": "e219fc43",
   "metadata": {},
   "outputs": [],
   "source": [
    "wine_df[\"residual sugar\"].quantile(0.10),wine_df[\"residual sugar\"].quantile(0.20),wine_df[\"residual sugar\"].quantile(0.25),wine_df[\"residual sugar\"].quantile(0.50),wine_df[\"residual sugar\"].quantile(0.75),wine_df[\"residual sugar\"].quantile(0.90)"
   ]
  },
  {
   "cell_type": "code",
   "execution_count": null,
   "id": "9763d23b",
   "metadata": {},
   "outputs": [],
   "source": [
    "sns.histplot(wine_df[\"residual sugar\"],color=\"yellow\")"
   ]
  },
  {
   "cell_type": "code",
   "execution_count": null,
   "id": "50c3fe70",
   "metadata": {},
   "outputs": [],
   "source": [
    "sns.distplot(wine_df[\"residual sugar\"],hist=False)"
   ]
  },
  {
   "cell_type": "code",
   "execution_count": null,
   "id": "37047bd8",
   "metadata": {},
   "outputs": [],
   "source": [
    "sns.boxplot(wine_df[\"residual sugar\"],orient='h',color=\"red\")"
   ]
  },
  {
   "cell_type": "code",
   "execution_count": null,
   "id": "15db96a1",
   "metadata": {},
   "outputs": [],
   "source": [
    "sns.violinplot(wine_df[\"residual sugar\"],orient='h',color=\"green\")"
   ]
  },
  {
   "cell_type": "code",
   "execution_count": null,
   "id": "57499aa1",
   "metadata": {},
   "outputs": [],
   "source": [
    "sns.swarmplot(wine_df[\"residual sugar\"],orient='h',color=\"blue\")"
   ]
  },
  {
   "cell_type": "code",
   "execution_count": null,
   "id": "67b81f8a",
   "metadata": {},
   "outputs": [],
   "source": [
    "wine_df[\"residual sugar\"].quantile(0.10),wine_df[\"residual sugar\"].quantile(0.20),wine_df[\"residual sugar\"].quantile(0.25),wine_df[\"residual sugar\"].quantile(0.50),wine_df[\"residual sugar\"].quantile(0.75),wine_df[\"residual sugar\"].quantile(0.90)"
   ]
  },
  {
   "cell_type": "markdown",
   "id": "3fcc37d0",
   "metadata": {},
   "source": [
    "**residual sugar** Column has a asymmetrical distribution with skew 1.43 which is not  between -0.5 and 0.5 . \n",
    "- Density curve for residual is centred around mean  5.44  with standard deviation of 4.75 .\n",
    "- Range of residual sugar is from minimum 0.6  and maximum 65.8\n",
    "\n",
    "- 10%  of residual sugar is 1.3\n",
    "- 20% of residual sugar is 1.7\n",
    "- 25% of residual sugar is 1.8\n",
    "- 50% of residual sugar is 3.0\n",
    "- 75% of residual sugar is 8.1\n",
    "-90%  of resi dual sugar is 13.0\n",
    "- residual sugar   has few extreme values toward 70 according to boxplot analysis\n",
    "residual sugar colum could be a good predictor for further analysis with diff colums ."
   ]
  },
  {
   "cell_type": "markdown",
   "id": "e15cc93b",
   "metadata": {},
   "source": [
    "# chlorides"
   ]
  },
  {
   "cell_type": "code",
   "execution_count": null,
   "id": "0b4505b0",
   "metadata": {},
   "outputs": [],
   "source": [
    "wine_df[\"chlorides\"].mean()"
   ]
  },
  {
   "cell_type": "code",
   "execution_count": null,
   "id": "3efac1ff",
   "metadata": {},
   "outputs": [],
   "source": [
    "wine_df[\"chlorides\"].median()"
   ]
  },
  {
   "cell_type": "code",
   "execution_count": null,
   "id": "1fedb173",
   "metadata": {},
   "outputs": [],
   "source": [
    "wine_df[\"chlorides\"].max()"
   ]
  },
  {
   "cell_type": "code",
   "execution_count": null,
   "id": "39b8a50d",
   "metadata": {},
   "outputs": [],
   "source": [
    "wine_df[\"chlorides\"].min()"
   ]
  },
  {
   "cell_type": "code",
   "execution_count": null,
   "id": "87cd1fd3",
   "metadata": {},
   "outputs": [],
   "source": [
    "wine_df[\"chlorides\"].max()"
   ]
  },
  {
   "cell_type": "code",
   "execution_count": null,
   "id": "1c7f617a",
   "metadata": {},
   "outputs": [],
   "source": [
    "wine_df[\"chlorides\"].std()"
   ]
  },
  {
   "cell_type": "code",
   "execution_count": null,
   "id": "eb678f83",
   "metadata": {},
   "outputs": [],
   "source": [
    "wine_df[\"chlorides\"].min()"
   ]
  },
  {
   "cell_type": "code",
   "execution_count": null,
   "id": "f65537a6",
   "metadata": {},
   "outputs": [],
   "source": [
    "wine_df[\"chlorides\"].skew()"
   ]
  },
  {
   "cell_type": "code",
   "execution_count": null,
   "id": "f904abda",
   "metadata": {},
   "outputs": [],
   "source": [
    "wine_df[\"residual sugar\"].quantile(0.10),wine_df[\"chlorides\"].quantile(0.20),wine_df[\"chlorides\"].quantile(0.25),wine_df[\"chlorides\"].quantile(0.50),wine_df[\"chlorides\"].quantile(0.75),wine_df[\"chlorides\"].quantile(0.90)"
   ]
  },
  {
   "cell_type": "code",
   "execution_count": null,
   "id": "0a580ed1",
   "metadata": {},
   "outputs": [],
   "source": [
    "sns.histplot(wine_df[\"chlorides\"],color=\"green\",bins=20)"
   ]
  },
  {
   "cell_type": "code",
   "execution_count": null,
   "id": "93be6ee4",
   "metadata": {},
   "outputs": [],
   "source": [
    "sns.distplot(wine_df[\"chlorides\"],hist=False)"
   ]
  },
  {
   "cell_type": "code",
   "execution_count": null,
   "id": "53f6063c",
   "metadata": {},
   "outputs": [],
   "source": [
    "sns.boxplot(wine_df[\"chlorides\"],orient='h')"
   ]
  },
  {
   "cell_type": "code",
   "execution_count": null,
   "id": "ef1598aa",
   "metadata": {},
   "outputs": [],
   "source": [
    "sns.violinplot(wine_df[\"chlorides\"],orient='h',color=\"plum\")"
   ]
  },
  {
   "cell_type": "code",
   "execution_count": null,
   "id": "40aabd64",
   "metadata": {},
   "outputs": [],
   "source": [
    "sns.swarmplot(wine_df[\"chlorides\"],orient='h',color=\"green\")"
   ]
  },
  {
   "cell_type": "code",
   "execution_count": null,
   "id": "1cbc6085",
   "metadata": {},
   "outputs": [],
   "source": [
    "wine_df[\"residual sugar\"].quantile(0.10),wine_df[\"chlorides\"].quantile(0.20),wine_df[\"chlorides\"].quantile(0.25),wine_df[\"chlorides\"].quantile(0.50),wine_df[\"chlorides\"].quantile(0.75),wine_df[\"chlorides\"].quantile(0.90)"
   ]
  },
  {
   "cell_type": "markdown",
   "id": "bbebb55c",
   "metadata": {},
   "source": [
    "**chlorides** Column has a asymmetrical distribution with skew 5.399 which is not  between -0.5 and 0.5 . \n",
    "- chlorides for residual is centred around mean  0.05  with standard deviation of 0.03 .\n",
    "- Range of chlorides value is from minimum 0.009 and maximum 0.611\n",
    "\n",
    "- 10%  of chlorides is 1.3\n",
    "- 20% of chlorides is 0.036\n",
    "- 25% of chlorides  is 0.038\n",
    "- 50% of chlorides is 0.047\n",
    "- 75% of chlorides  is 0.065\n",
    "-90%  of chlorides  is 0.086\n",
    "- chloride    has few extreme values toward 0.6 according to boxplot analysis\n",
    "chlorides colum could be a good predictor for further analysis with diff colums ."
   ]
  },
  {
   "cell_type": "code",
   "execution_count": null,
   "id": "dc776df5",
   "metadata": {},
   "outputs": [],
   "source": []
  },
  {
   "cell_type": "code",
   "execution_count": null,
   "id": "3a058001",
   "metadata": {},
   "outputs": [],
   "source": [
    "wine_df"
   ]
  },
  {
   "cell_type": "markdown",
   "id": "5e9a44ca",
   "metadata": {},
   "source": [
    "# free sulphur dioxide"
   ]
  },
  {
   "cell_type": "code",
   "execution_count": null,
   "id": "33c0be6d",
   "metadata": {},
   "outputs": [],
   "source": [
    "wine_df[\"free sulfur dioxide\"].mean()"
   ]
  },
  {
   "cell_type": "code",
   "execution_count": null,
   "id": "3a9e80cb",
   "metadata": {},
   "outputs": [],
   "source": [
    "wine_df[\"free sulfur dioxide\"].median()"
   ]
  },
  {
   "cell_type": "code",
   "execution_count": null,
   "id": "d6b9a2d1",
   "metadata": {},
   "outputs": [],
   "source": [
    "wine_df[\"free sulfur dioxide\"].std()"
   ]
  },
  {
   "cell_type": "code",
   "execution_count": null,
   "id": "69f2926b",
   "metadata": {},
   "outputs": [],
   "source": [
    "wine_df[\"free sulfur dioxide\"].var()"
   ]
  },
  {
   "cell_type": "code",
   "execution_count": null,
   "id": "da7d3755",
   "metadata": {},
   "outputs": [],
   "source": [
    "wine_df[\"free sulfur dioxide\"].min()"
   ]
  },
  {
   "cell_type": "code",
   "execution_count": null,
   "id": "515e5ea1",
   "metadata": {},
   "outputs": [],
   "source": [
    "wine_df[\"free sulfur dioxide\"].max()"
   ]
  },
  {
   "cell_type": "code",
   "execution_count": null,
   "id": "13c651bc",
   "metadata": {},
   "outputs": [],
   "source": [
    "wine_df[\"free sulfur dioxide\"].skew()"
   ]
  },
  {
   "cell_type": "code",
   "execution_count": null,
   "id": "3f656cbe",
   "metadata": {},
   "outputs": [],
   "source": [
    "wine_df[\"free sulfur dioxide\"].unique()"
   ]
  },
  {
   "cell_type": "code",
   "execution_count": null,
   "id": "b8675b30",
   "metadata": {},
   "outputs": [],
   "source": [
    "wine_df[\"free sulfur dioxide\"].nunique()"
   ]
  },
  {
   "cell_type": "code",
   "execution_count": null,
   "id": "1a54afa0",
   "metadata": {},
   "outputs": [],
   "source": [
    "wine_df[\"free sulfur dioxide\"].median()"
   ]
  },
  {
   "cell_type": "code",
   "execution_count": null,
   "id": "985cc5be",
   "metadata": {},
   "outputs": [],
   "source": [
    "wine_df[\"free sulfur dioxide\"].quantile(0.10),wine_df[\"free sulfur dioxide\"].quantile(0.20),wine_df[\"free sulfur dioxide\"].quantile(0.25),wine_df[\"free sulfur dioxide\"].quantile(0.50),wine_df[\"free sulfur dioxide\"].quantile(0.75),wine_df[\"free sulfur dioxide\"].quantile(0.90)"
   ]
  },
  {
   "cell_type": "code",
   "execution_count": null,
   "id": "0b963316",
   "metadata": {},
   "outputs": [],
   "source": [
    "sns.histplot(wine_df[\"free sulfur dioxide\"],color=\"plum\",bins=10)\n",
    "plt.title(\"histogram plot of free sifur dioxide\",y=1.06)"
   ]
  },
  {
   "cell_type": "code",
   "execution_count": null,
   "id": "20d9d058",
   "metadata": {},
   "outputs": [],
   "source": [
    "sns.distplot(wine_df[\"free sulfur dioxide\"],hist=False)\n",
    "plt.title(\"distribution plot of free sulphur dioxide\",y=1.06)"
   ]
  },
  {
   "cell_type": "code",
   "execution_count": null,
   "id": "ac32ef77",
   "metadata": {},
   "outputs": [],
   "source": [
    "sns.boxplot(wine_df[\"free sulfur dioxide\"],orient='h',color=\"green\")\n",
    "plt.title(\"box plot for free sulfur dioxide\",y=1.06)"
   ]
  },
  {
   "cell_type": "code",
   "execution_count": null,
   "id": "c300b647",
   "metadata": {},
   "outputs": [],
   "source": [
    "sns.violinplot(wine_df[\"free sulfur dioxide\"],orient='h',color=\"red\")\n",
    "plt.title(\"violin plot for free sulfur dioxide\",y=1.06)"
   ]
  },
  {
   "cell_type": "code",
   "execution_count": null,
   "id": "a37771dc",
   "metadata": {},
   "outputs": [],
   "source": [
    "sns.swarmplot(wine_df[\"free sulfur dioxide\"],orient='h',color=\"red\")\n",
    "plt.title(\"swarmplot for free sulfur dioxide\",y=1.06)\n"
   ]
  },
  {
   "cell_type": "code",
   "execution_count": null,
   "id": "0fb684ee",
   "metadata": {},
   "outputs": [],
   "source": [
    "wine_df[\"free sulfur dioxide\"].quantile(0.10),wine_df[\"free sulfur dioxide\"].quantile(0.20),wine_df[\"free sulfur dioxide\"].quantile(0.25),wine_df[\"free sulfur dioxide\"].quantile(0.50),wine_df[\"free sulfur dioxide\"].quantile(0.75),wine_df[\"free sulfur dioxide\"].quantile(0.90)"
   ]
  },
  {
   "cell_type": "markdown",
   "id": "3309f9d5",
   "metadata": {},
   "source": [
    "**free sulfur dioxide** Column has a asymmetrical distribution with skew 1.22 which is not  between -0.5 and 0.5 . \n",
    "- fre sulphur dioxides for residual is centred around mean  30  with standard deviation of 29\n",
    "- Range of free sulfur dioxideis from minimum 1.0 and maximum 289.0\n",
    "\n",
    "- 10%  of free sulfur dioxide is 9.0\n",
    "- 20% of cfree sulfur dioxide is 15.0\n",
    "- 25% of free sulfur dioxide is 17.0\n",
    "- 50% of free sulfur dioxide is 29.0\n",
    "- 75% of free sulfur dioxide is 41.0\n",
    "-90%  of free sulfur dioxide is 54.0\n",
    "- free sulfur dioxide    has few extreme values toward 300 according to boxplot analysis\n",
    "free sulfur dioxide  colum could be a good predictor for further analysis with diff colums ."
   ]
  },
  {
   "cell_type": "markdown",
   "id": "247f5916",
   "metadata": {},
   "source": [
    "# total sulfur dioxide"
   ]
  },
  {
   "cell_type": "code",
   "execution_count": null,
   "id": "6e59a5ee",
   "metadata": {},
   "outputs": [],
   "source": [
    "wine_df[\"total sulfur dioxide\"].mean()"
   ]
  },
  {
   "cell_type": "code",
   "execution_count": null,
   "id": "fce21cea",
   "metadata": {},
   "outputs": [],
   "source": [
    "wine_df[\"total sulfur dioxide\"].median()"
   ]
  },
  {
   "cell_type": "code",
   "execution_count": null,
   "id": "d22dcf48",
   "metadata": {},
   "outputs": [],
   "source": [
    "wine_df[\"total sulfur dioxide\"].std()"
   ]
  },
  {
   "cell_type": "code",
   "execution_count": null,
   "id": "9e2c673c",
   "metadata": {},
   "outputs": [],
   "source": [
    "wine_df[\"total sulfur dioxide\"].std()"
   ]
  },
  {
   "cell_type": "code",
   "execution_count": null,
   "id": "df2e1cff",
   "metadata": {},
   "outputs": [],
   "source": [
    "wine_df[\"total sulfur dioxide\"].var()"
   ]
  },
  {
   "cell_type": "code",
   "execution_count": null,
   "id": "d5bddd91",
   "metadata": {},
   "outputs": [],
   "source": [
    "wine_df[\"total sulfur dioxide\"].min()"
   ]
  },
  {
   "cell_type": "code",
   "execution_count": null,
   "id": "7dbc9e6f",
   "metadata": {},
   "outputs": [],
   "source": [
    "wine_df[\"total sulfur dioxide\"].max()"
   ]
  },
  {
   "cell_type": "code",
   "execution_count": null,
   "id": "2c703f99",
   "metadata": {},
   "outputs": [],
   "source": [
    "wine_df[\"total sulfur dioxide\"].skew()"
   ]
  },
  {
   "cell_type": "code",
   "execution_count": null,
   "id": "5e04388a",
   "metadata": {},
   "outputs": [],
   "source": [
    "wine_df[\"total sulfur dioxide\"].unique()"
   ]
  },
  {
   "cell_type": "code",
   "execution_count": null,
   "id": "db2b43e9",
   "metadata": {},
   "outputs": [],
   "source": [
    "wine_df[\"total sulfur dioxide\"].nunique()"
   ]
  },
  {
   "cell_type": "code",
   "execution_count": null,
   "id": "396f337b",
   "metadata": {},
   "outputs": [],
   "source": [
    "wine_df[\"total sulfur dioxide\"].quantile(0.10),wine_df[\"total sulfur dioxide\"].quantile(0.20),wine_df[\"total sulfur dioxide\"].quantile(0.25),wine_df[\"total sulfur dioxide\"].quantile(0.50),wine_df[\"total sulfur dioxide\"].quantile(0.75),wine_df[\"total sulfur dioxide\"].quantile(0.90)"
   ]
  },
  {
   "cell_type": "code",
   "execution_count": null,
   "id": "7bc39ab0",
   "metadata": {},
   "outputs": [],
   "source": [
    "sns.histplot(wine_df[\"total sulfur dioxide\"],color=\"plum\",)\n",
    "plt.title(\"histogram plot of total sifur dioxide\",y=1.06)"
   ]
  },
  {
   "cell_type": "code",
   "execution_count": null,
   "id": "2517cfac",
   "metadata": {},
   "outputs": [],
   "source": [
    "sns.distplot(wine_df[\"total sulfur dioxide\"],hist=False)\n",
    "plt.title(\"distribution plot of total sulphur dioxide\",y=1.06)"
   ]
  },
  {
   "cell_type": "code",
   "execution_count": null,
   "id": "571c7efd",
   "metadata": {},
   "outputs": [],
   "source": [
    "sns.boxplot(wine_df[\"total sulfur dioxide\"],orient='h',color=\"green\")\n",
    "plt.title(\"box plot for total sulfur dioxide\",y=1.06)"
   ]
  },
  {
   "cell_type": "code",
   "execution_count": null,
   "id": "26f6d4f0",
   "metadata": {},
   "outputs": [],
   "source": [
    "sns.violinplot(wine_df[\"total sulfur dioxide\"],orient='h',color=\"red\")\n",
    "plt.title(\"violin plot for total sulfur dioxide\",y=1.06)"
   ]
  },
  {
   "cell_type": "code",
   "execution_count": null,
   "id": "a35b99da",
   "metadata": {},
   "outputs": [],
   "source": [
    "sns.swarmplot(wine_df[\"total sulfur dioxide\"],orient='h',color=\"plum\")\n",
    "plt.title(\"swarmplot for total sulfur dioxide\",y=1.06)\n",
    "plt.figure\n"
   ]
  },
  {
   "cell_type": "code",
   "execution_count": null,
   "id": "25ed11cb",
   "metadata": {},
   "outputs": [],
   "source": [
    "wine_df[\"total sulfur dioxide\"].quantile(0.10),wine_df[\"total sulfur dioxide\"].quantile(0.20),wine_df[\"total sulfur dioxide\"].quantile(0.25),wine_df[\"total sulfur dioxide\"].quantile(0.50),wine_df[\"total sulfur dioxide\"].quantile(0.75),wine_df[\"total sulfur dioxide\"].quantile(0.90)"
   ]
  },
  {
   "cell_type": "markdown",
   "id": "06548418",
   "metadata": {},
   "source": [
    "**total sulfur dioxide** Column has a symmetrical distribution with skew -0.0011 which is   between -0.5 and 0.5 . \n",
    "- total sulphur dioxides for residual is centred around mean  115.5  with standard deviation of 56.52\n",
    "- Range of free sulfur dioxideis from minimum 1.0 and maximum 289.0\n",
    "\n",
    "- 10%  of total sulfur dioxide is 30.00\n",
    "- 20% of totalsulfur dioxide is 62.20045\n",
    "- 25% of total sulfur dioxide is 77.0\n",
    "- 50% of total sulfur dioxide is 118.0\n",
    "- 75% of total sulfur dioxide is 156.0\n",
    "-90%  of total sulfur dioxide is 188.0\n",
    "- total sulfur dioxide    has few extreme values toward 450 according to boxplot analysis\n",
    "total sulfur dioxide  colum could be a good predictor for further analysis with diff colums .and it ha two peaks according to distribution plot"
   ]
  },
  {
   "cell_type": "markdown",
   "id": "30cc33a0",
   "metadata": {},
   "source": [
    "# Desnsity"
   ]
  },
  {
   "cell_type": "code",
   "execution_count": null,
   "id": "0724c48f",
   "metadata": {},
   "outputs": [],
   "source": [
    "wine_df[\"density\"].mean()"
   ]
  },
  {
   "cell_type": "code",
   "execution_count": null,
   "id": "ebae7f82",
   "metadata": {},
   "outputs": [],
   "source": [
    "\n",
    "\n",
    "\n",
    "wine_df[\"density\"].mean()"
   ]
  },
  {
   "cell_type": "code",
   "execution_count": null,
   "id": "65030051",
   "metadata": {},
   "outputs": [],
   "source": [
    "wine_df[\"density\"].median()"
   ]
  },
  {
   "cell_type": "code",
   "execution_count": null,
   "id": "435afd95",
   "metadata": {},
   "outputs": [],
   "source": [
    "wine_df[\"density\"].std()"
   ]
  },
  {
   "cell_type": "code",
   "execution_count": null,
   "id": "6ab5167a",
   "metadata": {},
   "outputs": [],
   "source": [
    "wine_df[\"density\"].var()"
   ]
  },
  {
   "cell_type": "code",
   "execution_count": null,
   "id": "88b19db0",
   "metadata": {},
   "outputs": [],
   "source": [
    "wine_df[\"density\"].min()"
   ]
  },
  {
   "cell_type": "code",
   "execution_count": null,
   "id": "fe7279d2",
   "metadata": {},
   "outputs": [],
   "source": [
    "wine_df[\"density\"].max()"
   ]
  },
  {
   "cell_type": "code",
   "execution_count": null,
   "id": "06cf6d24",
   "metadata": {},
   "outputs": [],
   "source": [
    "wine_df[\"density\"].skew()"
   ]
  },
  {
   "cell_type": "code",
   "execution_count": null,
   "id": "2312034d",
   "metadata": {},
   "outputs": [],
   "source": [
    "wine_df[\"density\"].unique()"
   ]
  },
  {
   "cell_type": "code",
   "execution_count": null,
   "id": "da3a4242",
   "metadata": {},
   "outputs": [],
   "source": [
    "wine_df[\"density\"].nunique()"
   ]
  },
  {
   "cell_type": "code",
   "execution_count": null,
   "id": "783bb516",
   "metadata": {},
   "outputs": [],
   "source": [
    "wine_df[\"density\"].quantile(0.10),wine_df[\"density\"].quantile(0.20),wine_df[\"density\"].quantile(0.25),wine_df[\"density\"].quantile(0.50),wine_df[\"density\"].quantile(0.75),wine_df[\"density\"].quantile(0.90)"
   ]
  },
  {
   "cell_type": "code",
   "execution_count": null,
   "id": "63003e5c",
   "metadata": {},
   "outputs": [],
   "source": [
    "sns.histplot(wine_df[\"density\"],color=\"plum\",bins=20)\n",
    "plt.title(\"histogram plot of desnsity\",y=1.06)"
   ]
  },
  {
   "cell_type": "code",
   "execution_count": null,
   "id": "bd38f46f",
   "metadata": {},
   "outputs": [],
   "source": [
    "sns.distplot(wine_df[\"density\"],hist=False)\n",
    "plt.title(\"distribution plot of density\",y=1.06)"
   ]
  },
  {
   "cell_type": "code",
   "execution_count": null,
   "id": "d1939e40",
   "metadata": {},
   "outputs": [],
   "source": [
    "sns.boxplot(wine_df[\"density\"],orient='h',color=\"yellow\")\n",
    "plt.title(\"box plot for density\",y=1.06)"
   ]
  },
  {
   "cell_type": "code",
   "execution_count": null,
   "id": "f7402555",
   "metadata": {},
   "outputs": [],
   "source": [
    "sns.violinplot(wine_df[\"density\"],orient='h',color=\"plum\")\n",
    "plt.title(\"violin plot for density\",y=1.06)"
   ]
  },
  {
   "cell_type": "code",
   "execution_count": null,
   "id": "227f82af",
   "metadata": {},
   "outputs": [],
   "source": [
    "sns.swarmplot(wine_df[\"density\"],orient='h',color=\"red\")\n",
    "plt.title(\"swarmplot for density\",y=1.06)\n",
    "plt.figure(figsize=(3,3))\n"
   ]
  },
  {
   "cell_type": "code",
   "execution_count": null,
   "id": "02ae8032",
   "metadata": {},
   "outputs": [],
   "source": [
    "\n",
    "wine_df[\"density\"].quantile(0.10),wine_df[\"density\"].quantile(0.20),wine_df[\"density\"].quantile(0.25),wine_df[\"density\"].quantile(0.50),wine_df[\"density\"].quantile(0.75),wine_df[\"density\"].quantile(0.90)\n",
    "(0.99067, 0.9918, 0.99234, 0.99489, 0.99699, 0.9984"
   ]
  },
  {
   "cell_type": "markdown",
   "id": "095bb7bb",
   "metadata": {},
   "source": [
    "**density** Column has a symmetrical distribution with skew 0.50 which is   between -0.5 and 0.5 . \n",
    "- density for residual is centred around mean 0.994   with standard deviation of 0.0029\n",
    "- Range of density from minimum  0.9871 and maximum 1.0389\n",
    "\n",
    "- 10%  of density is 0.99067\n",
    "- 20% of density is 0.9918\n",
    "- 25% of densityis is 0.99234\n",
    "- 50% of density is 0.99489\n",
    "- 75% of density is 0.99699\n",
    "-90%  of density is 0.9984\n",
    "- density    has few extreme values toward 1.04 according to boxplot analys\n",
    "density colum could be a good predictor for further analysis with diff colums"
   ]
  },
  {
   "cell_type": "markdown",
   "id": "cad073d4",
   "metadata": {},
   "source": [
    "# pH"
   ]
  },
  {
   "cell_type": "code",
   "execution_count": null,
   "id": "6646db7d",
   "metadata": {},
   "outputs": [],
   "source": [
    "wine_df[\"pH\"].mean()"
   ]
  },
  {
   "cell_type": "code",
   "execution_count": null,
   "id": "efd2d43a",
   "metadata": {},
   "outputs": [],
   "source": [
    "wine_df[\"pH\"].median()"
   ]
  },
  {
   "cell_type": "code",
   "execution_count": null,
   "id": "e1f0be4e",
   "metadata": {},
   "outputs": [],
   "source": [
    "wine_df[\"pH\"].std()"
   ]
  },
  {
   "cell_type": "code",
   "execution_count": null,
   "id": "77598f60",
   "metadata": {},
   "outputs": [],
   "source": [
    "wine_df[\"pH\"].var()"
   ]
  },
  {
   "cell_type": "code",
   "execution_count": null,
   "id": "9a8b83f3",
   "metadata": {},
   "outputs": [],
   "source": [
    "wine_df[\"pH\"].min()"
   ]
  },
  {
   "cell_type": "code",
   "execution_count": null,
   "id": "28ec784d",
   "metadata": {},
   "outputs": [],
   "source": [
    "wine_df[\"pH\"].max()"
   ]
  },
  {
   "cell_type": "code",
   "execution_count": null,
   "id": "24add351",
   "metadata": {},
   "outputs": [],
   "source": [
    "wine_df[\"pH\"].unique()"
   ]
  },
  {
   "cell_type": "code",
   "execution_count": null,
   "id": "29c04f70",
   "metadata": {},
   "outputs": [],
   "source": [
    "wine_df[\"pH\"].nunique()"
   ]
  },
  {
   "cell_type": "code",
   "execution_count": null,
   "id": "ccbe474f",
   "metadata": {},
   "outputs": [],
   "source": [
    "wine_df[\"pH\"].skew()"
   ]
  },
  {
   "cell_type": "code",
   "execution_count": null,
   "id": "7578c05a",
   "metadata": {},
   "outputs": [],
   "source": [
    "wine_df[\"density\"].median()"
   ]
  },
  {
   "cell_type": "code",
   "execution_count": null,
   "id": "1bf7593c",
   "metadata": {},
   "outputs": [],
   "source": [
    "wine_df[\"pH\"].quantile(0.10),wine_df[\"pH\"].quantile(0.20),wine_df[\"pH\"].quantile(0.25),wine_df[\"pH\"].quantile(0.50),wine_df[\"pH\"].quantile(0.75),wine_df[\"pH\"].quantile(0.90)"
   ]
  },
  {
   "cell_type": "code",
   "execution_count": null,
   "id": "4e58edbf",
   "metadata": {},
   "outputs": [],
   "source": [
    "sns.histplot(wine_df[\"pH\"],color=\"plum\",bins=20)\n",
    "plt.title(\"histogram plot of pH\",y=1.06)"
   ]
  },
  {
   "cell_type": "code",
   "execution_count": null,
   "id": "7a155678",
   "metadata": {},
   "outputs": [],
   "source": [
    "sns.distplot(wine_df[\"pH\"],hist=False)\n",
    "plt.title(\"distribution plot of pH\",y=1.06)"
   ]
  },
  {
   "cell_type": "code",
   "execution_count": null,
   "id": "637fc395",
   "metadata": {},
   "outputs": [],
   "source": [
    "sns.boxplot(wine_df[\"pH\"],orient='h',color=\"yellow\")\n",
    "plt.title(\"box plot for pH\",y=1.06)"
   ]
  },
  {
   "cell_type": "code",
   "execution_count": null,
   "id": "32866375",
   "metadata": {},
   "outputs": [],
   "source": [
    "sns.violinplot(wine_df[\"pH\"],orient='h',color=\"plum\")\n",
    "plt.title(\"violin plot for pH\",y=1.06)"
   ]
  },
  {
   "cell_type": "code",
   "execution_count": null,
   "id": "fe462a61",
   "metadata": {},
   "outputs": [],
   "source": [
    "sns.swarmplot(wine_df[\"pH\"],orient='h',color=\"red\")\n",
    "plt.title(\"swarmplot for pH\",y=1.06)\n",
    "plt.figure(figsize=(3,3))\n"
   ]
  },
  {
   "cell_type": "code",
   "execution_count": null,
   "id": "4fd49080",
   "metadata": {},
   "outputs": [],
   "source": [
    "wine_df[\"pH\"].quantile(0.10),wine_df[\"pH\"].quantile(0.20),wine_df[\"pH\"].quantile(0.25),wine_df[\"pH\"].quantile(0.50),wine_df[\"pH\"].quantile(0.75),wine_df[\"pH\"].quantile(0.90)"
   ]
  },
  {
   "cell_type": "markdown",
   "id": "c5dbd167",
   "metadata": {},
   "source": [
    "**PH** Column has a symmetrical distribution with skew 0.3869  which is   between -0.5 and 0.5 . \n",
    "- PH for residual is centred around mean 3.21  with standard deviation of 1.607\n",
    "- Range of PH from minimum  2.72 and maximum 4.01\n",
    "\n",
    "- 10%  of PH is 3.02\n",
    "- 20% of PH is 3.08\n",
    "- 25% of PH is 3.11\n",
    "- 50% of PH is 3.21\n",
    "- 75% of PH is 3.32 \n",
    "-90%  of PH is 3.42\n",
    "- PH    has few extreme values toward 4.0 according to boxplot analys\n",
    "PH colum could be a good predictor for further analysis with diff colums"
   ]
  },
  {
   "cell_type": "markdown",
   "id": "33101c4e",
   "metadata": {},
   "source": [
    "# sulphates"
   ]
  },
  {
   "cell_type": "code",
   "execution_count": null,
   "id": "6d4462bf",
   "metadata": {},
   "outputs": [],
   "source": [
    "wine_df[\"sulphates\"].mean()"
   ]
  },
  {
   "cell_type": "code",
   "execution_count": null,
   "id": "1262a848",
   "metadata": {},
   "outputs": [],
   "source": [
    "wine_df[\"sulphates\"].max()"
   ]
  },
  {
   "cell_type": "code",
   "execution_count": null,
   "id": "371e97c5",
   "metadata": {},
   "outputs": [],
   "source": [
    "wine_df[\"sulphates\"].min()"
   ]
  },
  {
   "cell_type": "code",
   "execution_count": null,
   "id": "9b1a1873",
   "metadata": {},
   "outputs": [],
   "source": [
    "wine_df[\"sulphates\"].var()"
   ]
  },
  {
   "cell_type": "code",
   "execution_count": null,
   "id": "5588a2e4",
   "metadata": {},
   "outputs": [],
   "source": [
    "wine_df[\"sulphates\"].std()"
   ]
  },
  {
   "cell_type": "code",
   "execution_count": null,
   "id": "4c22be2d",
   "metadata": {},
   "outputs": [],
   "source": [
    "wine_df[\"sulphates\"].unique()"
   ]
  },
  {
   "cell_type": "code",
   "execution_count": null,
   "id": "4f118bbb",
   "metadata": {},
   "outputs": [],
   "source": [
    "wine_df[\"sulphates\"].nunique()"
   ]
  },
  {
   "cell_type": "code",
   "execution_count": null,
   "id": "d71c384c",
   "metadata": {},
   "outputs": [],
   "source": [
    "wine_df[\"sulphates\"].skew()"
   ]
  },
  {
   "cell_type": "code",
   "execution_count": null,
   "id": "dd6a6bb3",
   "metadata": {},
   "outputs": [],
   "source": [
    "wine_df[\"sulphates\"].quantile(0.10),wine_df[\"sulphates\"].quantile(0.20),wine_df[\"sulphates\"].quantile(0.25),wine_df[\"sulphates\"].quantile(0.50),wine_df[\"sulphates\"].quantile(0.75),wine_df[\"sulphates\"].quantile(0.90)"
   ]
  },
  {
   "cell_type": "code",
   "execution_count": null,
   "id": "341a0e22",
   "metadata": {},
   "outputs": [],
   "source": [
    "sns.histplot(wine_df[\"sulphates\"],color=\"plum\",bins=20)\n",
    "plt.title(\"histogram plot ofsulphates\" ,y=1.06)"
   ]
  },
  {
   "cell_type": "code",
   "execution_count": null,
   "id": "8a273909",
   "metadata": {},
   "outputs": [],
   "source": [
    "sns.distplot(wine_df[\"sulphates\"],hist=False)\n",
    "plt.title(\"distribution plot of sulphates\",y=1.06)"
   ]
  },
  {
   "cell_type": "code",
   "execution_count": null,
   "id": "9d5828d5",
   "metadata": {},
   "outputs": [],
   "source": [
    "sns.boxplot(wine_df[\"sulphates\"],orient='h',color=\"yellow\")\n",
    "plt.title(\"box plot for sulphates\",y=1.06)"
   ]
  },
  {
   "cell_type": "code",
   "execution_count": null,
   "id": "4bf8f7e4",
   "metadata": {},
   "outputs": [],
   "source": [
    "sns.violinplot(wine_df[\"sulphates\"],orient='h',color=\"plum\")\n",
    "plt.title(\"violin plot for sulphates\",y=1.06)"
   ]
  },
  {
   "cell_type": "code",
   "execution_count": null,
   "id": "e49d1f2e",
   "metadata": {},
   "outputs": [],
   "source": [
    "sns.swarmplot(wine_df[\"sulphates\"],orient='h',color=\"red\")\n",
    "plt.title(\"swarmplot for sulphates\",y=1.06)\n",
    "plt.figure(figsize=(3, 3))\n",
    "  "
   ]
  },
  {
   "cell_type": "code",
   "execution_count": null,
   "id": "8c070abd",
   "metadata": {},
   "outputs": [],
   "source": [
    "wine_df[\"sulphates\"].quantile(0.10),wine_df[\"sulphates\"].quantile(0.20),wine_df[\"sulphates\"].quantile(0.25),wine_df[\"sulphates\"].quantile(0.50),wine_df[\"sulphates\"].quantile(0.75),wine_df[\"sulphates\"].quantile(0.90)"
   ]
  },
  {
   "cell_type": "markdown",
   "id": "92878234",
   "metadata": {},
   "source": [
    "**suphates** Column has a asymerical distribution with skew 1.794  is   between -0.5 and 0.5 . \n",
    "- sulphates for residual is centred around mean 0.531 standard deviation of 0.1488\n",
    "- Range of sulphates from minimum 0.22 aximum 2.0\n",
    "\n",
    "- 10%  of sulphates is 3.02\n",
    "- 20% of sulphates is 3.08\n",
    "- 25% of sulphates is 3.11\n",
    "- 50% of sulphates is 3.21\n",
    "- 75% of sulphates is 3.32 \n",
    "-90%  of sulphates is 0.72\n",
    "- sulphatesew extreme values toward 2.0 according to box plot analysis\n",
    "\n",
    "sulphate colum can also be a good comparision with other colums but its use is not that much "
   ]
  },
  {
   "cell_type": "markdown",
   "id": "d67ea64f",
   "metadata": {},
   "source": [
    "# alcohol"
   ]
  },
  {
   "cell_type": "code",
   "execution_count": null,
   "id": "d12ac497",
   "metadata": {},
   "outputs": [],
   "source": [
    "wine_df[\"alcohol\"].mean()"
   ]
  },
  {
   "cell_type": "code",
   "execution_count": null,
   "id": "8de7aede",
   "metadata": {},
   "outputs": [],
   "source": [
    "wine_df[\"alcohol\"].median()"
   ]
  },
  {
   "cell_type": "code",
   "execution_count": null,
   "id": "5287d889",
   "metadata": {},
   "outputs": [],
   "source": [
    "wine_df[\"alcohol\"].std()"
   ]
  },
  {
   "cell_type": "code",
   "execution_count": null,
   "id": "236a23b6",
   "metadata": {},
   "outputs": [],
   "source": [
    "wine_df[\"alcohol\"].var()"
   ]
  },
  {
   "cell_type": "code",
   "execution_count": null,
   "id": "c61c7a2f",
   "metadata": {},
   "outputs": [],
   "source": [
    "wine_df[\"alcohol\"].min()"
   ]
  },
  {
   "cell_type": "code",
   "execution_count": null,
   "id": "8dcb820c",
   "metadata": {},
   "outputs": [],
   "source": [
    "wine_df[\"alcohol\"].max()"
   ]
  },
  {
   "cell_type": "code",
   "execution_count": null,
   "id": "2aada105",
   "metadata": {},
   "outputs": [],
   "source": [
    "wine_df[\"alcohol\"].skew()"
   ]
  },
  {
   "cell_type": "code",
   "execution_count": null,
   "id": "44752c0d",
   "metadata": {},
   "outputs": [],
   "source": [
    "wine_df[\"alcohol\"].nunique()"
   ]
  },
  {
   "cell_type": "code",
   "execution_count": null,
   "id": "398e0d17",
   "metadata": {},
   "outputs": [],
   "source": [
    "wine_df[\"alcohol\"].unique()"
   ]
  },
  {
   "cell_type": "code",
   "execution_count": null,
   "id": "d04b395a",
   "metadata": {},
   "outputs": [],
   "source": [
    "wine_df[\"alcohol\"].quantile(0.10),wine_df[\"alcohol\"].quantile(0.20),wine_df[\"alcohol\"].quantile(0.25),wine_df[\"alcohol\"].quantile(0.50),wine_df[\"alcohol\"].quantile(0.75),wine_df[\"alcohol\"].quantile(0.90)"
   ]
  },
  {
   "cell_type": "code",
   "execution_count": null,
   "id": "50fd4911",
   "metadata": {},
   "outputs": [],
   "source": [
    "sns.histplot(wine_df[\"alcohol\"],color=\"plum\",bins=20)\n",
    "plt.title(\"histogram plot of alcohol\" ,y=1.06)"
   ]
  },
  {
   "cell_type": "code",
   "execution_count": null,
   "id": "35a4bc24",
   "metadata": {},
   "outputs": [],
   "source": [
    "sns.distplot(wine_df[\"alcohol\"],hist=False)\n",
    "plt.title(\"distribution plot of alcohol\",y=1.06)"
   ]
  },
  {
   "cell_type": "code",
   "execution_count": null,
   "id": "7a8d3f7a",
   "metadata": {},
   "outputs": [],
   "source": [
    "sns.boxplot(wine_df[\"alcohol\"],orient='h',color=\"yellow\")\n",
    "plt.title(\"box plot for alcohol\",y=1.06)"
   ]
  },
  {
   "cell_type": "code",
   "execution_count": null,
   "id": "322ed2b5",
   "metadata": {},
   "outputs": [],
   "source": [
    "sns.violinplot(wine_df[\"alcohol\"],orient='h',color=\"plum\")\n",
    "plt.title(\"violin plot for alcohol\",y=1.06)"
   ]
  },
  {
   "cell_type": "code",
   "execution_count": null,
   "id": "2c3083bf",
   "metadata": {},
   "outputs": [],
   "source": [
    "sns.swarmplot(wine_df[\"alcohol\"],orient='h',color=\"red\")\n",
    "plt.title(\"swarmplot for alcohol\",y=1.06)\n",
    "plt.figure(figsize=(3, 3))\n",
    "  "
   ]
  },
  {
   "cell_type": "code",
   "execution_count": null,
   "id": "76f66d74",
   "metadata": {},
   "outputs": [],
   "source": [
    "wine_df[\"alcohol\"].quantile(0.10),wine_df[\"alcohol\"].quantile(0.20),wine_df[\"alcohol\"].quantile(0.25),wine_df[\"alcohol\"].quantile(0.50),wine_df[\"alcohol\"].quantile(0.75),wine_df[\"alcohol\"].quantile(0.90)"
   ]
  },
  {
   "cell_type": "markdown",
   "id": "8ed0253e",
   "metadata": {},
   "source": [
    "**alcohol** Column has a symmetrical distribution with skew 0.565 is   between -0.5 and 0.5 . \n",
    "- alcohol  for residual is centred around mean 10.491 standard deviation of 1.192\n",
    "- Range of sulphates from minimum 8.0 maximum 14.9\n",
    "\n",
    "- 10%  of alcohol is 9.0\n",
    "- 20% of alcohol is 9.4\n",
    "- 25% of alcohol is 9.5\n",
    "- 50% of alcohol is 10.3\n",
    "- 75% of alcohol is 11.3 \n",
    "-90%  of alcohol  is 12.3\n",
    "- sulphatesew extreme values toward 15  aording to boxplot analys\n",
    "\n",
    "sulphate colum can also be a good comparision with other colums but its use is not that much "
   ]
  },
  {
   "cell_type": "code",
   "execution_count": null,
   "id": "ee41cd1e",
   "metadata": {},
   "outputs": [],
   "source": [
    "## done with numrical colum analysis not categorical colum analysis\n",
    "from my oversation i conclude some are symmectrical sme are asymetrical and till now each colum has its own importance in production with furthur colum anaalysis \n",
    "can conclude the findinds"
   ]
  },
  {
   "cell_type": "markdown",
   "id": "e37f601d",
   "metadata": {},
   "source": [
    "# categorical colum"
   ]
  },
  {
   "cell_type": "code",
   "execution_count": null,
   "id": "7e5acbd2",
   "metadata": {},
   "outputs": [],
   "source": [
    "wine_df"
   ]
  },
  {
   "cell_type": "markdown",
   "id": "ce8346c4",
   "metadata": {},
   "source": [
    "# tupe and qualty are categorical colum"
   ]
  },
  {
   "cell_type": "markdown",
   "id": "c9913879",
   "metadata": {},
   "source": [
    "# type"
   ]
  },
  {
   "cell_type": "code",
   "execution_count": null,
   "id": "a5f2bb91",
   "metadata": {},
   "outputs": [],
   "source": [
    "wine_df[\"type\"].value_counts().sort_values()"
   ]
  },
  {
   "cell_type": "code",
   "execution_count": null,
   "id": "f9448f68",
   "metadata": {},
   "outputs": [],
   "source": [
    "wine_df[\"type\"].isnull()"
   ]
  },
  {
   "cell_type": "code",
   "execution_count": null,
   "id": "7cbf475e",
   "metadata": {},
   "outputs": [],
   "source": [
    "sns.countplot(x=wine_df[\"type\"])"
   ]
  },
  {
   "cell_type": "markdown",
   "id": "a3d6b164",
   "metadata": {},
   "source": [
    "from the above bar plot i conclute wine wine is more better than red wine it has more ingridients than red wine its more pure "
   ]
  },
  {
   "cell_type": "markdown",
   "id": "40648439",
   "metadata": {},
   "source": [
    "# quality"
   ]
  },
  {
   "cell_type": "code",
   "execution_count": null,
   "id": "e2c15cad",
   "metadata": {},
   "outputs": [],
   "source": [
    "wine_df[\"quality\"].value_counts().sort_values(ascending=True)"
   ]
  },
  {
   "cell_type": "code",
   "execution_count": null,
   "id": "3931c4ae",
   "metadata": {},
   "outputs": [],
   "source": []
  },
  {
   "cell_type": "code",
   "execution_count": null,
   "id": "460df654",
   "metadata": {},
   "outputs": [],
   "source": [
    "wine_df[\"quality\"].isnull()"
   ]
  },
  {
   "cell_type": "code",
   "execution_count": null,
   "id": "e714cd8d",
   "metadata": {},
   "outputs": [],
   "source": [
    "sns.countplot(x=wine_df[\"quality\"])"
   ]
  },
  {
   "cell_type": "code",
   "execution_count": null,
   "id": "406283a9",
   "metadata": {},
   "outputs": [],
   "source": []
  },
  {
   "cell_type": "markdown",
   "id": "305dbc01",
   "metadata": {},
   "source": [
    "from the above diagram i conclude quality code 6 is the best followed by 5,7,8,4,3,9 we can find more by comaparing with other colums as well"
   ]
  },
  {
   "cell_type": "markdown",
   "id": "8bdcc78d",
   "metadata": {},
   "source": [
    "thw with code 6 is of best quality "
   ]
  },
  {
   "cell_type": "code",
   "execution_count": null,
   "id": "ff87b802",
   "metadata": {},
   "outputs": [],
   "source": []
  },
  {
   "cell_type": "markdown",
   "id": "9c8dacce",
   "metadata": {},
   "source": [
    "# categorical and numerical colum analysis"
   ]
  },
  {
   "cell_type": "code",
   "execution_count": null,
   "id": "9dfd1030",
   "metadata": {},
   "outputs": [],
   "source": [
    "wine_df"
   ]
  },
  {
   "cell_type": "markdown",
   "id": "52860994",
   "metadata": {},
   "source": [
    "# comparing colum type and fixed acidity "
   ]
  },
  {
   "cell_type": "markdown",
   "id": "20c1ba9e",
   "metadata": {},
   "source": [
    "which wine has maximum fixed acidity ?"
   ]
  },
  {
   "cell_type": "code",
   "execution_count": null,
   "id": "c63efdba",
   "metadata": {},
   "outputs": [],
   "source": [
    "wine_df.groupby(\"type\")[\"fixed acidity\"].max()"
   ]
  },
  {
   "cell_type": "markdown",
   "id": "e65d68ab",
   "metadata": {},
   "source": [
    "which wine has minimum fixed acidity?"
   ]
  },
  {
   "cell_type": "code",
   "execution_count": null,
   "id": "0d5b0ec2",
   "metadata": {},
   "outputs": [],
   "source": [
    "wine_df.groupby(\"type\")[\"fixed acidity\"].min()"
   ]
  },
  {
   "cell_type": "code",
   "execution_count": null,
   "id": "79880975",
   "metadata": {},
   "outputs": [],
   "source": [
    "sns.countplot(x=wine_df.groupby(\"type\")[\"fixed acidity\"].max())\n",
    "plt.title(\"count plot of maximum  fixed acidity according to type \",y=1.06)"
   ]
  },
  {
   "cell_type": "code",
   "execution_count": null,
   "id": "6df07872",
   "metadata": {},
   "outputs": [],
   "source": [
    "sns.barplot(wine_df,x='type',y='fixed acidity',errorbar=None)\n",
    "plt.title(\"bar plot btween type and fixed acidity\",y=1.06)"
   ]
  },
  {
   "cell_type": "markdown",
   "id": "7e830658",
   "metadata": {},
   "source": [
    "from the above barplot nanlysis i conclude fixed acidity in red wine is more compared to white "
   ]
  },
  {
   "cell_type": "code",
   "execution_count": null,
   "id": "8b1467fa",
   "metadata": {},
   "outputs": [],
   "source": [
    "sns.scatterplot(wine_df,x='type',y='fixed acidity',color='red')\n",
    "plt.title(\"scatter plot btween type and fixed acidity\",y=1.06)"
   ]
  },
  {
   "cell_type": "markdown",
   "id": "f3028638",
   "metadata": {},
   "source": [
    "from the above scatterplot nanlysis i conclude fixed acidity in red wine is more compared to white "
   ]
  },
  {
   "cell_type": "markdown",
   "id": "9e3c6b2f",
   "metadata": {},
   "source": []
  },
  {
   "cell_type": "markdown",
   "id": "8e20c7a8",
   "metadata": {},
   "source": [
    "whst is the mean of fixed acidity accoeding to the wine?"
   ]
  },
  {
   "cell_type": "code",
   "execution_count": null,
   "id": "84de8d07",
   "metadata": {},
   "outputs": [],
   "source": [
    "wine_df.groupby(\"type\")[\"fixed acidity\"].mean()"
   ]
  },
  {
   "cell_type": "markdown",
   "id": "fee581ce",
   "metadata": {},
   "source": [
    "# comparing type and volatile acidity"
   ]
  },
  {
   "cell_type": "markdown",
   "id": "a2725ed9",
   "metadata": {},
   "source": [
    "whst is the min value of volatile acidity?"
   ]
  },
  {
   "cell_type": "code",
   "execution_count": null,
   "id": "833269b5",
   "metadata": {},
   "outputs": [],
   "source": [
    "wine_df.groupby(\"type\")[\"volatile acidity\"].min()"
   ]
  },
  {
   "cell_type": "code",
   "execution_count": null,
   "id": "30c091ab",
   "metadata": {},
   "outputs": [],
   "source": []
  },
  {
   "cell_type": "code",
   "execution_count": null,
   "id": "085d6d06",
   "metadata": {},
   "outputs": [],
   "source": [
    "wine_df.groupby(\"type\")[\"volatile acidity\"].min()"
   ]
  },
  {
   "cell_type": "code",
   "execution_count": null,
   "id": "49f6d2cc",
   "metadata": {},
   "outputs": [],
   "source": [
    "wine_df.groupby(\"type\")[\"volatile acidity\"].max()"
   ]
  },
  {
   "cell_type": "code",
   "execution_count": null,
   "id": "0d317c66",
   "metadata": {},
   "outputs": [],
   "source": [
    "sns.barplot(wine_df,x='type',y='volatile acidity',errorbar=None)\n",
    "plt.title(\"bar plot between type and volatile acidity\",y=1.06)"
   ]
  },
  {
   "cell_type": "markdown",
   "id": "4efa15f2",
   "metadata": {},
   "source": [
    "from the above barplot i conclude red wine has more volatile acidity than white"
   ]
  },
  {
   "cell_type": "markdown",
   "id": "d3355c26",
   "metadata": {},
   "source": [
    "# comparing type and citric acid"
   ]
  },
  {
   "cell_type": "markdown",
   "id": "df8fb341",
   "metadata": {},
   "source": [
    "which wine has maximum citric acid content in it?"
   ]
  },
  {
   "cell_type": "code",
   "execution_count": null,
   "id": "be90c5e5",
   "metadata": {},
   "outputs": [],
   "source": [
    "wine_df.groupby(\"type\")[\"citric acid\"].max()"
   ]
  },
  {
   "cell_type": "markdown",
   "id": "897f1d1a",
   "metadata": {},
   "source": [
    "white mas max"
   ]
  },
  {
   "cell_type": "markdown",
   "id": "2027ed55",
   "metadata": {},
   "source": [
    "whine wine has minimum citric acid content in it?"
   ]
  },
  {
   "cell_type": "code",
   "execution_count": null,
   "id": "4aed8c04",
   "metadata": {},
   "outputs": [],
   "source": [
    "wine_df.groupby(\"type\")[\"citric acid\"].min()"
   ]
  },
  {
   "cell_type": "code",
   "execution_count": null,
   "id": "a3fb82a8",
   "metadata": {},
   "outputs": [],
   "source": [
    "sns.barplot(wine_df,x='type',y='citric acid',errorbar=None)\n",
    "plt.title(\"bar plot between type and citric acid\",y=1.06)"
   ]
  },
  {
   "cell_type": "markdown",
   "id": "9fcc63ba",
   "metadata": {},
   "source": [
    "from the above graph it can be concluded that  white wine has more citric acid content in it than red "
   ]
  },
  {
   "cell_type": "markdown",
   "id": "959e2951",
   "metadata": {},
   "source": [
    "# comparing type and residual sugar"
   ]
  },
  {
   "cell_type": "code",
   "execution_count": null,
   "id": "1ef248ab",
   "metadata": {},
   "outputs": [],
   "source": [
    "wine_df.groupby(\"type\")[\"residual sugar\"].max()"
   ]
  },
  {
   "cell_type": "code",
   "execution_count": null,
   "id": "d738694e",
   "metadata": {},
   "outputs": [],
   "source": [
    "wine_df.groupby(\"type\")[\"residual sugar\"].min()"
   ]
  },
  {
   "cell_type": "code",
   "execution_count": null,
   "id": "4e06b8dc",
   "metadata": {},
   "outputs": [],
   "source": [
    "sns.barplot(wine_df,x='type',y='residual sugar',errorbar=None)\n",
    "plt.title(\"bar plot between type and residual sugar\",y=1.06)"
   ]
  },
  {
   "cell_type": "markdown",
   "id": "22e27af5",
   "metadata": {},
   "source": [
    "from the above graph it can be concluded that residual content in white wine is more than red wine "
   ]
  },
  {
   "cell_type": "markdown",
   "id": "e93aa322",
   "metadata": {},
   "source": [
    "# comparing type and chloride"
   ]
  },
  {
   "cell_type": "code",
   "execution_count": null,
   "id": "a756d2bf",
   "metadata": {},
   "outputs": [],
   "source": [
    "which wine has maximum chloride content in it?"
   ]
  },
  {
   "cell_type": "code",
   "execution_count": null,
   "id": "32a42cbf",
   "metadata": {},
   "outputs": [],
   "source": [
    "wine_df.groupby(\"type\")[\"chlorides\"].max()"
   ]
  },
  {
   "cell_type": "code",
   "execution_count": null,
   "id": "2714cebf",
   "metadata": {},
   "outputs": [],
   "source": [
    "wine_df.groupby(\"type\")[\"chlorides\"].min()"
   ]
  },
  {
   "cell_type": "code",
   "execution_count": null,
   "id": "4674ce3d",
   "metadata": {},
   "outputs": [],
   "source": [
    "sns.barplot(wine_df,x='type',y='chlorides',errorbar=None)\n",
    "plt.title(\"bar plot between type and chlorides\",y=1.06)"
   ]
  },
  {
   "cell_type": "markdown",
   "id": "5e2f4974",
   "metadata": {},
   "source": [
    "from the above bar plot it can be  concluded that  citric acid content is more in red wine tah  white wine"
   ]
  },
  {
   "cell_type": "markdown",
   "id": "0dbde2fa",
   "metadata": {},
   "source": [
    "# comparing type and free sulfur dioxide"
   ]
  },
  {
   "cell_type": "code",
   "execution_count": null,
   "id": "4cfce838",
   "metadata": {},
   "outputs": [],
   "source": [
    "wine_df.groupby(\"type\")[\"free sulfur dioxide\"].max()"
   ]
  },
  {
   "cell_type": "code",
   "execution_count": null,
   "id": "d58d947e",
   "metadata": {},
   "outputs": [],
   "source": [
    "wine_df.groupby(\"type\")[\"free sulfur dioxide\"].min()"
   ]
  },
  {
   "cell_type": "code",
   "execution_count": null,
   "id": "b855d3f5",
   "metadata": {},
   "outputs": [],
   "source": [
    "sns.barplot(wine_df,x='type',y='free sulfur dioxide',errorbar=None)\n",
    "plt.title(\"bar plot between type and free sulfur dioxide\",y=1.06)"
   ]
  },
  {
   "cell_type": "markdown",
   "id": "a4a2cd2a",
   "metadata": {},
   "source": [
    "from the above bar plot we can conclude free sulfur dioxide is more in white wine than red wine "
   ]
  },
  {
   "cell_type": "markdown",
   "id": "44dbdec5",
   "metadata": {},
   "source": [
    "# compare type and total sulfur dioxide"
   ]
  },
  {
   "cell_type": "code",
   "execution_count": null,
   "id": "a093b0a6",
   "metadata": {},
   "outputs": [],
   "source": [
    "wine_df.groupby(\"type\")[\"total sulfur dioxide\"].max()"
   ]
  },
  {
   "cell_type": "code",
   "execution_count": null,
   "id": "a1c6879c",
   "metadata": {},
   "outputs": [],
   "source": [
    "wine_df.groupby(\"type\")[\"total sulfur dioxide\"].min()"
   ]
  },
  {
   "cell_type": "code",
   "execution_count": null,
   "id": "5aa47224",
   "metadata": {},
   "outputs": [],
   "source": [
    "sns.barplot(wine_df,x='type',y='total sulfur dioxide',errorbar=None)\n",
    "plt.title(\"bar plot between type and total sulfur dioxide\",y=1.06)"
   ]
  },
  {
   "cell_type": "markdown",
   "id": "47342c0b",
   "metadata": {},
   "source": [
    "from the above bar plot i conclude total sulfur dioxide is more in white wine "
   ]
  },
  {
   "cell_type": "markdown",
   "id": "b6d8af7c",
   "metadata": {},
   "source": [
    "# comparing tupe and density "
   ]
  },
  {
   "cell_type": "code",
   "execution_count": null,
   "id": "4e1e7f34",
   "metadata": {},
   "outputs": [],
   "source": [
    "wine_df.groupby(\"type\")[\"density\"].max()"
   ]
  },
  {
   "cell_type": "code",
   "execution_count": null,
   "id": "e42c0ead",
   "metadata": {},
   "outputs": [],
   "source": [
    "wine_df.groupby(\"type\")[\"density\"].min()"
   ]
  },
  {
   "cell_type": "code",
   "execution_count": null,
   "id": "0010fff3",
   "metadata": {},
   "outputs": [],
   "source": [
    "sns.barplot(wine_df,x='type',y='density',errorbar=None)\n",
    "plt.title(\"bar plot between type and desnsity\",y=1.06)"
   ]
  },
  {
   "cell_type": "markdown",
   "id": "4f60656f",
   "metadata": {},
   "source": [
    "from the aove bar plot it ac be concluded both white and red wine has same density "
   ]
  },
  {
   "cell_type": "markdown",
   "id": "39cbba7f",
   "metadata": {},
   "source": [
    "# comparision btween type and ph "
   ]
  },
  {
   "cell_type": "code",
   "execution_count": null,
   "id": "6532f7f0",
   "metadata": {},
   "outputs": [],
   "source": [
    "wine_df.groupby(\"type\")[\"pH\"].max()"
   ]
  },
  {
   "cell_type": "code",
   "execution_count": null,
   "id": "4b7c337f",
   "metadata": {},
   "outputs": [],
   "source": [
    "wine_df.groupby(\"type\")[\"pH\"].min()"
   ]
  },
  {
   "cell_type": "code",
   "execution_count": null,
   "id": "19ccb609",
   "metadata": {},
   "outputs": [],
   "source": [
    "sns.barplot(wine_df,x='type',y='pH',errorbar=None)\n",
    "plt.title(\"bar plot between type and pH\",y=1.06)"
   ]
  },
  {
   "cell_type": "markdown",
   "id": "7ddd31e7",
   "metadata": {},
   "source": [
    "from the above graph we can say the ph value of red wine is more than white wine "
   ]
  },
  {
   "cell_type": "markdown",
   "id": "1c38cde3",
   "metadata": {},
   "source": [
    "# comparing between type and sulphates"
   ]
  },
  {
   "cell_type": "code",
   "execution_count": null,
   "id": "6df7bfbe",
   "metadata": {},
   "outputs": [],
   "source": [
    "wine_df.groupby(\"type\")[\"sulphates\"].max()"
   ]
  },
  {
   "cell_type": "code",
   "execution_count": null,
   "id": "c2f555be",
   "metadata": {},
   "outputs": [],
   "source": [
    "wine_df.groupby(\"type\")[\"sulphates\"].min()"
   ]
  },
  {
   "cell_type": "code",
   "execution_count": null,
   "id": "941a17b9",
   "metadata": {},
   "outputs": [],
   "source": [
    "sns.barplot(wine_df,x='type',y='sulphates',errorbar=None)\n",
    "plt.title(\"bar plot between type and sulphates\",y=1.06)"
   ]
  },
  {
   "cell_type": "markdown",
   "id": "89896dbe",
   "metadata": {},
   "source": [
    "from the above graph we can say the suphate content is red wine is more than white wine"
   ]
  },
  {
   "cell_type": "markdown",
   "id": "b98fe87c",
   "metadata": {},
   "source": [
    "# comparing type and alcohol"
   ]
  },
  {
   "cell_type": "code",
   "execution_count": null,
   "id": "0a46fc11",
   "metadata": {},
   "outputs": [],
   "source": [
    "wine_df.groupby(\"type\")[\"alcohol\"].max()"
   ]
  },
  {
   "cell_type": "code",
   "execution_count": null,
   "id": "c79563c6",
   "metadata": {},
   "outputs": [],
   "source": [
    "wine_df.groupby(\"type\")[\"alcohol\"].min()"
   ]
  },
  {
   "cell_type": "code",
   "execution_count": null,
   "id": "59d21eb8",
   "metadata": {},
   "outputs": [],
   "source": [
    "sns.barplot(wine_df,x='type',y='alcohol',errorbar=None)\n",
    "plt.title(\"bar plot between type and alcohol\",y=1.06)"
   ]
  },
  {
   "cell_type": "markdown",
   "id": "9ddc247f",
   "metadata": {},
   "source": [
    "alcohol content is equal in both red and whire wine "
   ]
  },
  {
   "cell_type": "markdown",
   "id": "3fee6f75",
   "metadata": {},
   "source": [
    "# comparing quality and volatile acidity"
   ]
  },
  {
   "cell_type": "code",
   "execution_count": null,
   "id": "00a1f7ae",
   "metadata": {},
   "outputs": [],
   "source": [
    "wine_df"
   ]
  },
  {
   "cell_type": "markdown",
   "id": "8c85d196",
   "metadata": {},
   "source": [
    "what can be the sum of fixed acidity acoording to the quality ?"
   ]
  },
  {
   "cell_type": "code",
   "execution_count": null,
   "id": "7adf4ba4",
   "metadata": {},
   "outputs": [],
   "source": [
    "wine_df.groupby(\"quality\")[\"fixed acidity\"].sum()"
   ]
  },
  {
   "cell_type": "code",
   "execution_count": null,
   "id": "1c4648cc",
   "metadata": {},
   "outputs": [],
   "source": []
  },
  {
   "cell_type": "markdown",
   "id": "6ed1926d",
   "metadata": {},
   "source": [
    "from the aove findings we can conclude  the wine with code 6 has the higest fixed acidity accoding to the quality "
   ]
  },
  {
   "cell_type": "code",
   "execution_count": null,
   "id": "42966548",
   "metadata": {},
   "outputs": [],
   "source": [
    "sns.countplot(x=wine_df.groupby(\"quality\")[\"fixed acidity\"].sum())\n",
    "plt.title(\"count plot of sum of fixed acidity according to quality \",y=1.06)"
   ]
  },
  {
   "cell_type": "code",
   "execution_count": null,
   "id": "7cea5025",
   "metadata": {},
   "outputs": [],
   "source": [
    "what is the maximum fixed acidity content in wine according to the quality ?"
   ]
  },
  {
   "cell_type": "code",
   "execution_count": null,
   "id": "2587df6d",
   "metadata": {},
   "outputs": [],
   "source": [
    "wine_df.groupby(\"quality\")[\"fixed acidity\"].max()"
   ]
  },
  {
   "cell_type": "code",
   "execution_count": null,
   "id": "2c67d54d",
   "metadata": {},
   "outputs": [],
   "source": [
    "sns.countplot(x=wine_df.groupby(\"quality\")[\"fixed acidity\"].max())\n",
    "plt.title(\"count plot of maximum  fixed acidity according to quality \",y=1.06)"
   ]
  },
  {
   "cell_type": "code",
   "execution_count": null,
   "id": "2ef48b81",
   "metadata": {},
   "outputs": [],
   "source": [
    "from the above findings we can say the wine with code 5 has the maximum fixed acidity "
   ]
  },
  {
   "cell_type": "code",
   "execution_count": null,
   "id": "b4fb256e",
   "metadata": {},
   "outputs": [],
   "source": [
    "what is the minimum fixed acidity content in the wine according to the quality ?"
   ]
  },
  {
   "cell_type": "code",
   "execution_count": null,
   "id": "237981b2",
   "metadata": {},
   "outputs": [],
   "source": [
    "wine_df.groupby(\"quality\")[\"fixed acidity\"].min()"
   ]
  },
  {
   "cell_type": "code",
   "execution_count": null,
   "id": "298bc3d4",
   "metadata": {},
   "outputs": [],
   "source": [
    "sns.countplot(x=wine_df.groupby(\"quality\")[\"fixed acidity\"].min())\n",
    "plt.title(\"count plot of minimum  fixed acidity according to quality \",y=1.06)"
   ]
  },
  {
   "cell_type": "code",
   "execution_count": null,
   "id": "b3b7de83",
   "metadata": {},
   "outputs": [],
   "source": [
    "the the above findindings we can conclude that the plot with quality code 6 has mininmum fixed acidity content "
   ]
  },
  {
   "cell_type": "code",
   "execution_count": null,
   "id": "67fb536f",
   "metadata": {},
   "outputs": [],
   "source": [
    "what is the mean fixed acidity content in the wine according to the quality ?"
   ]
  },
  {
   "cell_type": "code",
   "execution_count": null,
   "id": "2174aa10",
   "metadata": {},
   "outputs": [],
   "source": [
    "wine_df.groupby(\"quality\")[\"fixed acidity\"].mean()"
   ]
  },
  {
   "cell_type": "code",
   "execution_count": null,
   "id": "a26735c7",
   "metadata": {},
   "outputs": [],
   "source": [
    "sns.countplot(x=wine_df.groupby(\"quality\")[\"fixed acidity\"].mean())\n",
    "plt.title(\"count plot of mean  fixed acidity according to quality \",y=1.06)\n",
    "plt.figure(figsize=(50,60))"
   ]
  },
  {
   "cell_type": "markdown",
   "id": "600ed446",
   "metadata": {},
   "source": [
    "the above are the men fixed acidity content in wine acording to quality"
   ]
  },
  {
   "cell_type": "code",
   "execution_count": null,
   "id": "2344e839",
   "metadata": {},
   "outputs": [],
   "source": []
  },
  {
   "cell_type": "markdown",
   "id": "0d9e8635",
   "metadata": {},
   "source": [
    "# comparing quality with volatile acidity "
   ]
  },
  {
   "cell_type": "markdown",
   "id": "ca7ec483",
   "metadata": {},
   "source": [
    "what is the sum and highest  volatile acidity according to quality?"
   ]
  },
  {
   "cell_type": "code",
   "execution_count": null,
   "id": "94faf004",
   "metadata": {},
   "outputs": [],
   "source": [
    "wine_df.groupby(\"quality\")[\"volatile acidity\"].sum()"
   ]
  },
  {
   "cell_type": "code",
   "execution_count": null,
   "id": "9f276d21",
   "metadata": {},
   "outputs": [],
   "source": [
    "sns.countplot(x=wine_df.groupby(\"quality\")[\"volatile acidity\"].sum())\n",
    "plt.title(\"count plot of sum of volatile acidity according to quality \",y=1.06)"
   ]
  },
  {
   "cell_type": "markdown",
   "id": "8cf4c0fa",
   "metadata": {},
   "source": [
    "from the above findinds we conclude the the quality code 6 has the higest volatile acidity content "
   ]
  },
  {
   "cell_type": "code",
   "execution_count": null,
   "id": "3a4995e3",
   "metadata": {},
   "outputs": [],
   "source": []
  },
  {
   "cell_type": "markdown",
   "id": "cf463cd2",
   "metadata": {},
   "source": [
    "what is the maximum volatile acidity content in wine according to quality?"
   ]
  },
  {
   "cell_type": "code",
   "execution_count": null,
   "id": "9db386ad",
   "metadata": {},
   "outputs": [],
   "source": [
    "wine_df.groupby(\"quality\")[\"volatile acidity\"].max()"
   ]
  },
  {
   "cell_type": "code",
   "execution_count": null,
   "id": "312a2cc9",
   "metadata": {},
   "outputs": [],
   "source": [
    "sns.countplot(x=wine_df.groupby(\"quality\")[\"volatile acidity\"].max())\n",
    "plt.title(\"count plot of max volatile acidity content in wine  \",y=1.06)"
   ]
  },
  {
   "cell_type": "markdown",
   "id": "ccd86aae",
   "metadata": {},
   "source": [
    "from the above reading we can conclude wine with quality code 3 has maximum volatile acidity content "
   ]
  },
  {
   "cell_type": "code",
   "execution_count": null,
   "id": "52b300c6",
   "metadata": {},
   "outputs": [],
   "source": [
    "what is the minimun volatile acidity content in wine according to quality?"
   ]
  },
  {
   "cell_type": "code",
   "execution_count": null,
   "id": "4d09b550",
   "metadata": {},
   "outputs": [],
   "source": [
    "wine_df.groupby(\"quality\")[\"volatile acidity\"].min()"
   ]
  },
  {
   "cell_type": "code",
   "execution_count": null,
   "id": "4b3e3be1",
   "metadata": {},
   "outputs": [],
   "source": [
    "sns.countplot(x=wine_df.groupby(\"quality\")[\"fixed acidity\"].min())\n",
    "plt.title(\"count plot of minimum  volatile acidity according to quality \",y=1.06)"
   ]
  },
  {
   "cell_type": "code",
   "execution_count": null,
   "id": "860967e5",
   "metadata": {},
   "outputs": [],
   "source": [
    "from the above finfinds the quality code 6 and 7 has minimum volatile acidity"
   ]
  },
  {
   "cell_type": "code",
   "execution_count": null,
   "id": "61e7d53c",
   "metadata": {},
   "outputs": [],
   "source": [
    "wine_df.groupby(\"quality\")[\"volatile acidity\"].mean()"
   ]
  },
  {
   "cell_type": "markdown",
   "id": "54878237",
   "metadata": {},
   "source": [
    "# comparing quality with citric acid"
   ]
  },
  {
   "cell_type": "markdown",
   "id": "4afa67fc",
   "metadata": {},
   "source": [
    "what is the sum and highest ciric acid content in wine according to quality  ?"
   ]
  },
  {
   "cell_type": "code",
   "execution_count": null,
   "id": "c1be0ece",
   "metadata": {},
   "outputs": [],
   "source": [
    "wine_df.groupby(\"quality\")[\"citric acid\"].sum()"
   ]
  },
  {
   "cell_type": "code",
   "execution_count": null,
   "id": "a13d5515",
   "metadata": {},
   "outputs": [],
   "source": [
    "sns.countplot(x=wine_df.groupby(\"quality\")[\"citric acid\"].sum())\n",
    "plt.title(\"count plot of sum of citric acid according to quality \",y=1.06)"
   ]
  },
  {
   "cell_type": "markdown",
   "id": "2c3e22f0",
   "metadata": {},
   "source": [
    "quality code 6 has higest citric acid content according to the quality "
   ]
  },
  {
   "cell_type": "code",
   "execution_count": null,
   "id": "239825cb",
   "metadata": {},
   "outputs": [],
   "source": [
    "what is the maximum citric acid content in wine according to quality?"
   ]
  },
  {
   "cell_type": "code",
   "execution_count": null,
   "id": "cd037455",
   "metadata": {},
   "outputs": [],
   "source": [
    "wine_df.groupby(\"quality\")[\"citric acid\"].max()"
   ]
  },
  {
   "cell_type": "code",
   "execution_count": null,
   "id": "da1f1413",
   "metadata": {},
   "outputs": [],
   "source": [
    "sns.countplot(x=wine_df.groupby(\"quality\")[\"citric acid\"].max())\n",
    "plt.title(\"count plot of max citric acid content in wine  \",y=1.06)"
   ]
  },
  {
   "cell_type": "markdown",
   "id": "3c14bc80",
   "metadata": {},
   "source": [
    "according to the findings the quality code 4,5,6 has maximum citric acid content according to the quality"
   ]
  },
  {
   "cell_type": "code",
   "execution_count": null,
   "id": "6115bc35",
   "metadata": {},
   "outputs": [],
   "source": [
    "what is the minimum citric acid content in wine according to quality?"
   ]
  },
  {
   "cell_type": "code",
   "execution_count": null,
   "id": "062acd74",
   "metadata": {},
   "outputs": [],
   "source": [
    "wine_df.groupby(\"quality\")[\"citric acid\"].min()"
   ]
  },
  {
   "cell_type": "code",
   "execution_count": null,
   "id": "bddcb634",
   "metadata": {},
   "outputs": [],
   "source": [
    "sns.countplot(x=wine_df.groupby(\"quality\")[\"citric acid\"].min())\n",
    "plt.title(\"count plot of min citric acid content in wine  \",y=1.06)"
   ]
  },
  {
   "cell_type": "code",
   "execution_count": null,
   "id": "d00a6d8a",
   "metadata": {},
   "outputs": [],
   "source": [
    "according to the above findings excluding quality code 8 and 9 rest are minum citric acid content in wine "
   ]
  },
  {
   "cell_type": "code",
   "execution_count": null,
   "id": "4ea5330d",
   "metadata": {},
   "outputs": [],
   "source": [
    "wine_df.groupby(\"quality\")[\"citric acid\"].mean()"
   ]
  },
  {
   "cell_type": "markdown",
   "id": "076f3150",
   "metadata": {},
   "source": [
    "# comparing quality with residual sugar "
   ]
  },
  {
   "cell_type": "markdown",
   "id": "849924b7",
   "metadata": {},
   "source": [
    "what is the sum and highest residual sugar content in wine according to quality  ?"
   ]
  },
  {
   "cell_type": "code",
   "execution_count": null,
   "id": "9352d13a",
   "metadata": {},
   "outputs": [],
   "source": [
    "wine_df.groupby(\"quality\")[\"residual sugar\"].sum()"
   ]
  },
  {
   "cell_type": "code",
   "execution_count": null,
   "id": "746a5962",
   "metadata": {},
   "outputs": [],
   "source": [
    "sns.countplot(x=wine_df.groupby(\"quality\")[\"residual sugar\"].sum())\n",
    "plt.title(\"count plot of residual sugar  content in wine  \",y=1.06)"
   ]
  },
  {
   "cell_type": "markdown",
   "id": "3f3420ea",
   "metadata": {},
   "source": [
    "according to the graph the quality code 6 has the highest residual sugar content in wine "
   ]
  },
  {
   "cell_type": "markdown",
   "id": "4e1766db",
   "metadata": {},
   "source": [
    "what is the maximum residual sugar content in wine according to quality?"
   ]
  },
  {
   "cell_type": "code",
   "execution_count": null,
   "id": "f78136c0",
   "metadata": {},
   "outputs": [],
   "source": [
    "wine_df.groupby(\"quality\")[\"residual sugar\"].max()"
   ]
  },
  {
   "cell_type": "code",
   "execution_count": null,
   "id": "684b4e5d",
   "metadata": {},
   "outputs": [],
   "source": [
    "sns.countplot(x=wine_df.groupby(\"quality\")[\"residual sugar\"].max())\n",
    "plt.title(\"count plot of max residual sugar content in wine  \",y=1.06)"
   ]
  },
  {
   "cell_type": "markdown",
   "id": "29678a80",
   "metadata": {},
   "source": [
    "according to the above finfings we can say quality code 6 has maximum residual content in it "
   ]
  },
  {
   "cell_type": "markdown",
   "id": "a5f36984",
   "metadata": {},
   "source": [
    "what is the minimum residual content in wine according to quality?"
   ]
  },
  {
   "cell_type": "code",
   "execution_count": null,
   "id": "51028d60",
   "metadata": {},
   "outputs": [],
   "source": [
    "wine_df.groupby(\"quality\")[\"residual sugar\"].min()"
   ]
  },
  {
   "cell_type": "code",
   "execution_count": null,
   "id": "e430e79d",
   "metadata": {},
   "outputs": [],
   "source": [
    "sns.countplot(x=wine_df.groupby(\"quality\")[\"residual sugar\"].min())\n",
    "plt.title(\"count plot of min residual sugar content in wine  \",y=1.06)"
   ]
  },
  {
   "cell_type": "markdown",
   "id": "a752d9a6",
   "metadata": {},
   "source": [
    "according to the above findings quality code 3,4,6 has minimum residual content in it "
   ]
  },
  {
   "cell_type": "code",
   "execution_count": null,
   "id": "f73fc492",
   "metadata": {},
   "outputs": [],
   "source": [
    "wine_df.groupby(\"quality\")[\"residual sugar\"].mean()"
   ]
  },
  {
   "cell_type": "markdown",
   "id": "f18ef367",
   "metadata": {},
   "source": [
    "# comparing quality and chlorides"
   ]
  },
  {
   "cell_type": "markdown",
   "id": "4e4175ad",
   "metadata": {},
   "source": [
    "what is the sum and highest chlorides content in wine according to quality  ?"
   ]
  },
  {
   "cell_type": "code",
   "execution_count": null,
   "id": "d0633e3d",
   "metadata": {},
   "outputs": [],
   "source": [
    "wine_df.groupby(\"quality\")[\"chlorides\"].sum()"
   ]
  },
  {
   "cell_type": "code",
   "execution_count": null,
   "id": "bd607233",
   "metadata": {},
   "outputs": [],
   "source": [
    "sns.countplot(x=wine_df.groupby(\"quality\")[\"chlorides\"].sum())\n",
    "plt.title(\"count plot of chlorides  content in wine  \",y=1.06)"
   ]
  },
  {
   "cell_type": "code",
   "execution_count": null,
   "id": "81ad5365",
   "metadata": {},
   "outputs": [],
   "source": [
    "according to the above findings the quality code 6 has the maximum chloride content according to the quality "
   ]
  },
  {
   "cell_type": "markdown",
   "id": "61cf5345",
   "metadata": {},
   "source": [
    "what is the maximum chlorides content in wine according to quality?"
   ]
  },
  {
   "cell_type": "code",
   "execution_count": null,
   "id": "cfbec61e",
   "metadata": {},
   "outputs": [],
   "source": [
    "wine_df.groupby(\"quality\")[\"chlorides\"].max()"
   ]
  },
  {
   "cell_type": "code",
   "execution_count": null,
   "id": "3ba66ce3",
   "metadata": {},
   "outputs": [],
   "source": [
    "sns.countplot(x=wine_df.groupby(\"quality\")[\"chlorides\"].max())\n",
    "plt.title(\"count plot of max chlorides content in wine  \",y=1.06)"
   ]
  },
  {
   "cell_type": "code",
   "execution_count": null,
   "id": "b04dc5c9",
   "metadata": {},
   "outputs": [],
   "source": [
    "accordong to the above graph we can say quality code 6 is maximum "
   ]
  },
  {
   "cell_type": "markdown",
   "id": "de3512cb",
   "metadata": {},
   "source": [
    "what is the minimum chlorides content in wine according to quality?"
   ]
  },
  {
   "cell_type": "code",
   "execution_count": null,
   "id": "b41e13f3",
   "metadata": {},
   "outputs": [],
   "source": [
    "wine_df.groupby(\"quality\")[\"chlorides\"].min()"
   ]
  },
  {
   "cell_type": "code",
   "execution_count": null,
   "id": "465a1232",
   "metadata": {},
   "outputs": [],
   "source": [
    "sns.countplot(x=wine_df.groupby(\"quality\")[\"chlorides\"].min())\n",
    "plt.title(\"count plot of min chlorides content in wine  \",y=1.06)"
   ]
  },
  {
   "cell_type": "markdown",
   "id": "7e4ce2bd",
   "metadata": {},
   "source": [
    "according to the above findings quality code 5 is minimum "
   ]
  },
  {
   "cell_type": "code",
   "execution_count": null,
   "id": "893f3edf",
   "metadata": {},
   "outputs": [],
   "source": [
    "wine_df.groupby(\"quality\")[\"chlorides\"].mean()"
   ]
  },
  {
   "cell_type": "markdown",
   "id": "d50023dc",
   "metadata": {},
   "source": [
    "# comparing group and free sulfur dioxide "
   ]
  },
  {
   "cell_type": "code",
   "execution_count": null,
   "id": "fff26063",
   "metadata": {},
   "outputs": [],
   "source": [
    "wine_df"
   ]
  },
  {
   "cell_type": "markdown",
   "id": "b3fa3df4",
   "metadata": {},
   "source": [
    "what is the sum and highest free sulfur dioxide content in wine according to quality  ?"
   ]
  },
  {
   "cell_type": "code",
   "execution_count": null,
   "id": "1766d6e9",
   "metadata": {},
   "outputs": [],
   "source": [
    "wine_df.groupby(\"quality\")[\"free sulfur dioxide\"].sum()"
   ]
  },
  {
   "cell_type": "code",
   "execution_count": null,
   "id": "9d3e4295",
   "metadata": {},
   "outputs": [],
   "source": [
    "sns.countplot(x=wine_df.groupby(\"quality\")[\"free sulfur dioxide\"].sum())\n",
    "plt.title(\"count plot of free sulfur dioxide  content in wine  \",y=1.06)"
   ]
  },
  {
   "cell_type": "code",
   "execution_count": null,
   "id": "7ec67b04",
   "metadata": {},
   "outputs": [],
   "source": [
    "according to the aove findings the quality code 6 has the highest free sulfur dioxide in wine "
   ]
  },
  {
   "cell_type": "code",
   "execution_count": null,
   "id": "79e0ef80",
   "metadata": {},
   "outputs": [],
   "source": [
    "what is the maximum free sulfur dioxide content in wine according to quality?"
   ]
  },
  {
   "cell_type": "code",
   "execution_count": null,
   "id": "838bfd64",
   "metadata": {},
   "outputs": [],
   "source": [
    "wine_df.groupby(\"quality\")[\"free sulfur dioxide\"].max()"
   ]
  },
  {
   "cell_type": "code",
   "execution_count": null,
   "id": "7ccd7a6c",
   "metadata": {},
   "outputs": [],
   "source": [
    "sns.countplot(x=wine_df.groupby(\"quality\")[\"free sulfur dioxide\"].max())\n",
    "plt.title(\"count plot of max free sulfur dioxide  in wine  \",y=1.06)"
   ]
  },
  {
   "cell_type": "code",
   "execution_count": null,
   "id": "788893a0",
   "metadata": {},
   "outputs": [],
   "source": [
    "according to the above findings the quality code 8 has maximum free sulfur content in wine according to the quality"
   ]
  },
  {
   "cell_type": "code",
   "execution_count": null,
   "id": "4e140d28",
   "metadata": {},
   "outputs": [],
   "source": [
    "what is the minimum free sulfur dioxide content in wine according to quality?"
   ]
  },
  {
   "cell_type": "code",
   "execution_count": null,
   "id": "d73976d1",
   "metadata": {},
   "outputs": [],
   "source": [
    "wine_df.groupby(\"quality\")[\"free sulfur dioxide\"].min()"
   ]
  },
  {
   "cell_type": "code",
   "execution_count": null,
   "id": "799f8cff",
   "metadata": {},
   "outputs": [],
   "source": [
    "sns.countplot(x=wine_df.groupby(\"quality\")[\"free sulfur dioxide\"].min())\n",
    "plt.title(\"count plot of min free sulfur dioxide content in wine  \",y=1.06)"
   ]
  },
  {
   "cell_type": "markdown",
   "id": "c8f8855a",
   "metadata": {},
   "source": [
    "according to the above reading quality code 6 has minimum free sulfur dioxide content in wine "
   ]
  },
  {
   "cell_type": "code",
   "execution_count": null,
   "id": "0814263f",
   "metadata": {},
   "outputs": [],
   "source": [
    "wine_df.groupby(\"quality\")[\"free sulfur dioxide\"].mean()"
   ]
  },
  {
   "cell_type": "markdown",
   "id": "0c5ed1d4",
   "metadata": {},
   "source": [
    "# comparing quality and total sulfuric acid "
   ]
  },
  {
   "cell_type": "markdown",
   "id": "92f9f539",
   "metadata": {},
   "source": [
    "what is the sum and highest total sulfur dioxide content in wine according to quality  ?"
   ]
  },
  {
   "cell_type": "code",
   "execution_count": null,
   "id": "27305fef",
   "metadata": {},
   "outputs": [],
   "source": [
    "wine_df.groupby(\"quality\")[\"total sulfur dioxide\"].sum()"
   ]
  },
  {
   "cell_type": "code",
   "execution_count": null,
   "id": "f32ae274",
   "metadata": {},
   "outputs": [],
   "source": [
    "sns.countplot(x=wine_df.groupby(\"quality\")[\"total sulfur dioxide\"].sum())\n",
    "plt.title(\"count plot of total sulfur dioxide  content in wine  \",y=1.06)"
   ]
  },
  {
   "cell_type": "code",
   "execution_count": null,
   "id": "702ab1d1",
   "metadata": {},
   "outputs": [],
   "source": [
    "the quality code 6 has the the higest total sulfuric acid content in the wine "
   ]
  },
  {
   "cell_type": "markdown",
   "id": "6f313e8e",
   "metadata": {},
   "source": [
    "what is the maximum total sulfur dioxide content in wine according to quality?"
   ]
  },
  {
   "cell_type": "code",
   "execution_count": null,
   "id": "73a71703",
   "metadata": {},
   "outputs": [],
   "source": [
    "wine_df.groupby(\"quality\")[\"total sulfur dioxide\"].max()"
   ]
  },
  {
   "cell_type": "code",
   "execution_count": null,
   "id": "7cad9455",
   "metadata": {},
   "outputs": [],
   "source": [
    "sns.countplot(x=wine_df.groupby(\"quality\")[\"total sulfur dioxide\"].max())\n",
    "plt.title(\"count plot of max total sulfur dioxide  in wine  \",y=1.06)"
   ]
  },
  {
   "cell_type": "code",
   "execution_count": null,
   "id": "2715c4af",
   "metadata": {},
   "outputs": [],
   "source": [
    "according to the above findings quality code 3 has maximum total sulfuric acid content in wine "
   ]
  },
  {
   "cell_type": "markdown",
   "id": "be48f6dd",
   "metadata": {},
   "source": [
    "what is the minimum total sulfur dioxide content in wine according to quality?"
   ]
  },
  {
   "cell_type": "code",
   "execution_count": null,
   "id": "0285516c",
   "metadata": {},
   "outputs": [],
   "source": [
    "wine_df.groupby(\"quality\")[\"total sulfur dioxide\"].min()"
   ]
  },
  {
   "cell_type": "code",
   "execution_count": null,
   "id": "adcc8f09",
   "metadata": {},
   "outputs": [],
   "source": [
    "sns.countplot(x=wine_df.groupby(\"quality\")[\"total sulfur dioxide\"].min())\n",
    "plt.title(\"count plot of min total sulfur dioxide content in wine  \",y=1.06)"
   ]
  },
  {
   "cell_type": "markdown",
   "id": "a1071041",
   "metadata": {},
   "source": [
    "according to the above reading the quality code 5 and 6 has minimum total sulfur dioxide content "
   ]
  },
  {
   "cell_type": "code",
   "execution_count": null,
   "id": "3b052f2e",
   "metadata": {},
   "outputs": [],
   "source": [
    "wine_df.groupby(\"quality\")[\"total sulfur dioxide\"].mean()"
   ]
  },
  {
   "cell_type": "code",
   "execution_count": null,
   "id": "69262836",
   "metadata": {},
   "outputs": [],
   "source": [
    "sns.countplot(x=wine_df.groupby(\"quality\")[\"total sulfur dioxide\"].median())\n",
    "plt.title(\"count plot of median of total sulfur dioxide content in wine  \",y=1.06)"
   ]
  },
  {
   "cell_type": "markdown",
   "id": "7dbdd19e",
   "metadata": {},
   "source": [
    "quality code 6 has the highest median value it can be said that the total sulfuric dioxide content can be more according to the findings "
   ]
  },
  {
   "cell_type": "markdown",
   "id": "bc44afbd",
   "metadata": {},
   "source": [
    "# comparing quality with density"
   ]
  },
  {
   "cell_type": "code",
   "execution_count": null,
   "id": "e57fdf9e",
   "metadata": {},
   "outputs": [],
   "source": [
    "what is the sum and highest density of wine ?"
   ]
  },
  {
   "cell_type": "code",
   "execution_count": null,
   "id": "70bfed65",
   "metadata": {},
   "outputs": [],
   "source": [
    "wine_df.groupby(\"quality\")[\"density\"].sum()"
   ]
  },
  {
   "cell_type": "code",
   "execution_count": null,
   "id": "4d6408cd",
   "metadata": {},
   "outputs": [],
   "source": []
  },
  {
   "cell_type": "code",
   "execution_count": null,
   "id": "a1d23524",
   "metadata": {},
   "outputs": [],
   "source": [
    "sns.countplot(x=wine_df.groupby(\"quality\")[\"density\"].sum())AC\n",
    "plt.title(\"count plot of  sum of density of wine wine  \",y=1.06)"
   ]
  },
  {
   "cell_type": "markdown",
   "id": "ee436c4f",
   "metadata": {},
   "source": [
    "from the above reading we can say that the wime with quality code 6 has highest density "
   ]
  },
  {
   "cell_type": "code",
   "execution_count": null,
   "id": "f84a7310",
   "metadata": {},
   "outputs": [],
   "source": [
    "what is the maximum density of wine according to quality?"
   ]
  },
  {
   "cell_type": "code",
   "execution_count": null,
   "id": "fc80551a",
   "metadata": {},
   "outputs": [],
   "source": [
    "wine_df.groupby(\"quality\")[\"density\"].max()"
   ]
  },
  {
   "cell_type": "code",
   "execution_count": null,
   "id": "b4eaab18",
   "metadata": {},
   "outputs": [],
   "source": [
    "sns.countplot(x=wine_df.groupby(\"quality\")[\"density\"].max())\n",
    "plt.title(\"count plot of max density of  wine  \",y=1.06)"
   ]
  },
  {
   "cell_type": "code",
   "execution_count": null,
   "id": "6a182eb9",
   "metadata": {},
   "outputs": [],
   "source": [
    "according to the above reading the density is same but the density of quality code 6 is varying "
   ]
  },
  {
   "cell_type": "markdown",
   "id": "5403d277",
   "metadata": {},
   "source": [
    " what is the minimum density of  wine according to quality?"
   ]
  },
  {
   "cell_type": "code",
   "execution_count": null,
   "id": "869c8e91",
   "metadata": {},
   "outputs": [],
   "source": [
    "wine_df.groupby(\"quality\")[\"density\"].min()"
   ]
  },
  {
   "cell_type": "code",
   "execution_count": null,
   "id": "cab32ee5",
   "metadata": {},
   "outputs": [],
   "source": [
    "sns.countplot(x=wine_df.groupby(\"quality\")[\"density\"].min())\n",
    "plt.title(\"count plot of min density  content in wine  \",y=1.06)"
   ]
  },
  {
   "cell_type": "markdown",
   "id": "03211bdc",
   "metadata": {},
   "source": [
    "according to the above reading all the desnity are in range "
   ]
  },
  {
   "cell_type": "markdown",
   "id": "480f133a",
   "metadata": {},
   "source": [
    "# comparing quality  with ph value "
   ]
  },
  {
   "cell_type": "markdown",
   "id": "b2a723c5",
   "metadata": {},
   "source": [
    "what is the sum of highest ph value according to quality  ?"
   ]
  },
  {
   "cell_type": "code",
   "execution_count": null,
   "id": "be0e7107",
   "metadata": {},
   "outputs": [],
   "source": [
    "wine_df.groupby(\"quality\")[\"pH\"].sum()"
   ]
  },
  {
   "cell_type": "code",
   "execution_count": null,
   "id": "d336d498",
   "metadata": {},
   "outputs": [],
   "source": [
    "sns.countplot(x=wine_df.groupby(\"quality\")[\"pH\"].min())\n",
    "plt.title(\"count of sum of PH value of wine according to quality  \",y=1.06)"
   ]
  },
  {
   "cell_type": "markdown",
   "id": "98709a2e",
   "metadata": {},
   "source": [
    "from the the above reading we can say that quality code 6 has maximum ph value"
   ]
  },
  {
   "cell_type": "code",
   "execution_count": null,
   "id": "5b38db58",
   "metadata": {},
   "outputs": [],
   "source": [
    "what is the maximum ph value according to quality ?"
   ]
  },
  {
   "cell_type": "code",
   "execution_count": null,
   "id": "6aa3a274",
   "metadata": {},
   "outputs": [],
   "source": [
    "wine_df.groupby(\"quality\")[\"pH\"].max()"
   ]
  },
  {
   "cell_type": "code",
   "execution_count": null,
   "id": "dc42dca2",
   "metadata": {},
   "outputs": [],
   "source": [
    "sns.countplot(x=wine_df.groupby(\"quality\")[\"pH\"].max())\n",
    "plt.title(\"count plot of max ph value of  wine acoording to quality \",y=1.06)"
   ]
  },
  {
   "cell_type": "code",
   "execution_count": null,
   "id": "3395a019",
   "metadata": {},
   "outputs": [],
   "source": [
    "from the above reading we can say quality code 6 has maximum ph value"
   ]
  },
  {
   "cell_type": "markdown",
   "id": "775c7a61",
   "metadata": {},
   "source": [
    "what is the minimum ph value according to quality ?"
   ]
  },
  {
   "cell_type": "code",
   "execution_count": null,
   "id": "a9fccb76",
   "metadata": {},
   "outputs": [],
   "source": [
    "wine_df.groupby(\"quality\")[\"pH\"].min()"
   ]
  },
  {
   "cell_type": "code",
   "execution_count": null,
   "id": "ff74ffe5",
   "metadata": {},
   "outputs": [],
   "source": [
    "sns.countplot(x=wine_df.groupby(\"quality\")[\"pH\"].min())\n",
    "plt.title(\"count plot of min pH value of wine according to quality  \",y=1.06)"
   ]
  },
  {
   "cell_type": "markdown",
   "id": "d747ca67",
   "metadata": {},
   "source": [
    "according to the above reading except quality code 9 all are minimum "
   ]
  },
  {
   "cell_type": "markdown",
   "id": "b14f5edb",
   "metadata": {},
   "source": [
    "# comparing quality with sulphates"
   ]
  },
  {
   "cell_type": "markdown",
   "id": "f1ad73a9",
   "metadata": {},
   "source": [
    "what is the sum of highest sulphate value according to quality  ?"
   ]
  },
  {
   "cell_type": "code",
   "execution_count": null,
   "id": "de7162ba",
   "metadata": {},
   "outputs": [],
   "source": [
    "wine_df.groupby(\"quality\")[\"sulphates\"].sum()"
   ]
  },
  {
   "cell_type": "code",
   "execution_count": null,
   "id": "e53605cd",
   "metadata": {},
   "outputs": [],
   "source": [
    "sns.countplot(x=wine_df.groupby(\"quality\")[\"sulphates\"].min())\n",
    "plt.title(\"count of sum of suphate content  in wine according to quality  \",y=1.06)"
   ]
  },
  {
   "cell_type": "code",
   "execution_count": null,
   "id": "a5d8a5ed",
   "metadata": {},
   "outputs": [],
   "source": [
    "according to the above reading the quality code 6 has hihest sulphate content in it"
   ]
  },
  {
   "cell_type": "markdown",
   "id": "11621729",
   "metadata": {},
   "source": [
    "what is the maximum sulphate content according to quality ?"
   ]
  },
  {
   "cell_type": "code",
   "execution_count": null,
   "id": "1c74f34a",
   "metadata": {},
   "outputs": [],
   "source": [
    "wine_df.groupby(\"quality\")[\"sulphates\"].max()"
   ]
  },
  {
   "cell_type": "code",
   "execution_count": null,
   "id": "56f0a3e4",
   "metadata": {},
   "outputs": [],
   "source": [
    "sns.countplot(x=wine_df.groupby(\"quality\")[\"sulphates\"].max())\n",
    "plt.title(\"count plot of max suphate value of  wine acoording to quality \",y=1.06)"
   ]
  },
  {
   "cell_type": "code",
   "execution_count": null,
   "id": "e1028aaa",
   "metadata": {},
   "outputs": [],
   "source": [
    "from the above reading quality code 4 has maximum sulfur content in it "
   ]
  },
  {
   "cell_type": "markdown",
   "id": "db619318",
   "metadata": {},
   "source": [
    "what is the minimum suphate content according to quality ?"
   ]
  },
  {
   "cell_type": "code",
   "execution_count": null,
   "id": "be9f0eb0",
   "metadata": {},
   "outputs": [],
   "source": [
    "wine_df.groupby(\"quality\")[\"sulphates\"].min()"
   ]
  },
  {
   "cell_type": "code",
   "execution_count": null,
   "id": "82a779c1",
   "metadata": {},
   "outputs": [],
   "source": [
    "sns.countplot(x=wine_df.groupby(\"quality\")[\"sulphates\"].min())\n",
    "plt.title(\"count plot of min sulphate value of wine according to quality  \",y=1.06)"
   ]
  },
  {
   "cell_type": "markdown",
   "id": "d35ea683",
   "metadata": {},
   "source": [
    "according to the above reading all quality codes semms to be in range with slight deflections "
   ]
  },
  {
   "cell_type": "markdown",
   "id": "8759a335",
   "metadata": {},
   "source": [
    "# comparing quality with alcohol"
   ]
  },
  {
   "cell_type": "markdown",
   "id": "b0a1aa86",
   "metadata": {},
   "source": [
    "what is the sum and highest   alcohol content in wine ?\n"
   ]
  },
  {
   "cell_type": "code",
   "execution_count": null,
   "id": "2b42c4d5",
   "metadata": {},
   "outputs": [],
   "source": [
    "wine_df.groupby(\"quality\")[\"alcohol\"].sum()"
   ]
  },
  {
   "cell_type": "code",
   "execution_count": null,
   "id": "f7602807",
   "metadata": {},
   "outputs": [],
   "source": [
    "sns.countplot(x=wine_df.groupby(\"quality\")[\"alcohol\"].min())\n",
    "plt.title(\"count of sum of alcohol content  in wine according to quality  \",y=1.06)"
   ]
  },
  {
   "cell_type": "markdown",
   "id": "ec40e5eb",
   "metadata": {},
   "source": [
    "according to the above reading the quality code 6 has highrst alcohol content in wine "
   ]
  },
  {
   "cell_type": "markdown",
   "id": "77e10e60",
   "metadata": {},
   "source": [
    "what is the maximum  alcohol   content in wine according to quality ?"
   ]
  },
  {
   "cell_type": "code",
   "execution_count": null,
   "id": "5a3aeb84",
   "metadata": {},
   "outputs": [],
   "source": [
    "wine_df.groupby(\"quality\")[\"alcohol\"].max()"
   ]
  },
  {
   "cell_type": "code",
   "execution_count": null,
   "id": "09d69426",
   "metadata": {},
   "outputs": [],
   "source": [
    "sns.countplot(x=wine_df.groupby(\"quality\")[\"alcohol\"].max())\n",
    "plt.title(\"count plot of max alcohol content in wine acoording to quality \",y=1.06)"
   ]
  },
  {
   "cell_type": "code",
   "execution_count": null,
   "id": "f8ca3139",
   "metadata": {},
   "outputs": [],
   "source": [
    "the maximum alcohol content is 2 which is in quality code 4"
   ]
  },
  {
   "cell_type": "code",
   "execution_count": null,
   "id": "c324492a",
   "metadata": {},
   "outputs": [],
   "source": []
  },
  {
   "cell_type": "markdown",
   "id": "1cf12612",
   "metadata": {},
   "source": [
    "what is the minimum alcohol content in wine according to quality ?"
   ]
  },
  {
   "cell_type": "code",
   "execution_count": null,
   "id": "c8a2e209",
   "metadata": {},
   "outputs": [],
   "source": [
    "wine_df.groupby(\"quality\")[\"alcohol\"].min()"
   ]
  },
  {
   "cell_type": "code",
   "execution_count": null,
   "id": "1c1b3362",
   "metadata": {},
   "outputs": [],
   "source": [
    "sns.countplot(x=wine_df.groupby(\"quality\")[\"alcohol\"].min())\n",
    "plt.title(\"count plot of min alcohol value of wine according to quality  \",y=1.06)"
   ]
  },
  {
   "cell_type": "markdown",
   "id": "303543ba",
   "metadata": {},
   "source": [
    "according to the above reading all are looking in similar range "
   ]
  },
  {
   "cell_type": "markdown",
   "id": "bd287369",
   "metadata": {},
   "source": [
    "# multiple colums analysis"
   ]
  },
  {
   "cell_type": "code",
   "execution_count": null,
   "id": "3b1895a1",
   "metadata": {},
   "outputs": [],
   "source": [
    "wine_df"
   ]
  },
  {
   "cell_type": "code",
   "execution_count": null,
   "id": "b34e4683",
   "metadata": {},
   "outputs": [],
   "source": [
    "wine_df.loc[100:500]"
   ]
  },
  {
   "cell_type": "markdown",
   "id": "21a35e44",
   "metadata": {},
   "source": [
    "# comparing type quality and fixed acidity "
   ]
  },
  {
   "cell_type": "markdown",
   "id": "7b57bdc3",
   "metadata": {},
   "source": [
    "what is the maximum ,sum and mean fixed acity according to the type and  quality of the wine  ?"
   ]
  },
  {
   "cell_type": "code",
   "execution_count": null,
   "id": "2583d9b5",
   "metadata": {},
   "outputs": [],
   "source": [
    "wine_df.groupby(\"type\")[\"fixed acidity\"].count()"
   ]
  },
  {
   "cell_type": "code",
   "execution_count": null,
   "id": "27ba1665",
   "metadata": {},
   "outputs": [],
   "source": [
    "wine_df.groupby(\"quality\")[\"fixed acidity\"].count()"
   ]
  },
  {
   "cell_type": "code",
   "execution_count": null,
   "id": "d9022d55",
   "metadata": {},
   "outputs": [],
   "source": [
    "wine_df.groupby([\"type\",\"quality\"])[\"fixed acidity\"].max()"
   ]
  },
  {
   "cell_type": "code",
   "execution_count": null,
   "id": "05bad2d1",
   "metadata": {},
   "outputs": [],
   "source": [
    "wine_df.groupby([\"type\",\"quality\"])[\"fixed acidity\"].sum()"
   ]
  },
  {
   "cell_type": "code",
   "execution_count": null,
   "id": "a6d04b22",
   "metadata": {},
   "outputs": [],
   "source": [
    "wine_df.groupby([\"type\",\"quality\"])[\"fixed acidity\"].mean()"
   ]
  },
  {
   "cell_type": "markdown",
   "id": "fe65d694",
   "metadata": {},
   "source": [
    " what is fixed acidity content in each wine? "
   ]
  },
  {
   "cell_type": "code",
   "execution_count": null,
   "id": "14f94d78",
   "metadata": {},
   "outputs": [],
   "source": [
    "sns.barplot(wine_df,x=\"quality\",y=\"fixed acidity\",hue=\"type\",errorbar=None)\n",
    "plt.title(\"bar plot of fixed acidity of wine\",y=1.06)"
   ]
  },
  {
   "cell_type": "code",
   "execution_count": null,
   "id": "04e113b8",
   "metadata": {},
   "outputs": [],
   "source": [
    "from the above findings we can say the fixed acidity content in red wine is more compared to white wime"
   ]
  },
  {
   "cell_type": "code",
   "execution_count": null,
   "id": "44b83b80",
   "metadata": {},
   "outputs": [],
   "source": []
  },
  {
   "cell_type": "code",
   "execution_count": null,
   "id": "062ccdf3",
   "metadata": {},
   "outputs": [],
   "source": [
    "wine_df.groupby([\"fixed acidity\",\"quality\"]).count()"
   ]
  },
  {
   "cell_type": "code",
   "execution_count": null,
   "id": "c2cb6d09",
   "metadata": {},
   "outputs": [],
   "source": [
    "wine_df.groupby(\"type\")[\"fixed acidity\"].max()"
   ]
  },
  {
   "cell_type": "code",
   "execution_count": null,
   "id": "80a775ae",
   "metadata": {},
   "outputs": [],
   "source": []
  },
  {
   "cell_type": "code",
   "execution_count": null,
   "id": "2b50b51b",
   "metadata": {},
   "outputs": [],
   "source": []
  },
  {
   "cell_type": "markdown",
   "id": "11d903ea",
   "metadata": {},
   "source": [
    "# comparing type and quality with volatile acidity "
   ]
  },
  {
   "cell_type": "code",
   "execution_count": null,
   "id": "1a182422",
   "metadata": {},
   "outputs": [],
   "source": [
    "what is the maximum ,sum and count of volatile acidity  according to the type and  quality of the wine  ?"
   ]
  },
  {
   "cell_type": "code",
   "execution_count": null,
   "id": "1e6ca869",
   "metadata": {},
   "outputs": [],
   "source": [
    "wine_df.groupby(\"type\")[\"volatile acidity\"].count()"
   ]
  },
  {
   "cell_type": "code",
   "execution_count": null,
   "id": "d7eafa33",
   "metadata": {},
   "outputs": [],
   "source": [
    "wine_df.groupby(\"quality\")[\"volatile acidity\"].count()"
   ]
  },
  {
   "cell_type": "code",
   "execution_count": null,
   "id": "38a6c142",
   "metadata": {},
   "outputs": [],
   "source": [
    "wine_df.groupby([\"type\",\"quality\"])[\"volatile acidity\"].count()"
   ]
  },
  {
   "cell_type": "code",
   "execution_count": null,
   "id": "d81b68cb",
   "metadata": {},
   "outputs": [],
   "source": [
    "wine_df.groupby([\"type\",\"quality\"])[\"fixed acidity\"].sum()"
   ]
  },
  {
   "cell_type": "code",
   "execution_count": null,
   "id": "ffe82503",
   "metadata": {},
   "outputs": [],
   "source": [
    "wine_df.groupby([\"type\",\"quality\"])[\"fixed acidity\"].max()"
   ]
  },
  {
   "cell_type": "code",
   "execution_count": null,
   "id": "17c1cb76",
   "metadata": {},
   "outputs": [],
   "source": [
    "wine_df.groupby([\"type\",\"quality\"])[\"fixed acidity\"].min()"
   ]
  },
  {
   "cell_type": "code",
   "execution_count": null,
   "id": "7ab65ef1",
   "metadata": {},
   "outputs": [],
   "source": [
    "what is volatile acidity  content in each wine ?"
   ]
  },
  {
   "cell_type": "code",
   "execution_count": null,
   "id": "f3a00d99",
   "metadata": {},
   "outputs": [],
   "source": [
    "sns.barplot(wine_df,x=\"quality\",y=\"volatile acidity\",hue=\"type\",errorbar=None)\n",
    "plt.title(\"bar plot of volatile acidity of wine\",y=1.06)"
   ]
  },
  {
   "cell_type": "markdown",
   "id": "83fdf799",
   "metadata": {},
   "source": [
    "from the above reading we can conclude that volatile acidity content in red wine is more as compared to white wine"
   ]
  },
  {
   "cell_type": "code",
   "execution_count": null,
   "id": "3725dda1",
   "metadata": {},
   "outputs": [],
   "source": [
    "wine_df.groupby(\"type\")[\"volatile acidity\"].count()"
   ]
  },
  {
   "cell_type": "code",
   "execution_count": null,
   "id": "d53c0add",
   "metadata": {},
   "outputs": [],
   "source": [
    "wine_df.groupby([\"volatile acidity\",\"quality\"]).count()"
   ]
  },
  {
   "cell_type": "code",
   "execution_count": null,
   "id": "65e1c72f",
   "metadata": {},
   "outputs": [],
   "source": [
    "wine_df.groupby(\"type\")[\"volatile acidity\"].count()"
   ]
  },
  {
   "cell_type": "markdown",
   "id": "d336db92",
   "metadata": {},
   "source": [
    "# comaring type quality and residual sugar"
   ]
  },
  {
   "cell_type": "code",
   "execution_count": null,
   "id": "415061c1",
   "metadata": {},
   "outputs": [],
   "source": [
    "what is the count ,mun,max,mean of residual sugar according to type and quality?"
   ]
  },
  {
   "cell_type": "code",
   "execution_count": null,
   "id": "96ad664d",
   "metadata": {},
   "outputs": [],
   "source": [
    "wine_df.groupby(\"type\")[\"residual sugar\"].count()"
   ]
  },
  {
   "cell_type": "code",
   "execution_count": null,
   "id": "a0da57d6",
   "metadata": {},
   "outputs": [],
   "source": [
    "wine_df.groupby(\"quality\")[\"residual sugar\"].count()"
   ]
  },
  {
   "cell_type": "code",
   "execution_count": null,
   "id": "28cc7912",
   "metadata": {},
   "outputs": [],
   "source": [
    "wine_df.groupby([\"type\",\"quality\"])[\"residual sugar\"].count()"
   ]
  },
  {
   "cell_type": "code",
   "execution_count": null,
   "id": "a045ff8c",
   "metadata": {},
   "outputs": [],
   "source": [
    "wine_df.groupby([\"type\",\"quality\"])[\"residual sugar\"].sum()"
   ]
  },
  {
   "cell_type": "code",
   "execution_count": null,
   "id": "95aa8e33",
   "metadata": {},
   "outputs": [],
   "source": [
    "wine_df.groupby([\"type\",\"quality\"])[\"residual sugar\"].max()"
   ]
  },
  {
   "cell_type": "code",
   "execution_count": null,
   "id": "9fd66ff1",
   "metadata": {},
   "outputs": [],
   "source": [
    "wine_df.groupby([\"type\",\"quality\"])[\"residual sugar\"].min()"
   ]
  },
  {
   "cell_type": "code",
   "execution_count": null,
   "id": "558e617b",
   "metadata": {},
   "outputs": [],
   "source": [
    "what is residual sugar   content in each wine  ?"
   ]
  },
  {
   "cell_type": "code",
   "execution_count": null,
   "id": "9f00594c",
   "metadata": {},
   "outputs": [],
   "source": [
    "sns.barplot(wine_df,x=\"quality\",y=\"residual sugar\",hue=\"type\",errorbar=None,color=\"red\")\n",
    "plt.title(\"bar plot of residual sugar content in wine\",y=1.06)"
   ]
  },
  {
   "cell_type": "markdown",
   "id": "beab0812",
   "metadata": {},
   "source": [
    "from the above diagram we can prove thar residual suagr content in white wine is more than red wine "
   ]
  },
  {
   "cell_type": "code",
   "execution_count": null,
   "id": "18128184",
   "metadata": {},
   "outputs": [],
   "source": [
    "wine_df.groupby([\"residual sugar\",\"quality\"]).count()"
   ]
  },
  {
   "cell_type": "markdown",
   "id": "b235d34c",
   "metadata": {},
   "source": [
    "# comparing type and quality with citric acid"
   ]
  },
  {
   "cell_type": "markdown",
   "id": "8d18f6b3",
   "metadata": {},
   "source": [
    "what is the count ,mun,max,mean,sum  of citric acid according to type and quality?"
   ]
  },
  {
   "cell_type": "code",
   "execution_count": null,
   "id": "0e2d874c",
   "metadata": {},
   "outputs": [],
   "source": [
    "wine_df.groupby(\"type\")[\"citric acid\"].count()"
   ]
  },
  {
   "cell_type": "code",
   "execution_count": null,
   "id": "44068193",
   "metadata": {},
   "outputs": [],
   "source": [
    "wine_df.groupby(\"quality\")[\"citric acid\"].count()"
   ]
  },
  {
   "cell_type": "code",
   "execution_count": null,
   "id": "f78e4070",
   "metadata": {},
   "outputs": [],
   "source": [
    "wine_df.groupby([\"type\",\"quality\"])[\"citric acid\"].min()"
   ]
  },
  {
   "cell_type": "code",
   "execution_count": null,
   "id": "25ad15fa",
   "metadata": {},
   "outputs": [],
   "source": [
    "wine_df.groupby([\"type\",\"quality\"])[\"citric acid\"].max()"
   ]
  },
  {
   "cell_type": "code",
   "execution_count": null,
   "id": "bb0dc782",
   "metadata": {},
   "outputs": [],
   "source": [
    "wine_df.groupby([\"type\",\"quality\"])[\"citric acid\"].count()"
   ]
  },
  {
   "cell_type": "code",
   "execution_count": null,
   "id": "222d5b41",
   "metadata": {},
   "outputs": [],
   "source": [
    "wine_df.groupby([\"type\",\"quality\"])[\"citric acid\"].sum()"
   ]
  },
  {
   "cell_type": "code",
   "execution_count": null,
   "id": "27e7c52b",
   "metadata": {},
   "outputs": [],
   "source": [
    "what is citric acid  content in each wine ?"
   ]
  },
  {
   "cell_type": "code",
   "execution_count": null,
   "id": "ab213b75",
   "metadata": {},
   "outputs": [],
   "source": [
    "sns.barplot(wine_df,x=\"quality\",y=\"citric acid\",hue=\"type\",errorbar=None,color=\"green\")\n",
    "plt.title(\"bar plot of citric acid content in  wine\",y=1.06)"
   ]
  },
  {
   "cell_type": "markdown",
   "id": "f22adf09",
   "metadata": {},
   "source": [
    "from the above graph we can conclude citric acid content is more in red wine than white wine "
   ]
  },
  {
   "cell_type": "code",
   "execution_count": null,
   "id": "8fcff232",
   "metadata": {},
   "outputs": [],
   "source": [
    "wine_df.groupby([\"citric acid\",\"quality\"]).count()"
   ]
  },
  {
   "cell_type": "code",
   "execution_count": null,
   "id": "46eec814",
   "metadata": {},
   "outputs": [],
   "source": [
    "wine_df"
   ]
  },
  {
   "cell_type": "markdown",
   "id": "e1a8d0da",
   "metadata": {},
   "source": [
    "# comparing type group with chlorides"
   ]
  },
  {
   "cell_type": "markdown",
   "id": "bbc79121",
   "metadata": {},
   "source": [
    "what is the count ,mun,max,mean,sum  of citric acid according to type and quality?"
   ]
  },
  {
   "cell_type": "code",
   "execution_count": null,
   "id": "69335e0a",
   "metadata": {},
   "outputs": [],
   "source": [
    "wine_df.groupby([\"type\",\"quality\"])[\"chlorides\"].min()"
   ]
  },
  {
   "cell_type": "code",
   "execution_count": null,
   "id": "75bcc0df",
   "metadata": {},
   "outputs": [],
   "source": [
    "wine_df.groupby([\"type\",\"quality\"])[\"chlorides\"].max()"
   ]
  },
  {
   "cell_type": "code",
   "execution_count": null,
   "id": "d767dd74",
   "metadata": {},
   "outputs": [],
   "source": [
    "wine_df.groupby([\"type\",\"quality\"])[\"chlorides\"].sum()"
   ]
  },
  {
   "cell_type": "code",
   "execution_count": null,
   "id": "4981817e",
   "metadata": {},
   "outputs": [],
   "source": [
    "wine_df.groupby([\"type\",\"quality\"])[\"chlorides\"].count()"
   ]
  },
  {
   "cell_type": "code",
   "execution_count": null,
   "id": "18705506",
   "metadata": {},
   "outputs": [],
   "source": [
    "wine_df.groupby(\"type\")[\"chlorides\"].count()"
   ]
  },
  {
   "cell_type": "code",
   "execution_count": null,
   "id": "6a774fd4",
   "metadata": {},
   "outputs": [],
   "source": [
    "wine_df.groupby(\"quality\")[\"chlorides\"].count()"
   ]
  },
  {
   "cell_type": "code",
   "execution_count": null,
   "id": "16017a38",
   "metadata": {},
   "outputs": [],
   "source": [
    "what is chloride content in each wine ?"
   ]
  },
  {
   "cell_type": "code",
   "execution_count": null,
   "id": "85fd9a88",
   "metadata": {},
   "outputs": [],
   "source": [
    "sns.barplot(wine_df,x=\"quality\",y=\"chlorides\",hue=\"type\",errorbar=None,color=\"plum\")\n",
    "plt.title(\"bar plot of chlorides content in wine\",y=1.06)"
   ]
  },
  {
   "cell_type": "markdown",
   "id": "96e32498",
   "metadata": {},
   "source": [
    "from the above graph we can say chlorides content in red wine is more than white wine"
   ]
  },
  {
   "cell_type": "code",
   "execution_count": null,
   "id": "6f56cad2",
   "metadata": {},
   "outputs": [],
   "source": [
    "wine_df.groupby([\"chlorides\",\"quality\"]).count()"
   ]
  },
  {
   "cell_type": "code",
   "execution_count": null,
   "id": "31c965d9",
   "metadata": {},
   "outputs": [],
   "source": [
    "wine_df.groupby([\"free sulfur dioxide\",\"type\"]).count()"
   ]
  },
  {
   "cell_type": "markdown",
   "id": "36187be5",
   "metadata": {},
   "source": [
    "# combine type and quality with free sulfur dioxide"
   ]
  },
  {
   "cell_type": "code",
   "execution_count": null,
   "id": "b956818d",
   "metadata": {
    "scrolled": false
   },
   "outputs": [],
   "source": [
    "what is the count ,mun,max,mean,sum  of citric acid according to type and quality?"
   ]
  },
  {
   "cell_type": "code",
   "execution_count": null,
   "id": "1755b9b2",
   "metadata": {},
   "outputs": [],
   "source": [
    "wine_df.groupby(\"type\")[\"free sulfur dioxide\"].count()"
   ]
  },
  {
   "cell_type": "code",
   "execution_count": null,
   "id": "108d6310",
   "metadata": {},
   "outputs": [],
   "source": [
    "wine_df.groupby(\"quality\")[\"free sulfur dioxide\"].count()"
   ]
  },
  {
   "cell_type": "code",
   "execution_count": null,
   "id": "e95861d3",
   "metadata": {},
   "outputs": [],
   "source": [
    "wine_df.groupby([\"type\",\"quality\"])[\"free sulfur dioxide\"].min()"
   ]
  },
  {
   "cell_type": "code",
   "execution_count": null,
   "id": "5f5207da",
   "metadata": {},
   "outputs": [],
   "source": [
    "wine_df.groupby([\"type\",\"quality\"])[\"free sulfur dioxide\"].max()"
   ]
  },
  {
   "cell_type": "code",
   "execution_count": null,
   "id": "f4fb5f20",
   "metadata": {},
   "outputs": [],
   "source": [
    "wine_df.groupby([\"type\",\"quality\"])[\"free sulfur dioxide\"].sum()"
   ]
  },
  {
   "cell_type": "code",
   "execution_count": null,
   "id": "0c77ffab",
   "metadata": {},
   "outputs": [],
   "source": [
    "wine_df.groupby([\"type\",\"quality\"])[\"free sulfur dioxide\"].count()"
   ]
  },
  {
   "cell_type": "markdown",
   "id": "f2dfab46",
   "metadata": {},
   "source": [
    "what is free sulfur dioxide content in each wine ?"
   ]
  },
  {
   "cell_type": "code",
   "execution_count": null,
   "id": "50c0c066",
   "metadata": {},
   "outputs": [],
   "source": [
    "sns.barplot(wine_df,x=\"quality\",y=\"free sulfur dioxide\",hue=\"type\",errorbar=None,color=\"red\")\n",
    "plt.title(\"bar plot of free sulfur dioxide content  in wine\",y=1.06)"
   ]
  },
  {
   "cell_type": "markdown",
   "id": "114865f6",
   "metadata": {},
   "source": [
    "from the above graph we can conclude total sulfur dioxide content in red wine is more than white wine "
   ]
  },
  {
   "cell_type": "code",
   "execution_count": null,
   "id": "f7bc19f7",
   "metadata": {},
   "outputs": [],
   "source": [
    "wine_df.groupby([\"free sulfur dioxide\",\"quality\"]).count()"
   ]
  },
  {
   "cell_type": "code",
   "execution_count": null,
   "id": "4742e06c",
   "metadata": {},
   "outputs": [],
   "source": [
    "wine_df.groupby([\"free sulfur dioxide\",\"type\"]).count()"
   ]
  },
  {
   "cell_type": "markdown",
   "id": "6ab832e9",
   "metadata": {},
   "source": [
    "# combine type grop with total sulfur dioxide"
   ]
  },
  {
   "cell_type": "code",
   "execution_count": null,
   "id": "89cebf7d",
   "metadata": {},
   "outputs": [],
   "source": [
    "what is the count ,mun,max,mean,sum  of total sulfuric acidaccording to type and quality?"
   ]
  },
  {
   "cell_type": "code",
   "execution_count": null,
   "id": "bb4511e0",
   "metadata": {},
   "outputs": [],
   "source": [
    "wine_df.groupby(\"type\")[\"total sulfur dioxide\"].count()"
   ]
  },
  {
   "cell_type": "code",
   "execution_count": null,
   "id": "68efffd3",
   "metadata": {},
   "outputs": [],
   "source": [
    "wine_df.groupby(\"quality\")[\"total sulfur dioxide\"].count()"
   ]
  },
  {
   "cell_type": "code",
   "execution_count": null,
   "id": "fc55ecee",
   "metadata": {},
   "outputs": [],
   "source": [
    "wine_df.groupby([\"type\",\"quality\"])[\"total sulfur dioxide\"].min()"
   ]
  },
  {
   "cell_type": "code",
   "execution_count": null,
   "id": "ce8fecfb",
   "metadata": {},
   "outputs": [],
   "source": [
    "wine_df.groupby([\"type\",\"quality\"])[\"total sulfur dioxide\"].max()"
   ]
  },
  {
   "cell_type": "code",
   "execution_count": null,
   "id": "89205b31",
   "metadata": {},
   "outputs": [],
   "source": [
    "wine_df.groupby([\"type\",\"quality\"])[\"total sulfur dioxide\"].sum()"
   ]
  },
  {
   "cell_type": "code",
   "execution_count": null,
   "id": "3245a367",
   "metadata": {},
   "outputs": [],
   "source": [
    "wine_df.groupby([\"total sulfur dioxide\",\"quality\"]).count()"
   ]
  },
  {
   "cell_type": "markdown",
   "id": "800add72",
   "metadata": {},
   "source": [
    "what is total sulfur dioxide content in each wine ?"
   ]
  },
  {
   "cell_type": "code",
   "execution_count": null,
   "id": "3aa2350d",
   "metadata": {},
   "outputs": [],
   "source": [
    "sns.barplot(wine_df,x=\"quality\",y=\"total sulfur dioxide\",hue=\"type\",errorbar=None,color=\"red\")\n",
    "plt.title(\"bar plot of total sulfur dioxide in  wine\",y=1.06)"
   ]
  },
  {
   "cell_type": "markdown",
   "id": "290c8daa",
   "metadata": {},
   "source": [
    "total sulfutic dioxide content is more in white wine compared to red wine "
   ]
  },
  {
   "cell_type": "code",
   "execution_count": null,
   "id": "860a123f",
   "metadata": {},
   "outputs": [],
   "source": [
    "wine_df.groupby([\"total sulfur dioxide\",\"type\"]).count()"
   ]
  },
  {
   "cell_type": "code",
   "execution_count": null,
   "id": "aeaab1a5",
   "metadata": {},
   "outputs": [],
   "source": [
    "wine_df.groupby([\"total sulfur dioxide\",\"quality\"]).count()"
   ]
  },
  {
   "cell_type": "code",
   "execution_count": null,
   "id": "861ee8bd",
   "metadata": {},
   "outputs": [],
   "source": [
    "wine_df"
   ]
  },
  {
   "cell_type": "markdown",
   "id": "71ec5a3c",
   "metadata": {},
   "source": [
    "# comparing group type with density"
   ]
  },
  {
   "cell_type": "code",
   "execution_count": null,
   "id": "8f1a9c3f",
   "metadata": {},
   "outputs": [],
   "source": [
    "what is the count ,mun,max,mean,sum  of density acidaccording to type and quality?"
   ]
  },
  {
   "cell_type": "code",
   "execution_count": null,
   "id": "587ffa7a",
   "metadata": {},
   "outputs": [],
   "source": [
    "wine_df.groupby(\"type\")[\"density\"].count()"
   ]
  },
  {
   "cell_type": "code",
   "execution_count": null,
   "id": "b0ca1775",
   "metadata": {},
   "outputs": [],
   "source": [
    "wine_df.groupby(\"quality\")[\"density\"].count()"
   ]
  },
  {
   "cell_type": "code",
   "execution_count": null,
   "id": "b501c598",
   "metadata": {},
   "outputs": [],
   "source": [
    "wine_df.groupby([\"type\",\"quality\"])[\"density\"].min()"
   ]
  },
  {
   "cell_type": "code",
   "execution_count": null,
   "id": "a3b01eaf",
   "metadata": {},
   "outputs": [],
   "source": [
    "wine_df.groupby([\"type\",\"quality\"])[\"density\"].max()"
   ]
  },
  {
   "cell_type": "code",
   "execution_count": null,
   "id": "6ded7014",
   "metadata": {},
   "outputs": [],
   "source": [
    "wine_df.groupby([\"type\",\"quality\"])[\"density\"].sum()"
   ]
  },
  {
   "cell_type": "code",
   "execution_count": null,
   "id": "7b55e6e5",
   "metadata": {},
   "outputs": [],
   "source": [
    "wine_df.groupby([\"density\",\"quality\"]).count()"
   ]
  },
  {
   "cell_type": "markdown",
   "id": "adfe0c53",
   "metadata": {},
   "source": [
    "what is the density of the wine?"
   ]
  },
  {
   "cell_type": "code",
   "execution_count": null,
   "id": "cb2b21bf",
   "metadata": {},
   "outputs": [],
   "source": [
    "sns.barplot(wine_df,x=\"quality\",y=\"density\",hue=\"type\",errorbar=None,color=\"red\")\n",
    "plt.title(\"bar plot of density of wine\",y=1.06)"
   ]
  },
  {
   "cell_type": "markdown",
   "id": "588e2555",
   "metadata": {},
   "source": [
    "from the above obervarion it can be said there is no varation of density in both the wine its constant "
   ]
  },
  {
   "cell_type": "code",
   "execution_count": null,
   "id": "b14d4fcd",
   "metadata": {},
   "outputs": [],
   "source": [
    "wine_df.groupby([\"density\"]).count()"
   ]
  },
  {
   "cell_type": "code",
   "execution_count": null,
   "id": "a2fdd4bc",
   "metadata": {},
   "outputs": [],
   "source": [
    "wine_df.groupby([\"density\"]).count()"
   ]
  },
  {
   "cell_type": "markdown",
   "id": "90621754",
   "metadata": {},
   "source": [
    "# combining group and type with ph "
   ]
  },
  {
   "cell_type": "code",
   "execution_count": null,
   "id": "b2eeb323",
   "metadata": {},
   "outputs": [],
   "source": [
    "what is the count ,mun,max,mean,sum  of ph acidaccording to type and quality?"
   ]
  },
  {
   "cell_type": "code",
   "execution_count": null,
   "id": "2ad1f37f",
   "metadata": {},
   "outputs": [],
   "source": [
    "wine_df.groupby(\"type\")[\"pH\"].count()"
   ]
  },
  {
   "cell_type": "code",
   "execution_count": null,
   "id": "54864301",
   "metadata": {},
   "outputs": [],
   "source": [
    "wine_df.groupby(\"quality\")[\"pH\"].count()"
   ]
  },
  {
   "cell_type": "code",
   "execution_count": null,
   "id": "819afa39",
   "metadata": {},
   "outputs": [],
   "source": [
    "wine_df.groupby([\"type\",\"quality\"])[\"pH\"].min()"
   ]
  },
  {
   "cell_type": "code",
   "execution_count": null,
   "id": "4ffb8f7c",
   "metadata": {},
   "outputs": [],
   "source": [
    "wine_df.groupby([\"type\",\"quality\"])[\"pH\"].max()"
   ]
  },
  {
   "cell_type": "code",
   "execution_count": null,
   "id": "cfc23570",
   "metadata": {},
   "outputs": [],
   "source": [
    "wine_df.groupby([\"type\",\"quality\"])[\"pH\"].sum()"
   ]
  },
  {
   "cell_type": "code",
   "execution_count": null,
   "id": "3b486276",
   "metadata": {},
   "outputs": [],
   "source": [
    "wine_df.groupby([\"pH\",\"quality\"]).count()"
   ]
  },
  {
   "cell_type": "markdown",
   "id": "55802b19",
   "metadata": {},
   "source": [
    "what is the ph value of the wine and whose ph value is more?"
   ]
  },
  {
   "cell_type": "code",
   "execution_count": null,
   "id": "13feec65",
   "metadata": {},
   "outputs": [],
   "source": [
    "sns.barplot(wine_df,x=\"quality\",y=\"pH\",hue=\"type\",errorbar=None,color=\"red\")\n",
    "plt.title(\"bar plot of ph value of wine\",y=1.06)"
   ]
  },
  {
   "cell_type": "code",
   "execution_count": null,
   "id": "41b27349",
   "metadata": {},
   "outputs": [],
   "source": [
    "from the above reading er can say ph valur of red wine is more than white"
   ]
  },
  {
   "cell_type": "code",
   "execution_count": null,
   "id": "d2d3087a",
   "metadata": {},
   "outputs": [],
   "source": [
    "wine_df.groupby([\"pH\"]).count()"
   ]
  },
  {
   "cell_type": "code",
   "execution_count": null,
   "id": "52c801c6",
   "metadata": {},
   "outputs": [],
   "source": [
    "wine_df.groupby([\"pH\"]).count()"
   ]
  },
  {
   "cell_type": "markdown",
   "id": "c4ef4486",
   "metadata": {},
   "source": [
    "# combining group with type quality and sulphates"
   ]
  },
  {
   "cell_type": "code",
   "execution_count": null,
   "id": "08b443ba",
   "metadata": {},
   "outputs": [],
   "source": [
    "what is the count ,mun,max,mean,sum  of sulphates acidaccording to type and quality?"
   ]
  },
  {
   "cell_type": "code",
   "execution_count": null,
   "id": "23d256c2",
   "metadata": {},
   "outputs": [],
   "source": [
    "wine_df.groupby(\"type\")[\"sulphates\"].count()"
   ]
  },
  {
   "cell_type": "code",
   "execution_count": null,
   "id": "481da16a",
   "metadata": {},
   "outputs": [],
   "source": [
    "wine_df.groupby(\"quality\")[\"sulphates\"].count()"
   ]
  },
  {
   "cell_type": "code",
   "execution_count": null,
   "id": "f3bd023e",
   "metadata": {},
   "outputs": [],
   "source": [
    "wine_df.groupby([\"type\",\"quality\"])[\"sulphates\"].min()"
   ]
  },
  {
   "cell_type": "code",
   "execution_count": null,
   "id": "7554d85b",
   "metadata": {},
   "outputs": [],
   "source": [
    "wine_df.groupby([\"type\",\"quality\"])[\"sulphates\"].max()"
   ]
  },
  {
   "cell_type": "code",
   "execution_count": null,
   "id": "e222ca59",
   "metadata": {},
   "outputs": [],
   "source": [
    "wine_df.groupby([\"type\",\"quality\"])[\"sulphates\"].sum()"
   ]
  },
  {
   "cell_type": "code",
   "execution_count": null,
   "id": "f7181c40",
   "metadata": {},
   "outputs": [],
   "source": [
    "wine_df.groupby([\"sulphates\",\"quality\"]).count()"
   ]
  },
  {
   "cell_type": "markdown",
   "id": "91c333f0",
   "metadata": {},
   "source": [
    "#what is the sulphate content in each wine?"
   ]
  },
  {
   "cell_type": "code",
   "execution_count": null,
   "id": "cb7842d1",
   "metadata": {},
   "outputs": [],
   "source": [
    "sns.barplot(wine_df,x=\"quality\",y=\"sulphates\",hue=\"type\",errorbar=None,color=\"blue\")\n",
    "plt.title(\"bar plot of sulphate content on wine \",y=1.06)"
   ]
  },
  {
   "cell_type": "markdown",
   "id": "9e263d81",
   "metadata": {},
   "source": [
    "from yhe above graph we can say sulphate content in red wine is more than white wine "
   ]
  },
  {
   "cell_type": "code",
   "execution_count": null,
   "id": "f0709837",
   "metadata": {},
   "outputs": [],
   "source": [
    "wine_df.groupby([\"sulphates\"]).count()"
   ]
  },
  {
   "cell_type": "code",
   "execution_count": null,
   "id": "8244855f",
   "metadata": {},
   "outputs": [],
   "source": [
    "wine_df.groupby([\"sulphates\"]).count()"
   ]
  },
  {
   "cell_type": "markdown",
   "id": "905c83a8",
   "metadata": {},
   "source": [
    "# combining type group with alcohol"
   ]
  },
  {
   "cell_type": "markdown",
   "id": "fd64c6f4",
   "metadata": {},
   "source": [
    "what is the count ,mun,max,mean,sum  of alcohil acidaccording to type and quality?"
   ]
  },
  {
   "cell_type": "code",
   "execution_count": null,
   "id": "ccc7cb28",
   "metadata": {},
   "outputs": [],
   "source": [
    "wine_df.groupby(\"type\")[\"alcohol\"].count()"
   ]
  },
  {
   "cell_type": "code",
   "execution_count": null,
   "id": "f82527c5",
   "metadata": {},
   "outputs": [],
   "source": [
    "wine_df.groupby(\"quality\")[\"alcohol\"].count()"
   ]
  },
  {
   "cell_type": "code",
   "execution_count": null,
   "id": "2143ee79",
   "metadata": {},
   "outputs": [],
   "source": [
    "wine_df.groupby([\"type\",\"quality\"])[\"alcohol\"].min()"
   ]
  },
  {
   "cell_type": "code",
   "execution_count": null,
   "id": "e7409455",
   "metadata": {},
   "outputs": [],
   "source": [
    "wine_df.groupby([\"type\",\"quality\"])[\"alcohol\"].max()"
   ]
  },
  {
   "cell_type": "code",
   "execution_count": null,
   "id": "da8cdb6a",
   "metadata": {},
   "outputs": [],
   "source": [
    "wine_df.groupby([\"type\",\"quality\"])[\"alcohol\"].sum()"
   ]
  },
  {
   "cell_type": "code",
   "execution_count": null,
   "id": "2c52d2b7",
   "metadata": {},
   "outputs": [],
   "source": [
    "wine_df.groupby([\"alcohol\",\"quality\"]).count()"
   ]
  },
  {
   "cell_type": "markdown",
   "id": "b8f00e3a",
   "metadata": {},
   "source": [
    "what is the alcohol content in each wine?"
   ]
  },
  {
   "cell_type": "code",
   "execution_count": null,
   "id": "1f187907",
   "metadata": {},
   "outputs": [],
   "source": [
    "sns.barplot(wine_df,x=\"quality\",y=\"alcohol\",hue=\"type\",errorbar=None,color=\"orange\")"
   ]
  },
  {
   "cell_type": "code",
   "execution_count": null,
   "id": "9d0af2db",
   "metadata": {},
   "outputs": [],
   "source": [
    "from the above findings we can say alcohol cintent in red wine is more than white wine "
   ]
  },
  {
   "cell_type": "code",
   "execution_count": null,
   "id": "0eb9f486",
   "metadata": {},
   "outputs": [],
   "source": [
    "wine_df.groupby([\"alcohol\"]).count()"
   ]
  },
  {
   "cell_type": "code",
   "execution_count": null,
   "id": "e13365e7",
   "metadata": {},
   "outputs": [],
   "source": [
    "wine_df.groupby([\"alcohol\"]).count()"
   ]
  },
  {
   "cell_type": "markdown",
   "id": "5b487356",
   "metadata": {},
   "source": [
    "# data cleaning"
   ]
  },
  {
   "cell_type": "code",
   "execution_count": null,
   "id": "163bc212",
   "metadata": {},
   "outputs": [],
   "source": [
    "wine_df"
   ]
  },
  {
   "cell_type": "code",
   "execution_count": null,
   "id": "4b4ddf5c",
   "metadata": {},
   "outputs": [],
   "source": [
    "wine_df.isnull().sum()"
   ]
  },
  {
   "cell_type": "code",
   "execution_count": null,
   "id": "f0504873",
   "metadata": {},
   "outputs": [],
   "source": [
    "wine_df.describe()"
   ]
  },
  {
   "cell_type": "code",
   "execution_count": null,
   "id": "4f30205b",
   "metadata": {},
   "outputs": [],
   "source": [
    "wine_df.describe(include='O')"
   ]
  },
  {
   "cell_type": "markdown",
   "id": "9ea74cdc",
   "metadata": {},
   "source": [
    "# filling fixed acidity null values with mean fixed acidity value"
   ]
  },
  {
   "cell_type": "code",
   "execution_count": null,
   "id": "783497c9",
   "metadata": {},
   "outputs": [],
   "source": [
    "wine_df[\"fixed acidity\"].fillna(wine_df[\"fixed acidity\"].mean(),inplace=True)"
   ]
  },
  {
   "cell_type": "code",
   "execution_count": null,
   "id": "c26e46c3",
   "metadata": {},
   "outputs": [],
   "source": [
    "wine_df.isnull().sum()"
   ]
  },
  {
   "cell_type": "markdown",
   "id": "93254243",
   "metadata": {},
   "source": [
    "# filling null values of volatile acidity with mean calues"
   ]
  },
  {
   "cell_type": "code",
   "execution_count": null,
   "id": "f939e931",
   "metadata": {},
   "outputs": [],
   "source": [
    "wine_df[\"volatile acidity\"].mean()"
   ]
  },
  {
   "cell_type": "code",
   "execution_count": null,
   "id": "2de7a51f",
   "metadata": {},
   "outputs": [],
   "source": [
    "wine_df[\"volatile acidity\"].fillna(0.3396,inplace=True)"
   ]
  },
  {
   "cell_type": "code",
   "execution_count": null,
   "id": "d73a9ff3",
   "metadata": {},
   "outputs": [],
   "source": [
    "wine_df.isnull().sum()"
   ]
  },
  {
   "cell_type": "markdown",
   "id": "aa5cf5ea",
   "metadata": {},
   "source": [
    "# filling null values of citric acid value  with mean citric acid"
   ]
  },
  {
   "cell_type": "code",
   "execution_count": null,
   "id": "c2907202",
   "metadata": {},
   "outputs": [],
   "source": [
    "wine_df[\"citric acid\"].mean()"
   ]
  },
  {
   "cell_type": "code",
   "execution_count": null,
   "id": "3ee751bd",
   "metadata": {},
   "outputs": [],
   "source": [
    "wine_df[\"citric acid\"].fillna(0.3187,inplace=True)"
   ]
  },
  {
   "cell_type": "markdown",
   "id": "1d287deb",
   "metadata": {},
   "source": [
    "# filling null values of resiual sugar with mean value"
   ]
  },
  {
   "cell_type": "code",
   "execution_count": null,
   "id": "dc331b38",
   "metadata": {},
   "outputs": [],
   "source": [
    "wine_df[\"residual sugar\"].mean()"
   ]
  },
  {
   "cell_type": "code",
   "execution_count": null,
   "id": "8aa9738b",
   "metadata": {},
   "outputs": [],
   "source": [
    "wine_df[\"residual sugar\"].fillna(5.444,inplace=True)"
   ]
  },
  {
   "cell_type": "markdown",
   "id": "177f9d23",
   "metadata": {},
   "source": [
    "# filling null values of cholorides with mean value"
   ]
  },
  {
   "cell_type": "code",
   "execution_count": null,
   "id": "bb166d88",
   "metadata": {},
   "outputs": [],
   "source": [
    "wine_df[\"chlorides\"].mean()"
   ]
  },
  {
   "cell_type": "code",
   "execution_count": null,
   "id": "9d12f340",
   "metadata": {},
   "outputs": [],
   "source": [
    "wine_df[\"chlorides\"].fillna(0.0561,inplace=True)"
   ]
  },
  {
   "cell_type": "markdown",
   "id": "d9ea9774",
   "metadata": {},
   "source": [
    "# filling null values with ph values"
   ]
  },
  {
   "cell_type": "code",
   "execution_count": null,
   "id": "b7ea8d48",
   "metadata": {},
   "outputs": [],
   "source": [
    "wine_df[\"pH\"].mean()"
   ]
  },
  {
   "cell_type": "code",
   "execution_count": null,
   "id": "27bda38a",
   "metadata": {},
   "outputs": [],
   "source": [
    "wine_df[\"pH\"].fillna(3.218,inplace=True)"
   ]
  },
  {
   "cell_type": "markdown",
   "id": "a9eabece",
   "metadata": {},
   "source": [
    "# filling null values with sulphates"
   ]
  },
  {
   "cell_type": "code",
   "execution_count": null,
   "id": "286b062d",
   "metadata": {},
   "outputs": [],
   "source": [
    "wine_df[\"sulphates\"].mean()"
   ]
  },
  {
   "cell_type": "code",
   "execution_count": null,
   "id": "fc67e220",
   "metadata": {},
   "outputs": [],
   "source": [
    "wine_df[\"sulphates\"].fillna(0.5312,inplace=True)"
   ]
  },
  {
   "cell_type": "code",
   "execution_count": null,
   "id": "fd133e80",
   "metadata": {},
   "outputs": [],
   "source": [
    "wine_df.isnull().sum()"
   ]
  },
  {
   "cell_type": "markdown",
   "id": "7d02fb2c",
   "metadata": {},
   "source": [
    "according to the analysid each and every colum looks important in the making to wne so will keep all the columns .but density is not needed "
   ]
  },
  {
   "cell_type": "code",
   "execution_count": null,
   "id": "76e478aa",
   "metadata": {},
   "outputs": [],
   "source": [
    "wine_df.drop([\"density\"],inplace=True,axis=1)"
   ]
  },
  {
   "cell_type": "markdown",
   "id": "7a32e7c8",
   "metadata": {},
   "source": [
    "# handeling extreme values or outliers"
   ]
  },
  {
   "cell_type": "markdown",
   "id": "ae8fb2eb",
   "metadata": {},
   "source": [
    "# fixed acidity"
   ]
  },
  {
   "cell_type": "code",
   "execution_count": null,
   "id": "7883dd88",
   "metadata": {},
   "outputs": [],
   "source": [
    "wine_df"
   ]
  },
  {
   "cell_type": "markdown",
   "id": "6317cb1a",
   "metadata": {},
   "source": [
    "q1"
   ]
  },
  {
   "cell_type": "code",
   "execution_count": null,
   "id": "e7c3fc76",
   "metadata": {},
   "outputs": [],
   "source": [
    "wine_df[\"fixed acidity\"].quantile(0.25)"
   ]
  },
  {
   "cell_type": "markdown",
   "id": "03d454a9",
   "metadata": {},
   "source": [
    "q2"
   ]
  },
  {
   "cell_type": "code",
   "execution_count": null,
   "id": "7862eae1",
   "metadata": {},
   "outputs": [],
   "source": [
    "wine_df[\"fixed acidity\"].quantile(0.50)"
   ]
  },
  {
   "cell_type": "markdown",
   "id": "4ae3242f",
   "metadata": {},
   "source": [
    "q3"
   ]
  },
  {
   "cell_type": "code",
   "execution_count": null,
   "id": "f2d3859d",
   "metadata": {},
   "outputs": [],
   "source": [
    "wine_df[\"fixed acidity\"].quantile(0.75)"
   ]
  },
  {
   "cell_type": "markdown",
   "id": "31ddec88",
   "metadata": {},
   "source": [
    "iqr"
   ]
  },
  {
   "cell_type": "code",
   "execution_count": null,
   "id": "1837bdaf",
   "metadata": {},
   "outputs": [],
   "source": [
    "7.4-6.4"
   ]
  },
  {
   "cell_type": "markdown",
   "id": "b7c901c2",
   "metadata": {},
   "source": [
    "minumum whisker"
   ]
  },
  {
   "cell_type": "code",
   "execution_count": null,
   "id": "f361db27",
   "metadata": {},
   "outputs": [],
   "source": [
    "6.4-1.5*1.0"
   ]
  },
  {
   "cell_type": "markdown",
   "id": "3b5078a5",
   "metadata": {},
   "source": [
    "maximum whisker"
   ]
  },
  {
   "cell_type": "code",
   "execution_count": null,
   "id": "ad8669bd",
   "metadata": {},
   "outputs": [],
   "source": [
    "7.7+1.5*1.0"
   ]
  },
  {
   "cell_type": "code",
   "execution_count": null,
   "id": "b1d41e05",
   "metadata": {},
   "outputs": [],
   "source": [
    "sns.boxplot(x=wine_df[\"fixed acidity\"])"
   ]
  },
  {
   "cell_type": "code",
   "execution_count": null,
   "id": "b999a5c9",
   "metadata": {},
   "outputs": [],
   "source": []
  },
  {
   "cell_type": "code",
   "execution_count": null,
   "id": "cadc3d3c",
   "metadata": {},
   "outputs": [],
   "source": []
  },
  {
   "cell_type": "code",
   "execution_count": null,
   "id": "cedf326e",
   "metadata": {},
   "outputs": [],
   "source": []
  },
  {
   "cell_type": "code",
   "execution_count": null,
   "id": "c054069f",
   "metadata": {},
   "outputs": [],
   "source": []
  },
  {
   "cell_type": "code",
   "execution_count": null,
   "id": "6cc7a920",
   "metadata": {},
   "outputs": [],
   "source": [
    "print(wine_df[\"fixed acidity\"]>=15)"
   ]
  },
  {
   "cell_type": "code",
   "execution_count": null,
   "id": "db29776b",
   "metadata": {},
   "outputs": [],
   "source": [
    "wine_df"
   ]
  },
  {
   "cell_type": "markdown",
   "id": "8513446d",
   "metadata": {},
   "source": [
    "# dropping extreme value of fixed acidity"
   ]
  },
  {
   "cell_type": "code",
   "execution_count": null,
   "id": "83ea9e2d",
   "metadata": {},
   "outputs": [],
   "source": [
    "wine_df.drop(wine_df[wine_df['fixed acidity']>=9].index,inplace=True)"
   ]
  },
  {
   "cell_type": "code",
   "execution_count": null,
   "id": "543acbfd",
   "metadata": {},
   "outputs": [],
   "source": [
    "wine_df[\"fixed acidity\"].count()"
   ]
  },
  {
   "cell_type": "code",
   "execution_count": null,
   "id": "ce9e8402",
   "metadata": {},
   "outputs": [],
   "source": [
    "sns.distplot(wine_df[\"fixed acidity\"])"
   ]
  },
  {
   "cell_type": "markdown",
   "id": "dcf95ed8",
   "metadata": {},
   "source": [
    "skew value is out of range"
   ]
  },
  {
   "cell_type": "markdown",
   "id": "0a2135c7",
   "metadata": {},
   "source": [
    "# volatile acidity outliers"
   ]
  },
  {
   "cell_type": "code",
   "execution_count": null,
   "id": "fe0a2a30",
   "metadata": {},
   "outputs": [],
   "source": [
    "wine_df[\"volatile acidity\"].quantile(0.25)"
   ]
  },
  {
   "cell_type": "code",
   "execution_count": null,
   "id": "6ac3de60",
   "metadata": {},
   "outputs": [],
   "source": [
    "wine_df[\"volatile acidity\"].quantile(0.50)"
   ]
  },
  {
   "cell_type": "code",
   "execution_count": null,
   "id": "f93cbcb4",
   "metadata": {},
   "outputs": [],
   "source": [
    "wine_df[\"volatile acidity\"].quantile(0.75)"
   ]
  },
  {
   "cell_type": "markdown",
   "id": "641a0599",
   "metadata": {},
   "source": [
    "iqr"
   ]
  },
  {
   "cell_type": "code",
   "execution_count": null,
   "id": "f187201a",
   "metadata": {},
   "outputs": [],
   "source": [
    "0.39-0.22"
   ]
  },
  {
   "cell_type": "markdown",
   "id": "16508c18",
   "metadata": {},
   "source": [
    " minimum whisker"
   ]
  },
  {
   "cell_type": "code",
   "execution_count": null,
   "id": "ee746169",
   "metadata": {},
   "outputs": [],
   "source": [
    "0.22-1.5*0.17"
   ]
  },
  {
   "cell_type": "code",
   "execution_count": null,
   "id": "ecdb7d16",
   "metadata": {},
   "outputs": [],
   "source": [
    "0.39+1.5*0.17"
   ]
  },
  {
   "cell_type": "code",
   "execution_count": null,
   "id": "aa6f2a5a",
   "metadata": {},
   "outputs": [],
   "source": [
    "sns.boxplot(wine_df[\"volatile acidity\"],color=\"red\",orient='h')"
   ]
  },
  {
   "cell_type": "code",
   "execution_count": null,
   "id": "9425142d",
   "metadata": {},
   "outputs": [],
   "source": [
    "wine_df[\"volatile acidity\"]>0.645"
   ]
  },
  {
   "cell_type": "code",
   "execution_count": null,
   "id": "22d1a33f",
   "metadata": {},
   "outputs": [],
   "source": [
    "wine_df.drop(wine_df[wine_df['volatile acidity']>0.645].index,inplace=True)"
   ]
  },
  {
   "cell_type": "code",
   "execution_count": null,
   "id": "c7379797",
   "metadata": {},
   "outputs": [],
   "source": [
    "wine_df"
   ]
  },
  {
   "cell_type": "code",
   "execution_count": null,
   "id": "d7ce09bd",
   "metadata": {},
   "outputs": [],
   "source": [
    "wine_df[\"volatile acidity\"].count()"
   ]
  },
  {
   "cell_type": "code",
   "execution_count": null,
   "id": "bc4e061d",
   "metadata": {},
   "outputs": [],
   "source": [
    "wine_df.drop(wine_df[wine_df['volatile acidity']>0.575].index,inplace=True)"
   ]
  },
  {
   "cell_type": "code",
   "execution_count": null,
   "id": "45ec67bd",
   "metadata": {},
   "outputs": [],
   "source": [
    "sns.distplot(wine_df[\"volatile acidity\"])"
   ]
  },
  {
   "cell_type": "markdown",
   "id": "e1fbc8fe",
   "metadata": {},
   "source": [
    "skew value is with in range"
   ]
  },
  {
   "cell_type": "code",
   "execution_count": null,
   "id": "205aeaa3",
   "metadata": {},
   "outputs": [],
   "source": [
    "wine_df.loc[200:500]"
   ]
  },
  {
   "cell_type": "markdown",
   "id": "96a9ddae",
   "metadata": {},
   "source": [
    "# removing extreme values from citric acid"
   ]
  },
  {
   "cell_type": "code",
   "execution_count": null,
   "id": "9cd82ed2",
   "metadata": {},
   "outputs": [],
   "source": [
    "wine_df[\"citric acid\"].quantile(0.25)"
   ]
  },
  {
   "cell_type": "code",
   "execution_count": null,
   "id": "6f06dc73",
   "metadata": {},
   "outputs": [],
   "source": [
    "wine_df[\"citric acid\"].quantile(0.50)"
   ]
  },
  {
   "cell_type": "code",
   "execution_count": null,
   "id": "2e6969cf",
   "metadata": {},
   "outputs": [],
   "source": [
    "wine_df[\"citric acid\"].quantile(0.75)"
   ]
  },
  {
   "cell_type": "markdown",
   "id": "53c1b680",
   "metadata": {},
   "source": [
    "iqr"
   ]
  },
  {
   "cell_type": "code",
   "execution_count": null,
   "id": "506af5df",
   "metadata": {},
   "outputs": [],
   "source": [
    "0.38-0.25"
   ]
  },
  {
   "cell_type": "code",
   "execution_count": null,
   "id": "b8c25fd6",
   "metadata": {},
   "outputs": [],
   "source": [
    "minimum whisker"
   ]
  },
  {
   "cell_type": "code",
   "execution_count": null,
   "id": "654c5e08",
   "metadata": {},
   "outputs": [],
   "source": [
    "0.25-1.5*0.13"
   ]
  },
  {
   "cell_type": "markdown",
   "id": "75022fa5",
   "metadata": {},
   "source": [
    "maximim whisker"
   ]
  },
  {
   "cell_type": "code",
   "execution_count": null,
   "id": "d378e1ed",
   "metadata": {},
   "outputs": [],
   "source": [
    "0.38+1.5*0.13"
   ]
  },
  {
   "cell_type": "code",
   "execution_count": null,
   "id": "7867ede9",
   "metadata": {},
   "outputs": [],
   "source": [
    "sns.boxplot(wine_df[\"citric acid\"],color=\"red\",orient='h')"
   ]
  },
  {
   "cell_type": "code",
   "execution_count": null,
   "id": "6272e153",
   "metadata": {},
   "outputs": [],
   "source": [
    "sns.distplot(wine_df[\"fixed acidity\"])"
   ]
  },
  {
   "cell_type": "code",
   "execution_count": null,
   "id": "ff8a590c",
   "metadata": {},
   "outputs": [],
   "source": [
    "wine_df.drop(wine_df[wine_df['citric acid']>0.575].index,inplace=True)"
   ]
  },
  {
   "cell_type": "code",
   "execution_count": null,
   "id": "a4aee4a6",
   "metadata": {},
   "outputs": [],
   "source": [
    "sns.distplot(wine_df[\"citric acid\"])"
   ]
  },
  {
   "cell_type": "markdown",
   "id": "921b55d0",
   "metadata": {},
   "source": [
    "from the above diagram we can say skew valuein in range"
   ]
  },
  {
   "cell_type": "code",
   "execution_count": null,
   "id": "48118ed7",
   "metadata": {},
   "outputs": [],
   "source": [
    "wine_df[\"citric acid\"].count()"
   ]
  },
  {
   "cell_type": "code",
   "execution_count": null,
   "id": "0b186129",
   "metadata": {},
   "outputs": [],
   "source": [
    "wine_df"
   ]
  },
  {
   "cell_type": "markdown",
   "id": "3176f911",
   "metadata": {},
   "source": [
    "# handeling extreme values of residual sugar"
   ]
  },
  {
   "cell_type": "code",
   "execution_count": null,
   "id": "085c8e15",
   "metadata": {},
   "outputs": [],
   "source": [
    "wine_df[\"residual sugar\"].quantile(0.25)"
   ]
  },
  {
   "cell_type": "code",
   "execution_count": null,
   "id": "34e3a831",
   "metadata": {},
   "outputs": [],
   "source": [
    "wine_df[\"residual sugar\"].quantile(0.50)"
   ]
  },
  {
   "cell_type": "code",
   "execution_count": null,
   "id": "6e9878c1",
   "metadata": {},
   "outputs": [],
   "source": [
    "wine_df[\"residual sugar\"].quantile(0.75)"
   ]
  },
  {
   "cell_type": "code",
   "execution_count": null,
   "id": "2d314ef5",
   "metadata": {},
   "outputs": [],
   "source": [
    "iqr"
   ]
  },
  {
   "cell_type": "code",
   "execution_count": null,
   "id": "045ae154",
   "metadata": {},
   "outputs": [],
   "source": [
    "9.0-1.8"
   ]
  },
  {
   "cell_type": "markdown",
   "id": "850ac09d",
   "metadata": {},
   "source": [
    " minimum whisker"
   ]
  },
  {
   "cell_type": "code",
   "execution_count": null,
   "id": "05371410",
   "metadata": {},
   "outputs": [],
   "source": [
    "1.8-1.5*7.2"
   ]
  },
  {
   "cell_type": "markdown",
   "id": "25380e07",
   "metadata": {},
   "source": [
    "maximum whisker"
   ]
  },
  {
   "cell_type": "code",
   "execution_count": null,
   "id": "4a12cf9f",
   "metadata": {},
   "outputs": [],
   "source": [
    "9.0+1.5*7.2"
   ]
  },
  {
   "cell_type": "code",
   "execution_count": null,
   "id": "4cf45cbc",
   "metadata": {},
   "outputs": [],
   "source": [
    "sns.boxplot(wine_df[\"residual sugar\"])"
   ]
  },
  {
   "cell_type": "code",
   "execution_count": null,
   "id": "eef5abf6",
   "metadata": {},
   "outputs": [],
   "source": [
    "wine_df.drop(wine_df[wine_df['residual sugar']>19.8].index,inplace=True)"
   ]
  },
  {
   "cell_type": "code",
   "execution_count": null,
   "id": "ad3c96ed",
   "metadata": {},
   "outputs": [],
   "source": [
    "sns.boxplot(wine_df[\"residual sugar\"])"
   ]
  },
  {
   "cell_type": "code",
   "execution_count": null,
   "id": "0764a356",
   "metadata": {},
   "outputs": [],
   "source": [
    "sns.distplot(wine_df[\"residual sugar\"])"
   ]
  },
  {
   "cell_type": "markdown",
   "id": "98c4299e",
   "metadata": {},
   "source": [
    "from the above diageam we can say skew value is out of range"
   ]
  },
  {
   "cell_type": "code",
   "execution_count": null,
   "id": "0f02b841",
   "metadata": {},
   "outputs": [],
   "source": [
    "wine_df[\"residual sugar\"].skew()"
   ]
  },
  {
   "cell_type": "markdown",
   "id": "c4b1aa49",
   "metadata": {},
   "source": [
    "# hadeling chlorides outliers"
   ]
  },
  {
   "cell_type": "code",
   "execution_count": null,
   "id": "de00d2e8",
   "metadata": {},
   "outputs": [],
   "source": [
    "wine_df[\"chlorides\"].quantile(0.25)"
   ]
  },
  {
   "cell_type": "code",
   "execution_count": null,
   "id": "a7324b9e",
   "metadata": {},
   "outputs": [],
   "source": [
    "wine_df[\"chlorides\"].quantile(0.50)"
   ]
  },
  {
   "cell_type": "code",
   "execution_count": null,
   "id": "06ed2539",
   "metadata": {},
   "outputs": [],
   "source": [
    "wine_df[\"chlorides\"].quantile(0.75)"
   ]
  },
  {
   "cell_type": "code",
   "execution_count": null,
   "id": "0ac6c2ec",
   "metadata": {},
   "outputs": [],
   "source": [
    "iqr"
   ]
  },
  {
   "cell_type": "code",
   "execution_count": null,
   "id": "6c2e0106",
   "metadata": {},
   "outputs": [],
   "source": [
    "0.056-0.037"
   ]
  },
  {
   "cell_type": "markdown",
   "id": "137519c7",
   "metadata": {},
   "source": [
    "minimum whisker"
   ]
  },
  {
   "cell_type": "code",
   "execution_count": null,
   "id": "fdbb029b",
   "metadata": {},
   "outputs": [],
   "source": [
    "0.037-1.5*0.01900"
   ]
  },
  {
   "cell_type": "code",
   "execution_count": null,
   "id": "db3e489b",
   "metadata": {},
   "outputs": [],
   "source": [
    "maximum whisker"
   ]
  },
  {
   "cell_type": "code",
   "execution_count": null,
   "id": "5345b0ab",
   "metadata": {},
   "outputs": [],
   "source": [
    "0.056+1.5*0.01900"
   ]
  },
  {
   "cell_type": "code",
   "execution_count": null,
   "id": "24ab9fc2",
   "metadata": {},
   "outputs": [],
   "source": [
    "wine_df.drop(wine_df[wine_df['chlorides']>0.08449].index,inplace=True)"
   ]
  },
  {
   "cell_type": "code",
   "execution_count": null,
   "id": "f872ad6f",
   "metadata": {},
   "outputs": [],
   "source": [
    "wine_df[\"chlorides\"].count()"
   ]
  },
  {
   "cell_type": "code",
   "execution_count": null,
   "id": "50c840e3",
   "metadata": {},
   "outputs": [],
   "source": [
    "sns.distplot(wine_df[\"chlorides\"])"
   ]
  },
  {
   "cell_type": "markdown",
   "id": "bce8e8f2",
   "metadata": {},
   "source": [
    "from the above diageam we can say skew value is with in range "
   ]
  },
  {
   "cell_type": "code",
   "execution_count": null,
   "id": "643636c9",
   "metadata": {},
   "outputs": [],
   "source": [
    "wine_df[\"chlorides\"].skew()"
   ]
  },
  {
   "cell_type": "markdown",
   "id": "d262a15b",
   "metadata": {},
   "source": [
    "# handelding free sulfur dioxide outliers"
   ]
  },
  {
   "cell_type": "code",
   "execution_count": null,
   "id": "5d077236",
   "metadata": {},
   "outputs": [],
   "source": [
    "wine_df[\"free sulfur dioxide\"].quantile(0.25)"
   ]
  },
  {
   "cell_type": "code",
   "execution_count": null,
   "id": "adacb956",
   "metadata": {},
   "outputs": [],
   "source": [
    "wine_df[\"free sulfur dioxide\"].quantile(0.50)"
   ]
  },
  {
   "cell_type": "code",
   "execution_count": null,
   "id": "73f040ab",
   "metadata": {},
   "outputs": [],
   "source": [
    "wine_df[\"free sulfur dioxide\"].quantile(0.75)"
   ]
  },
  {
   "cell_type": "raw",
   "id": "02bb1143",
   "metadata": {},
   "source": [
    "iqr"
   ]
  },
  {
   "cell_type": "code",
   "execution_count": null,
   "id": "18554f4b",
   "metadata": {},
   "outputs": [],
   "source": [
    "39.0-16.0"
   ]
  },
  {
   "cell_type": "markdown",
   "id": "00646cd5",
   "metadata": {},
   "source": [
    "minumum whisker"
   ]
  },
  {
   "cell_type": "code",
   "execution_count": null,
   "id": "8891372b",
   "metadata": {},
   "outputs": [],
   "source": [
    "16.0-1.5*23.0"
   ]
  },
  {
   "cell_type": "code",
   "execution_count": null,
   "id": "95fa1ce8",
   "metadata": {},
   "outputs": [],
   "source": [
    "maximum whister"
   ]
  },
  {
   "cell_type": "code",
   "execution_count": null,
   "id": "be88e0e3",
   "metadata": {},
   "outputs": [],
   "source": [
    "39.0+1.5*23.0"
   ]
  },
  {
   "cell_type": "code",
   "execution_count": null,
   "id": "8901ab53",
   "metadata": {},
   "outputs": [],
   "source": [
    "wine_df.drop(wine_df[wine_df['free sulfur dioxide']>73.5].index,inplace=True)"
   ]
  },
  {
   "cell_type": "code",
   "execution_count": null,
   "id": "2304f969",
   "metadata": {},
   "outputs": [],
   "source": [
    "sns.distplot(wine_df['free sulfur dioxide'])"
   ]
  },
  {
   "cell_type": "markdown",
   "id": "ce163a36",
   "metadata": {},
   "source": [
    "from the above diagram we can say skew is out of range "
   ]
  },
  {
   "cell_type": "code",
   "execution_count": null,
   "id": "6e132fa7",
   "metadata": {},
   "outputs": [],
   "source": [
    "wine_df[\"free sulfur dioxide\"].skew()"
   ]
  },
  {
   "cell_type": "code",
   "execution_count": null,
   "id": "bc16e6a9",
   "metadata": {},
   "outputs": [],
   "source": [
    "wine_df=wine_df.drop(\"density\",axis=1,inplace=True)"
   ]
  },
  {
   "cell_type": "markdown",
   "id": "bf7e4f2c",
   "metadata": {},
   "source": [
    "# handeling total sufur dioxide outliers"
   ]
  },
  {
   "cell_type": "code",
   "execution_count": null,
   "id": "217c4e9e",
   "metadata": {},
   "outputs": [],
   "source": [
    "wine_df"
   ]
  },
  {
   "cell_type": "code",
   "execution_count": null,
   "id": "2bccc8bb",
   "metadata": {},
   "outputs": [],
   "source": [
    "wine_df"
   ]
  },
  {
   "cell_type": "code",
   "execution_count": null,
   "id": "bde05170",
   "metadata": {},
   "outputs": [],
   "source": [
    "wine_df[\"total sulfur dioxide\"].quantile(0.25)"
   ]
  },
  {
   "cell_type": "code",
   "execution_count": null,
   "id": "895c6a97",
   "metadata": {},
   "outputs": [],
   "source": [
    "wine_df[\"total sulfur dioxide\"].quantile(0.50)"
   ]
  },
  {
   "cell_type": "code",
   "execution_count": null,
   "id": "18bec4ba",
   "metadata": {},
   "outputs": [],
   "source": [
    "wine_df[\"total sulfur dioxide\"].quantile(0.75)"
   ]
  },
  {
   "cell_type": "markdown",
   "id": "31b33804",
   "metadata": {},
   "source": [
    "iqr"
   ]
  },
  {
   "cell_type": "code",
   "execution_count": null,
   "id": "4a5b439d",
   "metadata": {},
   "outputs": [],
   "source": [
    "150.0-74.0"
   ]
  },
  {
   "cell_type": "markdown",
   "id": "fbc7d40c",
   "metadata": {},
   "source": [
    "minimum whisker"
   ]
  },
  {
   "cell_type": "code",
   "execution_count": null,
   "id": "4a6e09d4",
   "metadata": {},
   "outputs": [],
   "source": [
    "74.0-1.5*76.0"
   ]
  },
  {
   "cell_type": "code",
   "execution_count": null,
   "id": "d9c847e9",
   "metadata": {},
   "outputs": [],
   "source": [
    "maximum whisker"
   ]
  },
  {
   "cell_type": "code",
   "execution_count": null,
   "id": "0d982ebd",
   "metadata": {},
   "outputs": [],
   "source": [
    "150.0+1.5*76.0"
   ]
  },
  {
   "cell_type": "code",
   "execution_count": null,
   "id": "1f4fd3fb",
   "metadata": {},
   "outputs": [],
   "source": [
    "wine_df.drop(wine_df[wine_df['total sulfur dioxide']>264.0].index,inplace=True)"
   ]
  },
  {
   "cell_type": "code",
   "execution_count": null,
   "id": "248ed5d9",
   "metadata": {},
   "outputs": [],
   "source": [
    "sns.distplot(wine_df[\"total sulfur dioxide\"])"
   ]
  },
  {
   "cell_type": "markdown",
   "id": "8df312af",
   "metadata": {},
   "source": [
    "from the above reading we can say taht there are 2 skew values one in range and on out of range "
   ]
  },
  {
   "cell_type": "markdown",
   "id": "684a678b",
   "metadata": {},
   "source": [
    "# handeling ph value outliers"
   ]
  },
  {
   "cell_type": "code",
   "execution_count": null,
   "id": "f4bf9d83",
   "metadata": {},
   "outputs": [],
   "source": [
    "wine_df[\"pH\"].quantile(0.25)"
   ]
  },
  {
   "cell_type": "code",
   "execution_count": null,
   "id": "763981ed",
   "metadata": {},
   "outputs": [],
   "source": [
    "wine_df[\"pH\"].quantile(0.50)"
   ]
  },
  {
   "cell_type": "code",
   "execution_count": null,
   "id": "02c2e179",
   "metadata": {},
   "outputs": [],
   "source": [
    "wine_df[\"pH\"].quantile(0.75)"
   ]
  },
  {
   "cell_type": "markdown",
   "id": "58f94b16",
   "metadata": {},
   "source": [
    "iqr"
   ]
  },
  {
   "cell_type": "code",
   "execution_count": null,
   "id": "a14f2cd6",
   "metadata": {},
   "outputs": [],
   "source": [
    "3.32-3.11"
   ]
  },
  {
   "cell_type": "markdown",
   "id": "ff792abe",
   "metadata": {},
   "source": [
    "minimum whisker"
   ]
  },
  {
   "cell_type": "code",
   "execution_count": null,
   "id": "19fd776e",
   "metadata": {},
   "outputs": [],
   "source": [
    "3.11-1.5*0.2099"
   ]
  },
  {
   "cell_type": "markdown",
   "id": "0276df48",
   "metadata": {},
   "source": [
    "maximum whisker"
   ]
  },
  {
   "cell_type": "code",
   "execution_count": null,
   "id": "46bbeb6c",
   "metadata": {},
   "outputs": [],
   "source": [
    "3.32+1.5*0.2099"
   ]
  },
  {
   "cell_type": "code",
   "execution_count": null,
   "id": "df646d1b",
   "metadata": {},
   "outputs": [],
   "source": [
    "wine_df.drop(wine_df[wine_df['pH']>3.6348].index,inplace=True)"
   ]
  },
  {
   "cell_type": "code",
   "execution_count": null,
   "id": "bd48a54f",
   "metadata": {},
   "outputs": [],
   "source": [
    "sns.distplot(wine_df[\"pH\"])"
   ]
  },
  {
   "cell_type": "code",
   "execution_count": null,
   "id": "5785b80e",
   "metadata": {},
   "outputs": [],
   "source": [
    "from the above diageam we can say skew value is out of range "
   ]
  },
  {
   "cell_type": "code",
   "execution_count": null,
   "id": "00b063c4",
   "metadata": {},
   "outputs": [],
   "source": [
    "wine_df"
   ]
  },
  {
   "cell_type": "markdown",
   "id": "302777cf",
   "metadata": {},
   "source": [
    "# handeling suphates outliers"
   ]
  },
  {
   "cell_type": "code",
   "execution_count": null,
   "id": "bf7775b7",
   "metadata": {},
   "outputs": [],
   "source": [
    "wine_df[\"sulphates\"].quantile(0.25)"
   ]
  },
  {
   "cell_type": "code",
   "execution_count": null,
   "id": "b8cbd92f",
   "metadata": {},
   "outputs": [],
   "source": [
    "wine_df[\"sulphates\"].quantile(0.50)"
   ]
  },
  {
   "cell_type": "code",
   "execution_count": null,
   "id": "add84531",
   "metadata": {},
   "outputs": [],
   "source": [
    "wine_df[\"sulphates\"].quantile(0.75)"
   ]
  },
  {
   "cell_type": "code",
   "execution_count": null,
   "id": "50c13a8d",
   "metadata": {},
   "outputs": [],
   "source": [
    "iqr"
   ]
  },
  {
   "cell_type": "code",
   "execution_count": null,
   "id": "4fcc0f09",
   "metadata": {},
   "outputs": [],
   "source": [
    "0.6-0.13"
   ]
  },
  {
   "cell_type": "markdown",
   "id": "769770b5",
   "metadata": {},
   "source": [
    "minimum whisker"
   ]
  },
  {
   "cell_type": "code",
   "execution_count": null,
   "id": "eb79f582",
   "metadata": {},
   "outputs": [],
   "source": [
    "0.43-1.5*0.47"
   ]
  },
  {
   "cell_type": "markdown",
   "id": "1daae935",
   "metadata": {},
   "source": [
    "maximum whisker"
   ]
  },
  {
   "cell_type": "code",
   "execution_count": null,
   "id": "b6145df4",
   "metadata": {},
   "outputs": [],
   "source": [
    "0.6+1.5*0.47"
   ]
  },
  {
   "cell_type": "code",
   "execution_count": null,
   "id": "012e9a10",
   "metadata": {},
   "outputs": [],
   "source": [
    "wine_df.drop(wine_df[wine_df['sulphates']>3.6348].index,inplace=True)"
   ]
  },
  {
   "cell_type": "code",
   "execution_count": null,
   "id": "03ab3ea0",
   "metadata": {},
   "outputs": [],
   "source": [
    "sns.distplot(wine_df[\"sulphates\"])"
   ]
  },
  {
   "cell_type": "markdown",
   "id": "7b6d600f",
   "metadata": {},
   "source": [
    "from the above reading we can say skew is within range "
   ]
  },
  {
   "cell_type": "code",
   "execution_count": null,
   "id": "142088b7",
   "metadata": {},
   "outputs": [],
   "source": [
    "wine_df"
   ]
  },
  {
   "cell_type": "markdown",
   "id": "cc9a463f",
   "metadata": {},
   "source": [
    "# handeling outliers of alcohol"
   ]
  },
  {
   "cell_type": "code",
   "execution_count": null,
   "id": "ecda8886",
   "metadata": {},
   "outputs": [],
   "source": [
    "wine_df[\"alcohol\"].quantile(0.25)"
   ]
  },
  {
   "cell_type": "code",
   "execution_count": null,
   "id": "0458601f",
   "metadata": {},
   "outputs": [],
   "source": [
    "wine_df[\"alcohol\"].quantile(0.50)"
   ]
  },
  {
   "cell_type": "code",
   "execution_count": null,
   "id": "f9934b03",
   "metadata": {},
   "outputs": [],
   "source": [
    "wine_df[\"alcohol\"].quantile(0.75)"
   ]
  },
  {
   "cell_type": "markdown",
   "id": "da852729",
   "metadata": {},
   "source": [
    "iqr"
   ]
  },
  {
   "cell_type": "code",
   "execution_count": null,
   "id": "87c17a0d",
   "metadata": {},
   "outputs": [],
   "source": [
    "11.3-9.5"
   ]
  },
  {
   "cell_type": "code",
   "execution_count": null,
   "id": "2f4bff77",
   "metadata": {},
   "outputs": [],
   "source": [
    "minimum whisker"
   ]
  },
  {
   "cell_type": "code",
   "execution_count": null,
   "id": "3cd04471",
   "metadata": {},
   "outputs": [],
   "source": [
    "9.5-1.5*1.80"
   ]
  },
  {
   "cell_type": "code",
   "execution_count": null,
   "id": "9362718f",
   "metadata": {},
   "outputs": [],
   "source": [
    "maximum whisker"
   ]
  },
  {
   "cell_type": "code",
   "execution_count": null,
   "id": "1e5cd053",
   "metadata": {},
   "outputs": [],
   "source": [
    "11.3+1.5*1.800"
   ]
  },
  {
   "cell_type": "code",
   "execution_count": null,
   "id": "a2845598",
   "metadata": {},
   "outputs": [],
   "source": [
    "wine_df.drop(wine_df[wine_df['alcohol']>14.0].index,inplace=True)"
   ]
  },
  {
   "cell_type": "code",
   "execution_count": null,
   "id": "487b35ad",
   "metadata": {},
   "outputs": [],
   "source": [
    "sns.distplot(wine_df[\"alcohol\"])"
   ]
  },
  {
   "cell_type": "markdown",
   "id": "4b422cfb",
   "metadata": {},
   "source": [
    "from the above diagram we can sau skew is out of range "
   ]
  },
  {
   "cell_type": "code",
   "execution_count": null,
   "id": "10bc4a6d",
   "metadata": {},
   "outputs": [],
   "source": [
    "wine_df"
   ]
  },
  {
   "cell_type": "markdown",
   "id": "a64c1437",
   "metadata": {},
   "source": [
    "# there is not duplicate data so no need to use duplicates by using one hot encoding just change values of type of wine red and white to 0 and 1"
   ]
  },
  {
   "cell_type": "code",
   "execution_count": 567,
   "id": "b34f59d9",
   "metadata": {},
   "outputs": [],
   "source": [
    "wine_df=pd.get_dummies(wine_df,[\"type\"])"
   ]
  },
  {
   "cell_type": "markdown",
   "id": "5dcef07e",
   "metadata": {},
   "source": [
    "# handeling numerical values"
   ]
  },
  {
   "cell_type": "code",
   "execution_count": 571,
   "id": "c05e433a",
   "metadata": {},
   "outputs": [
    {
     "ename": "NameError",
     "evalue": "name 'Scaler' is not defined",
     "output_type": "error",
     "traceback": [
      "\u001b[1;31m---------------------------------------------------------------------------\u001b[0m",
      "\u001b[1;31mNameError\u001b[0m                                 Traceback (most recent call last)",
      "Cell \u001b[1;32mIn[571], line 1\u001b[0m\n\u001b[1;32m----> 1\u001b[0m wine_df[[\u001b[38;5;124m\"\u001b[39m\u001b[38;5;124mfixed acidity\u001b[39m\u001b[38;5;124m\"\u001b[39m,\u001b[38;5;124m\"\u001b[39m\u001b[38;5;124mresidual sugar\u001b[39m\u001b[38;5;124m\"\u001b[39m,\u001b[38;5;124m\"\u001b[39m\u001b[38;5;124mpH\u001b[39m\u001b[38;5;124m\"\u001b[39m,\u001b[38;5;124m\"\u001b[39m\u001b[38;5;124malcohol\u001b[39m\u001b[38;5;124m\"\u001b[39m]]\u001b[38;5;241m=\u001b[39m\u001b[43mScaler\u001b[49m\u001b[38;5;241m.\u001b[39mfit_transform(wine_df[[\u001b[38;5;124m\"\u001b[39m\u001b[38;5;124mfixed acidity\u001b[39m\u001b[38;5;124m\"\u001b[39m,\u001b[38;5;124m\"\u001b[39m\u001b[38;5;124mresidual sugar\u001b[39m\u001b[38;5;124m\"\u001b[39m,\u001b[38;5;124m\"\u001b[39m\u001b[38;5;124mpH\u001b[39m\u001b[38;5;124m\"\u001b[39m,\u001b[38;5;124m\"\u001b[39m\u001b[38;5;124malcohol\u001b[39m\u001b[38;5;124m\"\u001b[39m]])\n",
      "\u001b[1;31mNameError\u001b[0m: name 'Scaler' is not defined"
     ]
    }
   ],
   "source": [
    "wine_df[[\"fixed acidity\",\"residual sugar\",\"pH\",\"alcohol\"]]=Scaler.fit_transform(wine_df[[\"fixed acidity\",\"residual sugar\",\"pH\",\"alcohol\"]])"
   ]
  },
  {
   "cell_type": "code",
   "execution_count": 570,
   "id": "5d91d303",
   "metadata": {},
   "outputs": [
    {
     "ename": "NameError",
     "evalue": "name 'minmaxscaler' is not defined",
     "output_type": "error",
     "traceback": [
      "\u001b[1;31m---------------------------------------------------------------------------\u001b[0m",
      "\u001b[1;31mNameError\u001b[0m                                 Traceback (most recent call last)",
      "Cell \u001b[1;32mIn[570], line 1\u001b[0m\n\u001b[1;32m----> 1\u001b[0m wine_df[[\u001b[38;5;124m\"\u001b[39m\u001b[38;5;124mvolatile acidity\u001b[39m\u001b[38;5;124m\"\u001b[39m,\u001b[38;5;124m\"\u001b[39m\u001b[38;5;124mcitric acid\u001b[39m\u001b[38;5;124m\"\u001b[39m,\u001b[38;5;124m\"\u001b[39m\u001b[38;5;124mchlorides\u001b[39m\u001b[38;5;124m\"\u001b[39m,\u001b[38;5;124m\"\u001b[39m\u001b[38;5;124mfree sulfur dioxide\u001b[39m\u001b[38;5;124m\"\u001b[39m,\u001b[38;5;124m\"\u001b[39m\u001b[38;5;124msulplates\u001b[39m\u001b[38;5;124m\"\u001b[39m]]\u001b[38;5;241m=\u001b[39m\u001b[43mminmaxscaler\u001b[49m\u001b[38;5;241m.\u001b[39mfit_transform(wine_df[[\u001b[38;5;124m\"\u001b[39m\u001b[38;5;124mvolatile acidity\u001b[39m\u001b[38;5;124m\"\u001b[39m,\u001b[38;5;124m\"\u001b[39m\u001b[38;5;124mcitric acid\u001b[39m\u001b[38;5;124m\"\u001b[39m,\u001b[38;5;124m\"\u001b[39m\u001b[38;5;124mchlorides\u001b[39m\u001b[38;5;124m\"\u001b[39m,\u001b[38;5;124m\"\u001b[39m\u001b[38;5;124mfree sulfur dioxide\u001b[39m\u001b[38;5;124m\"\u001b[39m,\u001b[38;5;124m\"\u001b[39m\u001b[38;5;124msulplates\u001b[39m\u001b[38;5;124m\"\u001b[39m]])\n",
      "\u001b[1;31mNameError\u001b[0m: name 'minmaxscaler' is not defined"
     ]
    }
   ],
   "source": [
    "wine_df[[\"volatile acidity\",\"citric acid\",\"chlorides\",\"free sulfur dioxide\",\"sulplates\"]]=minmaxscaler.fit_transform(wine_df[[\"volatile acidity\",\"citric acid\",\"chlorides\",\"free sulfur dioxide\",\"sulplates\"]])"
   ]
  },
  {
   "cell_type": "code",
   "execution_count": 568,
   "id": "fb46dd23",
   "metadata": {},
   "outputs": [
    {
     "data": {
      "text/html": [
       "<div>\n",
       "<style scoped>\n",
       "    .dataframe tbody tr th:only-of-type {\n",
       "        vertical-align: middle;\n",
       "    }\n",
       "\n",
       "    .dataframe tbody tr th {\n",
       "        vertical-align: top;\n",
       "    }\n",
       "\n",
       "    .dataframe thead th {\n",
       "        text-align: right;\n",
       "    }\n",
       "</style>\n",
       "<table border=\"1\" class=\"dataframe\">\n",
       "  <thead>\n",
       "    <tr style=\"text-align: right;\">\n",
       "      <th></th>\n",
       "      <th>fixed acidity</th>\n",
       "      <th>volatile acidity</th>\n",
       "      <th>citric acid</th>\n",
       "      <th>residual sugar</th>\n",
       "      <th>chlorides</th>\n",
       "      <th>free sulfur dioxide</th>\n",
       "      <th>total sulfur dioxide</th>\n",
       "      <th>density</th>\n",
       "      <th>pH</th>\n",
       "      <th>sulphates</th>\n",
       "      <th>alcohol</th>\n",
       "      <th>quality</th>\n",
       "      <th>type_red</th>\n",
       "      <th>type_white</th>\n",
       "    </tr>\n",
       "  </thead>\n",
       "  <tbody>\n",
       "    <tr>\n",
       "      <th>0</th>\n",
       "      <td>7.0</td>\n",
       "      <td>0.270</td>\n",
       "      <td>0.36</td>\n",
       "      <td>20.7</td>\n",
       "      <td>0.045</td>\n",
       "      <td>45.0</td>\n",
       "      <td>170.0</td>\n",
       "      <td>1.00100</td>\n",
       "      <td>3.00</td>\n",
       "      <td>0.45</td>\n",
       "      <td>8.8</td>\n",
       "      <td>6</td>\n",
       "      <td>0</td>\n",
       "      <td>1</td>\n",
       "    </tr>\n",
       "    <tr>\n",
       "      <th>1</th>\n",
       "      <td>6.3</td>\n",
       "      <td>0.300</td>\n",
       "      <td>0.34</td>\n",
       "      <td>1.6</td>\n",
       "      <td>0.049</td>\n",
       "      <td>14.0</td>\n",
       "      <td>132.0</td>\n",
       "      <td>0.99400</td>\n",
       "      <td>3.30</td>\n",
       "      <td>0.49</td>\n",
       "      <td>9.5</td>\n",
       "      <td>6</td>\n",
       "      <td>0</td>\n",
       "      <td>1</td>\n",
       "    </tr>\n",
       "    <tr>\n",
       "      <th>2</th>\n",
       "      <td>8.1</td>\n",
       "      <td>0.280</td>\n",
       "      <td>0.40</td>\n",
       "      <td>6.9</td>\n",
       "      <td>0.050</td>\n",
       "      <td>30.0</td>\n",
       "      <td>97.0</td>\n",
       "      <td>0.99510</td>\n",
       "      <td>3.26</td>\n",
       "      <td>0.44</td>\n",
       "      <td>10.1</td>\n",
       "      <td>6</td>\n",
       "      <td>0</td>\n",
       "      <td>1</td>\n",
       "    </tr>\n",
       "    <tr>\n",
       "      <th>3</th>\n",
       "      <td>7.2</td>\n",
       "      <td>0.230</td>\n",
       "      <td>0.32</td>\n",
       "      <td>8.5</td>\n",
       "      <td>0.058</td>\n",
       "      <td>47.0</td>\n",
       "      <td>186.0</td>\n",
       "      <td>0.99560</td>\n",
       "      <td>3.19</td>\n",
       "      <td>0.40</td>\n",
       "      <td>9.9</td>\n",
       "      <td>6</td>\n",
       "      <td>0</td>\n",
       "      <td>1</td>\n",
       "    </tr>\n",
       "    <tr>\n",
       "      <th>4</th>\n",
       "      <td>7.2</td>\n",
       "      <td>0.230</td>\n",
       "      <td>0.32</td>\n",
       "      <td>8.5</td>\n",
       "      <td>0.058</td>\n",
       "      <td>47.0</td>\n",
       "      <td>186.0</td>\n",
       "      <td>0.99560</td>\n",
       "      <td>3.19</td>\n",
       "      <td>0.40</td>\n",
       "      <td>9.9</td>\n",
       "      <td>6</td>\n",
       "      <td>0</td>\n",
       "      <td>1</td>\n",
       "    </tr>\n",
       "    <tr>\n",
       "      <th>...</th>\n",
       "      <td>...</td>\n",
       "      <td>...</td>\n",
       "      <td>...</td>\n",
       "      <td>...</td>\n",
       "      <td>...</td>\n",
       "      <td>...</td>\n",
       "      <td>...</td>\n",
       "      <td>...</td>\n",
       "      <td>...</td>\n",
       "      <td>...</td>\n",
       "      <td>...</td>\n",
       "      <td>...</td>\n",
       "      <td>...</td>\n",
       "      <td>...</td>\n",
       "    </tr>\n",
       "    <tr>\n",
       "      <th>6492</th>\n",
       "      <td>6.2</td>\n",
       "      <td>0.600</td>\n",
       "      <td>0.08</td>\n",
       "      <td>2.0</td>\n",
       "      <td>0.090</td>\n",
       "      <td>32.0</td>\n",
       "      <td>44.0</td>\n",
       "      <td>0.99490</td>\n",
       "      <td>3.45</td>\n",
       "      <td>0.58</td>\n",
       "      <td>10.5</td>\n",
       "      <td>5</td>\n",
       "      <td>1</td>\n",
       "      <td>0</td>\n",
       "    </tr>\n",
       "    <tr>\n",
       "      <th>6493</th>\n",
       "      <td>5.9</td>\n",
       "      <td>0.550</td>\n",
       "      <td>0.10</td>\n",
       "      <td>2.2</td>\n",
       "      <td>0.062</td>\n",
       "      <td>39.0</td>\n",
       "      <td>51.0</td>\n",
       "      <td>0.99512</td>\n",
       "      <td>3.52</td>\n",
       "      <td>NaN</td>\n",
       "      <td>11.2</td>\n",
       "      <td>6</td>\n",
       "      <td>1</td>\n",
       "      <td>0</td>\n",
       "    </tr>\n",
       "    <tr>\n",
       "      <th>6494</th>\n",
       "      <td>6.3</td>\n",
       "      <td>0.510</td>\n",
       "      <td>0.13</td>\n",
       "      <td>2.3</td>\n",
       "      <td>0.076</td>\n",
       "      <td>29.0</td>\n",
       "      <td>40.0</td>\n",
       "      <td>0.99574</td>\n",
       "      <td>3.42</td>\n",
       "      <td>0.75</td>\n",
       "      <td>11.0</td>\n",
       "      <td>6</td>\n",
       "      <td>1</td>\n",
       "      <td>0</td>\n",
       "    </tr>\n",
       "    <tr>\n",
       "      <th>6495</th>\n",
       "      <td>5.9</td>\n",
       "      <td>0.645</td>\n",
       "      <td>0.12</td>\n",
       "      <td>2.0</td>\n",
       "      <td>0.075</td>\n",
       "      <td>32.0</td>\n",
       "      <td>44.0</td>\n",
       "      <td>0.99547</td>\n",
       "      <td>3.57</td>\n",
       "      <td>0.71</td>\n",
       "      <td>10.2</td>\n",
       "      <td>5</td>\n",
       "      <td>1</td>\n",
       "      <td>0</td>\n",
       "    </tr>\n",
       "    <tr>\n",
       "      <th>6496</th>\n",
       "      <td>6.0</td>\n",
       "      <td>0.310</td>\n",
       "      <td>0.47</td>\n",
       "      <td>3.6</td>\n",
       "      <td>0.067</td>\n",
       "      <td>18.0</td>\n",
       "      <td>42.0</td>\n",
       "      <td>0.99549</td>\n",
       "      <td>3.39</td>\n",
       "      <td>0.66</td>\n",
       "      <td>11.0</td>\n",
       "      <td>6</td>\n",
       "      <td>1</td>\n",
       "      <td>0</td>\n",
       "    </tr>\n",
       "  </tbody>\n",
       "</table>\n",
       "<p>6497 rows × 14 columns</p>\n",
       "</div>"
      ],
      "text/plain": [
       "      fixed acidity  volatile acidity  citric acid  residual sugar  chlorides  \\\n",
       "0               7.0             0.270         0.36            20.7      0.045   \n",
       "1               6.3             0.300         0.34             1.6      0.049   \n",
       "2               8.1             0.280         0.40             6.9      0.050   \n",
       "3               7.2             0.230         0.32             8.5      0.058   \n",
       "4               7.2             0.230         0.32             8.5      0.058   \n",
       "...             ...               ...          ...             ...        ...   \n",
       "6492            6.2             0.600         0.08             2.0      0.090   \n",
       "6493            5.9             0.550         0.10             2.2      0.062   \n",
       "6494            6.3             0.510         0.13             2.3      0.076   \n",
       "6495            5.9             0.645         0.12             2.0      0.075   \n",
       "6496            6.0             0.310         0.47             3.6      0.067   \n",
       "\n",
       "      free sulfur dioxide  total sulfur dioxide  density    pH  sulphates  \\\n",
       "0                    45.0                 170.0  1.00100  3.00       0.45   \n",
       "1                    14.0                 132.0  0.99400  3.30       0.49   \n",
       "2                    30.0                  97.0  0.99510  3.26       0.44   \n",
       "3                    47.0                 186.0  0.99560  3.19       0.40   \n",
       "4                    47.0                 186.0  0.99560  3.19       0.40   \n",
       "...                   ...                   ...      ...   ...        ...   \n",
       "6492                 32.0                  44.0  0.99490  3.45       0.58   \n",
       "6493                 39.0                  51.0  0.99512  3.52        NaN   \n",
       "6494                 29.0                  40.0  0.99574  3.42       0.75   \n",
       "6495                 32.0                  44.0  0.99547  3.57       0.71   \n",
       "6496                 18.0                  42.0  0.99549  3.39       0.66   \n",
       "\n",
       "      alcohol  quality  type_red  type_white  \n",
       "0         8.8        6         0           1  \n",
       "1         9.5        6         0           1  \n",
       "2        10.1        6         0           1  \n",
       "3         9.9        6         0           1  \n",
       "4         9.9        6         0           1  \n",
       "...       ...      ...       ...         ...  \n",
       "6492     10.5        5         1           0  \n",
       "6493     11.2        6         1           0  \n",
       "6494     11.0        6         1           0  \n",
       "6495     10.2        5         1           0  \n",
       "6496     11.0        6         1           0  \n",
       "\n",
       "[6497 rows x 14 columns]"
      ]
     },
     "execution_count": 568,
     "metadata": {},
     "output_type": "execute_result"
    }
   ],
   "source": [
    "wine_df"
   ]
  },
  {
   "cell_type": "markdown",
   "id": "bd5724ee",
   "metadata": {},
   "source": [
    "1-summary\n",
    "2-first did eda analysis\n",
    "3-distributed numerical and categorical colum\n",
    "4-did numrical analysis \n",
    "5-sis categorical colum analysis\n",
    "6-compared numerical and categorical colum\n",
    "7-deleted the colum\n",
    "8-data clearing \n",
    " found missing values and using fillna filled with mean value\n",
    "9-handled the outliers dropped extreme value\n",
    "10-used the method one hot encoding to chnge the unique value in numbers\n",
    "11-did scaler transform in skewd and not skewd value"
   ]
  },
  {
   "cell_type": "code",
   "execution_count": null,
   "id": "a32b4226",
   "metadata": {},
   "outputs": [],
   "source": []
  },
  {
   "cell_type": "code",
   "execution_count": null,
   "id": "8222cc8f",
   "metadata": {},
   "outputs": [],
   "source": []
  },
  {
   "cell_type": "code",
   "execution_count": null,
   "id": "4f516c7c",
   "metadata": {},
   "outputs": [],
   "source": []
  }
 ],
 "metadata": {
  "kernelspec": {
   "display_name": "Python 3 (ipykernel)",
   "language": "python",
   "name": "python3"
  },
  "language_info": {
   "codemirror_mode": {
    "name": "ipython",
    "version": 3
   },
   "file_extension": ".py",
   "mimetype": "text/x-python",
   "name": "python",
   "nbconvert_exporter": "python",
   "pygments_lexer": "ipython3",
   "version": "3.10.9"
  }
 },
 "nbformat": 4,
 "nbformat_minor": 5
}
